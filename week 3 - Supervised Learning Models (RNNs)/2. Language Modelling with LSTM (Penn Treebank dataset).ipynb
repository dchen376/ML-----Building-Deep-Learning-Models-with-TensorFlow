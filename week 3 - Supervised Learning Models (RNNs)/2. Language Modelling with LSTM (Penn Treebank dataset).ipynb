{
 "cells": [
  {
   "cell_type": "markdown",
   "metadata": {},
   "source": [
    "<img src=\"https://cf-courses-data.s3.us.cloud-object-storage.appdomain.cloud/IBMDeveloperSkillsNetwork-DL0120EN-SkillsNetwork/images/IDSN-logo.png\" width=\"300\" alt=\"cognitiveclass.ai logo\">\n",
    "\n",
    "<h1 align=\"center\"><font size=\"5\">RECURRENT NETWORKS and LSTM IN DEEP LEARNING</font></h1>\n"
   ]
  },
  {
   "cell_type": "markdown",
   "metadata": {},
   "source": [
    "Estimated time needed: **30** minutes\n"
   ]
  },
  {
   "cell_type": "markdown",
   "metadata": {},
   "source": [
    "<h2>Applying Recurrent Neural Networks/LSTM for Language Modeling</h2>\n",
    "Hello and welcome to this part. In this notebook, we will go over the topic of Language Modelling, and create a Recurrent Neural Network model based on the Long Short-Term Memory unit to train and benchmark on the Penn Treebank dataset. By the end of this notebook, you should be able to understand how TensorFlow builds and executes a RNN model for Language Modelling.\n"
   ]
  },
  {
   "cell_type": "markdown",
   "metadata": {},
   "source": [
    "<h2>The Objective</h2>\n",
    "By now, you should have an understanding of how Recurrent Networks work -- a specialized model to process sequential data by keeping track of the \"state\" or context. In this notebook, we go over a TensorFlow code snippet for creating a model focused on <b>Language Modelling</b> -- a very relevant task that is the cornerstone of many different linguistic problems such as <b>Speech Recognition, Machine Translation and Image Captioning</b>. For this, we will be using the Penn Treebank dataset, which is an often-used dataset for benchmarking Language Modelling models.\n"
   ]
  },
  {
   "cell_type": "markdown",
   "metadata": {},
   "source": [
    "\n",
    "<h2>Table of Contents</h2>\n",
    "<ol>\n",
    "    <li><a href=\"#language_modelling\">What exactly is Language Modelling?</a></li>\n",
    "    <li><a href=\"#treebank_dataset\">The Penn Treebank dataset</a></li>\n",
    "    <li><a href=\"#word_embedding\">Word Embedding</a></li>\n",
    "    <li><a href=\"#building_lstm_model\">Building the LSTM model for Language Modeling</a></li>\n",
    "    <li><a href=\"#ltsm\">LTSM</a></li>\n",
    "</ol>\n",
    "<p></p>\n",
    "</div>\n",
    "<br>\n"
   ]
  },
  {
   "cell_type": "markdown",
   "metadata": {},
   "source": [
    "--------\n"
   ]
  },
  {
   "cell_type": "markdown",
   "metadata": {},
   "source": [
    "<a id=\"language_modelling\"></a>\n",
    "<h2>What exactly is Language Modelling?</h2>\n",
    "Language Modelling, to put it simply, <b>is the task of assigning probabilities to sequences of words</b>. This means that, given a context of one or a sequence of words in the language the model was trained on, the model should provide the next most probable words or sequence of words that follows from the given sequence of words the sentence. Language Modelling is one of the most important tasks in Natural Language Processing.\n",
    "\n",
    "<img src=\"https://ibm.box.com/shared/static/1d1i5gub6wljby2vani2vzxp0xsph702.png\" width=\"1080\">\n",
    "<center><i>Example of a sentence being predicted</i></center>\n",
    "<br><br>\n",
    "In this example, one can see the predictions for the next word of a sentence, given the context \"This is an\". As you can see, this boils down to a sequential data analysis task -- you are given a word or a sequence of words (the input data), and, given the context (the state), you need to find out what is the next word (the prediction). This kind of analysis is very important for language-related tasks such as <b>Speech Recognition, Machine Translation, Image Captioning, Text Correction</b> and many other very relevant problems. \n",
    "\n",
    "<img src=\"https://ibm.box.com/shared/static/az39idf9ipfdpc5ugifpgxnydelhyf3i.png\" width=\"1080\">\n",
    "<center><i>The above example is a schema of an RNN in execution</i></center>\n",
    "<br><br>\n",
    "As the above image shows, Recurrent Network models fit this problem like a glove. Alongside LSTM and its capacity to maintain the model's state for over one thousand time steps, we have all the tools we need to undertake this problem. The goal for this notebook is to create a model that can reach <b>low levels of perplexity</b> on our desired dataset.\n",
    "\n",
    "For Language Modelling problems, <b>perplexity</b> is the way to gauge efficiency. Perplexity is simply a measure of how well a probabilistic model is able to predict its sample. A higher-level way to explain this would be saying that <b>low perplexity means a higher degree of trust in the predictions the model makes</b>. Therefore, the lower perplexity is, the better.\n"
   ]
  },
  {
   "cell_type": "markdown",
   "metadata": {},
   "source": [
    "<a id=\"treebank_dataset\"></a>\n",
    "<h2>The Penn Treebank dataset</h2>\n",
    "Historically, datasets big enough for Natural Language Processing are hard to come by. This is in part due to the necessity of the sentences to be broken down and tagged with a certain degree of correctness -- or else the models trained on it won't be able to be correct at all. This means that we need a <b>large amount of data, annotated by or at least corrected by humans</b>. This is, of course, not an easy task at all.\n",
    "\n",
    "The Penn Treebank, or PTB for short, is a dataset maintained by the University of Pennsylvania. It is <i>huge</i> -- there are over <b>four million and eight hundred thousand</b> annotated words in it, all corrected by humans. It is composed of many different sources, from abstracts of Department of Energy papers to texts from the Library of America. Since it is verifiably correct and of such a huge size, the Penn Treebank is commonly used as a benchmark dataset for Language Modelling.\n",
    "\n",
    "The dataset is divided in different kinds of annotations, such as Piece-of-Speech, Syntactic and Semantic skeletons. For this example, we will simply use a sample of clean, non-annotated words (with the exception of one tag --<code>&lt;unk&gt;</code>\n",
    ", which is used for rare words such as uncommon proper nouns) for our model. This means that we just want to predict what the next words would be, not what they mean in context or their classes on a given sentence.\n",
    "\n",
    "<center>Example of text from the dataset we are going to use, <b>ptb.train</b></center>\n",
    "<br><br>\n",
    "\n",
    "<div class=\"alert alert-block alert-info\" style=\"margin-top: 20px\">\n",
    "    <center>the percentage of lung cancer deaths among the workers at the west <code>&lt;unk&gt;</code> mass. paper factory appears to be the highest for any asbestos workers studied in western industrialized countries he said \n",
    " the plant which is owned by <code>&lt;unk&gt;</code> & <code>&lt;unk&gt;</code> co. was under contract with <code>&lt;unk&gt;</code> to make the cigarette filters \n",
    " the finding probably will support those who argue that the U.S. should regulate the class of asbestos including <code>&lt;unk&gt;</code> more <code>&lt;unk&gt;</code> than the common kind of asbestos <code>&lt;unk&gt;</code> found in most schools and other buildings dr. <code>&lt;unk&gt;</code> said</center>\n",
    "</div>\n"
   ]
  },
  {
   "cell_type": "markdown",
   "metadata": {},
   "source": [
    "<a id=\"word_embedding\"></a>\n",
    "<h2>Word Embeddings</h2><br/>\n",
    "\n",
    "For better processing, in this example, we will make use of <a href=\"https://www.tensorflow.org/tutorials/word2vec/?utm_medium=Exinfluencer&utm_source=Exinfluencer&utm_content=000026UJ&utm_term=10006555&utm_id=NA-SkillsNetwork-Channel-SkillsNetworkCoursesIBMDeveloperSkillsNetworkDL0120ENSkillsNetwork954-2023-01-01\"><b>word embeddings</b></a>, which is <b>a way of representing sentence structures or words as n-dimensional vectors (where n is a reasonably high number, such as 200 or 500) of real numbers</b>. Basically, we will assign each word a randomly-initialized vector, and input those into the network to be processed. After a number of iterations, these vectors are expected to assume values that help the network to correctly predict what it needs to -- in our case, the probable next word in the sentence. This is shown to be a very effective task in Natural Language Processing, and is a commonplace practice.\n",
    "<br><br>\n",
    "<font size=\"4\"><strong>\n",
    "$$Vec(\"Example\") = [0.02, 0.00, 0.00, 0.92, 0.30, \\ldots]$$\n",
    "</strong></font>\n",
    "<br>\n",
    "Word Embedding tends to group up similarly used words <i>reasonably</i> close together in the vectorial space. For example, if we use T-SNE (a dimensional reduction visualization algorithm) to flatten the dimensions of our vectors into a 2-dimensional space and plot these words in a 2-dimensional space, we might see something like this:\n",
    "\n",
    "<img src=\"https://ibm.box.com/shared/static/bqhc5dg879gcoabzhxra1w8rkg3od1cu.png\" width=\"800\">\n",
    "<center><i>T-SNE Mockup with clusters marked for easier visualization</i></center>\n",
    "<br><br>\n",
    "As you can see, words that are frequently used together, in place of each other, or in the same places as them tend to be grouped together -- being closer together the higher they are correlated. For example, \"None\" is pretty semantically close to \"Zero\", while a phrase that uses \"Italy\", you could probably also fit \"Germany\" in it, with little damage to the sentence structure. The vectorial \"closeness\" for similar words like this is a great indicator of a well-built model.\n",
    "\n",
    "<hr>\n",
    " \n"
   ]
  },
  {
   "cell_type": "markdown",
   "metadata": {},
   "source": [
    "We need to import the necessary modules for our code. We need <b><code>numpy</code></b> and <b><code>tensorflow</code></b>, obviously. Additionally, we can import directly the <b><code>tensorflow.models.rnn</code></b> model, which includes the function for building RNNs, and <b><code>tensorflow.models.rnn.ptb.reader</code></b> which is the helper module for getting the input data from the dataset we just downloaded.\n",
    "\n",
    "If you want to learn more take a look at https://github.com/tensorflow/models/blob/master/tutorials/rnn/ptb/reader.py\n"
   ]
  },
  {
   "cell_type": "code",
   "execution_count": 1,
   "metadata": {
    "tags": []
   },
   "outputs": [
    {
     "name": "stdout",
     "output_type": "stream",
     "text": [
      "Requirement already satisfied: tensorflow==2.9.0 in /home/jupyterlab/conda/envs/python/lib/python3.7/site-packages (2.9.0)\n",
      "Requirement already satisfied: absl-py>=1.0.0 in /home/jupyterlab/conda/envs/python/lib/python3.7/site-packages (from tensorflow==2.9.0) (1.4.0)\n",
      "Requirement already satisfied: astunparse>=1.6.0 in /home/jupyterlab/conda/envs/python/lib/python3.7/site-packages (from tensorflow==2.9.0) (1.6.3)\n",
      "Requirement already satisfied: flatbuffers<2,>=1.12 in /home/jupyterlab/conda/envs/python/lib/python3.7/site-packages (from tensorflow==2.9.0) (1.12)\n",
      "Requirement already satisfied: gast<=0.4.0,>=0.2.1 in /home/jupyterlab/conda/envs/python/lib/python3.7/site-packages (from tensorflow==2.9.0) (0.4.0)\n",
      "Requirement already satisfied: google-pasta>=0.1.1 in /home/jupyterlab/conda/envs/python/lib/python3.7/site-packages (from tensorflow==2.9.0) (0.2.0)\n",
      "Requirement already satisfied: grpcio<2.0,>=1.24.3 in /home/jupyterlab/conda/envs/python/lib/python3.7/site-packages (from tensorflow==2.9.0) (1.48.1)\n",
      "Requirement already satisfied: h5py>=2.9.0 in /home/jupyterlab/conda/envs/python/lib/python3.7/site-packages (from tensorflow==2.9.0) (3.8.0)\n",
      "Requirement already satisfied: keras<2.10.0,>=2.9.0rc0 in /home/jupyterlab/conda/envs/python/lib/python3.7/site-packages (from tensorflow==2.9.0) (2.9.0)\n",
      "Requirement already satisfied: keras-preprocessing>=1.1.1 in /home/jupyterlab/conda/envs/python/lib/python3.7/site-packages (from tensorflow==2.9.0) (1.1.2)\n",
      "Requirement already satisfied: libclang>=13.0.0 in /home/jupyterlab/conda/envs/python/lib/python3.7/site-packages (from tensorflow==2.9.0) (18.1.1)\n",
      "Requirement already satisfied: numpy>=1.20 in /home/jupyterlab/conda/envs/python/lib/python3.7/site-packages (from tensorflow==2.9.0) (1.21.4)\n",
      "Requirement already satisfied: opt-einsum>=2.3.2 in /home/jupyterlab/conda/envs/python/lib/python3.7/site-packages (from tensorflow==2.9.0) (3.3.0)\n",
      "Requirement already satisfied: packaging in /home/jupyterlab/conda/envs/python/lib/python3.7/site-packages (from tensorflow==2.9.0) (23.1)\n",
      "Requirement already satisfied: protobuf>=3.9.2 in /home/jupyterlab/conda/envs/python/lib/python3.7/site-packages (from tensorflow==2.9.0) (3.19.6)\n",
      "Requirement already satisfied: setuptools in /home/jupyterlab/conda/envs/python/lib/python3.7/site-packages (from tensorflow==2.9.0) (67.7.2)\n",
      "Requirement already satisfied: six>=1.12.0 in /home/jupyterlab/conda/envs/python/lib/python3.7/site-packages (from tensorflow==2.9.0) (1.16.0)\n",
      "Requirement already satisfied: tensorboard<2.10,>=2.9 in /home/jupyterlab/conda/envs/python/lib/python3.7/site-packages (from tensorflow==2.9.0) (2.9.1)\n",
      "Requirement already satisfied: tensorflow-io-gcs-filesystem>=0.23.1 in /home/jupyterlab/conda/envs/python/lib/python3.7/site-packages (from tensorflow==2.9.0) (0.34.0)\n",
      "Requirement already satisfied: tensorflow-estimator<2.10.0,>=2.9.0rc0 in /home/jupyterlab/conda/envs/python/lib/python3.7/site-packages (from tensorflow==2.9.0) (2.9.0)\n",
      "Requirement already satisfied: termcolor>=1.1.0 in /home/jupyterlab/conda/envs/python/lib/python3.7/site-packages (from tensorflow==2.9.0) (2.3.0)\n",
      "Requirement already satisfied: typing-extensions>=3.6.6 in /home/jupyterlab/conda/envs/python/lib/python3.7/site-packages (from tensorflow==2.9.0) (4.5.0)\n",
      "Requirement already satisfied: wrapt>=1.11.0 in /home/jupyterlab/conda/envs/python/lib/python3.7/site-packages (from tensorflow==2.9.0) (1.14.1)\n",
      "Requirement already satisfied: wheel<1.0,>=0.23.0 in /home/jupyterlab/conda/envs/python/lib/python3.7/site-packages (from astunparse>=1.6.0->tensorflow==2.9.0) (0.40.0)\n",
      "Requirement already satisfied: google-auth<3,>=1.6.3 in /home/jupyterlab/conda/envs/python/lib/python3.7/site-packages (from tensorboard<2.10,>=2.9->tensorflow==2.9.0) (2.29.0)\n",
      "Requirement already satisfied: google-auth-oauthlib<0.5,>=0.4.1 in /home/jupyterlab/conda/envs/python/lib/python3.7/site-packages (from tensorboard<2.10,>=2.9->tensorflow==2.9.0) (0.4.6)\n",
      "Requirement already satisfied: markdown>=2.6.8 in /home/jupyterlab/conda/envs/python/lib/python3.7/site-packages (from tensorboard<2.10,>=2.9->tensorflow==2.9.0) (3.4.3)\n",
      "Requirement already satisfied: requests<3,>=2.21.0 in /home/jupyterlab/conda/envs/python/lib/python3.7/site-packages (from tensorboard<2.10,>=2.9->tensorflow==2.9.0) (2.29.0)\n",
      "Requirement already satisfied: tensorboard-data-server<0.7.0,>=0.6.0 in /home/jupyterlab/conda/envs/python/lib/python3.7/site-packages (from tensorboard<2.10,>=2.9->tensorflow==2.9.0) (0.6.1)\n",
      "Requirement already satisfied: tensorboard-plugin-wit>=1.6.0 in /home/jupyterlab/conda/envs/python/lib/python3.7/site-packages (from tensorboard<2.10,>=2.9->tensorflow==2.9.0) (1.8.1)\n",
      "Requirement already satisfied: werkzeug>=1.0.1 in /home/jupyterlab/conda/envs/python/lib/python3.7/site-packages (from tensorboard<2.10,>=2.9->tensorflow==2.9.0) (2.2.3)\n",
      "Requirement already satisfied: cachetools<6.0,>=2.0.0 in /home/jupyterlab/conda/envs/python/lib/python3.7/site-packages (from google-auth<3,>=1.6.3->tensorboard<2.10,>=2.9->tensorflow==2.9.0) (5.3.3)\n",
      "Requirement already satisfied: pyasn1-modules>=0.2.1 in /home/jupyterlab/conda/envs/python/lib/python3.7/site-packages (from google-auth<3,>=1.6.3->tensorboard<2.10,>=2.9->tensorflow==2.9.0) (0.3.0)\n",
      "Requirement already satisfied: rsa<5,>=3.1.4 in /home/jupyterlab/conda/envs/python/lib/python3.7/site-packages (from google-auth<3,>=1.6.3->tensorboard<2.10,>=2.9->tensorflow==2.9.0) (4.9)\n",
      "Requirement already satisfied: requests-oauthlib>=0.7.0 in /home/jupyterlab/conda/envs/python/lib/python3.7/site-packages (from google-auth-oauthlib<0.5,>=0.4.1->tensorboard<2.10,>=2.9->tensorflow==2.9.0) (2.0.0)\n",
      "Requirement already satisfied: importlib-metadata>=4.4 in /home/jupyterlab/conda/envs/python/lib/python3.7/site-packages (from markdown>=2.6.8->tensorboard<2.10,>=2.9->tensorflow==2.9.0) (4.11.4)\n",
      "Requirement already satisfied: charset-normalizer<4,>=2 in /home/jupyterlab/conda/envs/python/lib/python3.7/site-packages (from requests<3,>=2.21.0->tensorboard<2.10,>=2.9->tensorflow==2.9.0) (3.1.0)\n",
      "Requirement already satisfied: idna<4,>=2.5 in /home/jupyterlab/conda/envs/python/lib/python3.7/site-packages (from requests<3,>=2.21.0->tensorboard<2.10,>=2.9->tensorflow==2.9.0) (3.4)\n",
      "Requirement already satisfied: urllib3<1.27,>=1.21.1 in /home/jupyterlab/conda/envs/python/lib/python3.7/site-packages (from requests<3,>=2.21.0->tensorboard<2.10,>=2.9->tensorflow==2.9.0) (1.26.15)\n",
      "Requirement already satisfied: certifi>=2017.4.17 in /home/jupyterlab/conda/envs/python/lib/python3.7/site-packages (from requests<3,>=2.21.0->tensorboard<2.10,>=2.9->tensorflow==2.9.0) (2023.5.7)\n",
      "Requirement already satisfied: MarkupSafe>=2.1.1 in /home/jupyterlab/conda/envs/python/lib/python3.7/site-packages (from werkzeug>=1.0.1->tensorboard<2.10,>=2.9->tensorflow==2.9.0) (2.1.1)\n",
      "Requirement already satisfied: zipp>=0.5 in /home/jupyterlab/conda/envs/python/lib/python3.7/site-packages (from importlib-metadata>=4.4->markdown>=2.6.8->tensorboard<2.10,>=2.9->tensorflow==2.9.0) (3.15.0)\n",
      "Requirement already satisfied: pyasn1<0.6.0,>=0.4.6 in /home/jupyterlab/conda/envs/python/lib/python3.7/site-packages (from pyasn1-modules>=0.2.1->google-auth<3,>=1.6.3->tensorboard<2.10,>=2.9->tensorflow==2.9.0) (0.5.0)\n",
      "Requirement already satisfied: oauthlib>=3.0.0 in /home/jupyterlab/conda/envs/python/lib/python3.7/site-packages (from requests-oauthlib>=0.7.0->google-auth-oauthlib<0.5,>=0.4.1->tensorboard<2.10,>=2.9->tensorflow==2.9.0) (3.2.2)\n",
      "Requirement already satisfied: numpy==1.21.4 in /home/jupyterlab/conda/envs/python/lib/python3.7/site-packages (1.21.4)\n"
     ]
    }
   ],
   "source": [
    "!pip install tensorflow==2.9.0\n",
    "!pip install numpy==1.21.4\n"
   ]
  },
  {
   "cell_type": "code",
   "execution_count": 2,
   "metadata": {
    "tags": []
   },
   "outputs": [
    {
     "name": "stderr",
     "output_type": "stream",
     "text": [
      "2024-04-04 05:55:58.057665: I tensorflow/core/util/util.cc:169] oneDNN custom operations are on. You may see slightly different numerical results due to floating-point round-off errors from different computation orders. To turn them off, set the environment variable `TF_ENABLE_ONEDNN_OPTS=0`.\n",
      "2024-04-04 05:55:58.064989: W tensorflow/stream_executor/platform/default/dso_loader.cc:64] Could not load dynamic library 'libcudart.so.11.0'; dlerror: libcudart.so.11.0: cannot open shared object file: No such file or directory\n",
      "2024-04-04 05:55:58.065019: I tensorflow/stream_executor/cuda/cudart_stub.cc:29] Ignore above cudart dlerror if you do not have a GPU set up on your machine.\n"
     ]
    }
   ],
   "source": [
    "import time\n",
    "import numpy as np\n",
    "import tensorflow as tf\n",
    "if not tf.__version__ == '2.9.0':\n",
    "    print(tf.__version__)\n",
    "    raise ValueError('please upgrade to TensorFlow 2.9.0, or restart your Kernel (Kernel->Restart & Clear Output)')"
   ]
  },
  {
   "cell_type": "markdown",
   "metadata": {},
   "source": [
    "IMPORTANT! => Please restart the kernel by clicking on \"Kernel\"->\"Restart and Clear Outout\" and wait until all output disapears. Then your changes are beeing picked up\n"
   ]
  },
  {
   "cell_type": "code",
   "execution_count": 3,
   "metadata": {
    "tags": []
   },
   "outputs": [],
   "source": [
    "#!mkdir data\n",
    "#!mkdir data/ptb\n",
    "#!wget -q -O data/ptb/reader.py https://cf-courses-data.s3.us.cloud-object-storage.appdomain.cloud/IBMDeveloperSkillsNetwork-DL0120EN-SkillsNetwork/labs/Week3/data/ptb/reader.py\n",
    "#!cp data/ptb/reader.py .\n",
    "\n"
   ]
  },
  {
   "cell_type": "code",
   "execution_count": 4,
   "metadata": {
    "tags": []
   },
   "outputs": [],
   "source": [
    "# Copyright 2015 The TensorFlow Authors. All Rights Reserved.\n",
    "#\n",
    "# Licensed under the Apache License, Version 2.0 (the \"License\");\n",
    "# you may not use this file except in compliance with the License.\n",
    "# You may obtain a copy of the License at\n",
    "#\n",
    "#     http://www.apache.org/licenses/LICENSE-2.0\n",
    "#\n",
    "# Unless required by applicable law or agreed to in writing, software\n",
    "# distributed under the License is distributed on an \"AS IS\" BASIS,\n",
    "# WITHOUT WARRANTIES OR CONDITIONS OF ANY KIND, either express or implied.\n",
    "# See the License for the specific language governing permissions and\n",
    "# limitations under the License.\n",
    "# ==============================================================================\n",
    "\n",
    "\n",
    "\"\"\"Utilities for parsing PTB text files.\"\"\"\n",
    "from __future__ import absolute_import\n",
    "from __future__ import division\n",
    "from __future__ import print_function\n",
    "\n",
    "import collections\n",
    "import os\n",
    "\n",
    "import numpy as np\n",
    "import tensorflow as tf\n",
    "\n",
    "\n",
    "def _read_words(filename):\n",
    "  with tf.io.gfile.GFile(filename, \"r\") as f:\n",
    "    return f.read().replace(\"\\n\", \"<eos>\").split()\n",
    "\n",
    "\n",
    "def _build_vocab(filename):\n",
    "  data = _read_words(filename)\n",
    "\n",
    "  counter = collections.Counter(data)\n",
    "  count_pairs = sorted(counter.items(), key=lambda x: (-x[1], x[0]))\n",
    "\n",
    "  words, _ = list(zip(*count_pairs))\n",
    "  word_to_id = dict(zip(words, range(len(words))))\n",
    "\n",
    "  return word_to_id\n",
    "\n",
    "\n",
    "def _file_to_word_ids(filename, word_to_id):\n",
    "  data = _read_words(filename)\n",
    "  return [word_to_id[word] for word in data if word in word_to_id]\n",
    "\n",
    "\n",
    "def ptb_raw_data(data_path=None):\n",
    "  \"\"\"Load PTB raw data from data directory \"data_path\".\n",
    "\n",
    "  Reads PTB text files, converts strings to integer ids,\n",
    "  and performs mini-batching of the inputs.\n",
    "\n",
    "  The PTB dataset comes from Tomas Mikolov's webpage:\n",
    "\n",
    "  http://www.fit.vutbr.cz/~imikolov/rnnlm/simple-examples.tgz\n",
    "\n",
    "  Args:\n",
    "    data_path: string path to the directory where simple-examples.tgz has\n",
    "      been extracted.\n",
    "\n",
    "  Returns:\n",
    "    tuple (train_data, valid_data, test_data, vocabulary)\n",
    "    where each of the data objects can be passed to PTBIterator.\n",
    "  \"\"\"\n",
    "\n",
    "  train_path = os.path.join(data_path, \"ptb.train.txt\")\n",
    "  valid_path = os.path.join(data_path, \"ptb.valid.txt\")\n",
    "  test_path = os.path.join(data_path, \"ptb.test.txt\")\n",
    "\n",
    "  word_to_id = _build_vocab(train_path)\n",
    "  train_data = _file_to_word_ids(train_path, word_to_id)\n",
    "  valid_data = _file_to_word_ids(valid_path, word_to_id)\n",
    "  test_data = _file_to_word_ids(test_path, word_to_id)\n",
    "  vocabulary = len(word_to_id)\n",
    "  return train_data, valid_data, test_data, vocabulary, word_to_id\n",
    "\n",
    "\n",
    "def ptb_iterator(raw_data, batch_size, num_steps):\n",
    "  \"\"\"Iterate on the raw PTB data.\n",
    "\n",
    "  This generates batch_size pointers into the raw PTB data, and allows\n",
    "  minibatch iteration along these pointers.\n",
    "\n",
    "  Args:\n",
    "    raw_data: one of the raw data outputs from ptb_raw_data.\n",
    "    batch_size: int, the batch size.\n",
    "    num_steps: int, the number of unrolls.\n",
    "\n",
    "  Yields:\n",
    "    Pairs of the batched data, each a matrix of shape [batch_size, num_steps].\n",
    "    The second element of the tuple is the same data time-shifted to the\n",
    "    right by one.\n",
    "\n",
    "  Raises:\n",
    "    ValueError: if batch_size or num_steps are too high.\n",
    "  \"\"\"\n",
    "  raw_data = np.array(raw_data, dtype=np.int32)\n",
    "\n",
    "  data_len = len(raw_data)\n",
    "  batch_len = data_len // batch_size\n",
    "  data = np.zeros([batch_size, batch_len], dtype=np.int32)\n",
    "  for i in range(batch_size):\n",
    "    data[i] = raw_data[batch_len * i:batch_len * (i + 1)]\n",
    "\n",
    "  epoch_size = (batch_len - 1) // num_steps\n",
    "\n",
    "  if epoch_size == 0:\n",
    "    raise ValueError(\"epoch_size == 0, decrease batch_size or num_steps\")\n",
    "\n",
    "  for i in range(epoch_size):\n",
    "    x = data[:, i*num_steps:(i+1)*num_steps]\n",
    "    y = data[:, i*num_steps+1:(i+1)*num_steps+1]\n",
    "    yield (x, y)"
   ]
  },
  {
   "cell_type": "markdown",
   "metadata": {},
   "source": [
    "<a id=\"building_lstm_model\"></a>\n",
    "<h2>Building the LSTM model for Language Modeling</h2>\n",
    "Now that we know exactly what we are doing, we can start building our model using TensorFlow. The very first thing we need to do is download and extract the <code>simple-examples</code> dataset, which can be done by executing the code cell below.\n"
   ]
  },
  {
   "cell_type": "code",
   "execution_count": 5,
   "metadata": {
    "tags": []
   },
   "outputs": [
    {
     "name": "stdout",
     "output_type": "stream",
     "text": [
      "--2024-04-04 05:56:00--  http://www.fit.vutbr.cz/~imikolov/rnnlm/simple-examples.tgz\n",
      "Resolving www.fit.vutbr.cz (www.fit.vutbr.cz)... 147.229.9.23, 147.229.9.23\n",
      "Connecting to www.fit.vutbr.cz (www.fit.vutbr.cz)|147.229.9.23|:80... connected.\n",
      "HTTP request sent, awaiting response... 200 OK\n",
      "Length: 34869662 (33M) [application/x-gtar]\n",
      "Saving to: ‘simple-examples.tgz.8’\n",
      "\n",
      "simple-examples.tgz 100%[===================>]  33.25M  9.39MB/s    in 4.5s    \n",
      "\n",
      "2024-04-04 05:56:05 (7.36 MB/s) - ‘simple-examples.tgz.8’ saved [34869662/34869662]\n",
      "\n",
      "tar: data: Cannot open: No such file or directory\n",
      "tar: Error is not recoverable: exiting now\n"
     ]
    }
   ],
   "source": [
    "!wget http://www.fit.vutbr.cz/~imikolov/rnnlm/simple-examples.tgz \n",
    "!tar xzf simple-examples.tgz -C data/"
   ]
  },
  {
   "cell_type": "markdown",
   "metadata": {},
   "source": [
    "Additionally, for the sake of making it easy to play around with the model's hyperparameters, we can declare them beforehand. Feel free to change these -- you will see a difference in performance each time you change those!  \n"
   ]
  },
  {
   "cell_type": "code",
   "execution_count": 6,
   "metadata": {
    "tags": []
   },
   "outputs": [],
   "source": [
    "#Initial weight scale\n",
    "init_scale = 0.1\n",
    "#Initial learning rate\n",
    "learning_rate = 1.0\n",
    "#Maximum permissible norm for the gradient (For gradient clipping -- another measure against Exploding Gradients)\n",
    "max_grad_norm = 5\n",
    "#The number of layers in our model\n",
    "num_layers = 2\n",
    "#The total number of recurrence steps, also known as the number of layers when our RNN is \"unfolded\"\n",
    "num_steps = 20\n",
    "#The number of processing units (neurons) in the hidden layers\n",
    "hidden_size_l1 = 256\n",
    "hidden_size_l2 = 128\n",
    "#The maximum number of epochs trained with the initial learning rate\n",
    "max_epoch_decay_lr = 4\n",
    "#The total number of epochs in training\n",
    "max_epoch = 15\n",
    "#The probability for keeping data in the Dropout Layer (This is an optimization, but is outside our scope for this notebook!)\n",
    "#At 1, we ignore the Dropout Layer wrapping.\n",
    "keep_prob = 1\n",
    "#The decay for the learning rate\n",
    "decay = 0.5\n",
    "#The size for each batch of data\n",
    "batch_size = 30\n",
    "#The size of our vocabulary\n",
    "vocab_size = 10000\n",
    "embeding_vector_size= 200\n",
    "#Training flag to separate training from testing\n",
    "is_training = 1\n",
    "#Data directory for our dataset\n",
    "# data_dir = \"data/simple-examples/data/\"\n",
    "data_dir = \"simple-examples/data/\""
   ]
  },
  {
   "cell_type": "markdown",
   "metadata": {},
   "source": [
    "Some clarifications for LSTM architecture based on the arguments:\n",
    "\n",
    "Network structure:\n",
    "<ul>\n",
    "    <li>In this network, the number of LSTM cells are 2. To give the model more expressive power, we can add multiple layers of LSTMs to process the data. The output of the first layer will become the input of the second and so on.\n",
    "    </li>\n",
    "    <li>The recurrence steps is 20, that is, when our RNN is \"Unfolded\", the recurrence step is 20.</li>   \n",
    "    <li>the structure is like:\n",
    "        <ul>\n",
    "            <li>200 input units -> [200x200] Weight -> 200 Hidden units (first layer) -> [200x200] Weight matrix  -> 200 Hidden units (second layer) ->  [200] weight Matrix -> 200 unit output</li>\n",
    "        </ul>\n",
    "    </li>\n",
    "</ul>\n",
    "<br>\n",
    "\n",
    "Input layer: \n",
    "<ul>\n",
    "    <li>The network has 200 input units.</li>\n",
    "    <li>Suppose each word is represented by an embedding vector of dimensionality e=200. The input layer of each cell will have 200 linear units. These e=200 linear units are connected to each of the h=200 LSTM units in the hidden layer (assuming there is only one hidden layer, though our case has 2 layers).\n",
    "    </li>\n",
    "    <li>The input shape is [batch_size, num_steps], that is [30x20]. It will turn into [30x20x200] after embedding, and then 20x[30x200]\n",
    "    </li>\n",
    "</ul>\n",
    "<br>\n",
    "\n",
    "Hidden layer:\n",
    "<ul>\n",
    "    <li>Each LSTM has 200 hidden units which is equivalent to the dimensionality of the embedding words and output.</li>\n",
    "</ul>\n",
    "<br>\n"
   ]
  },
  {
   "cell_type": "markdown",
   "metadata": {
    "tags": []
   },
   "source": [
    "There is a lot to be done and a ton of information to process at the same time, so go over this code slowly. It may seem complex at first, but if you try to apply what you just learned about language modelling to the code you see, you should be able to understand it.\n",
    "\n",
    "This code is adapted from the <a href=\"https://github.com/tensorflow/models\">PTBModel</a> example bundled with the TensorFlow source code.\n",
    "\n",
    "\n",
    "<h3>Training data</h3>\n",
    "The story starts from data:\n",
    "<ul>\n",
    "    <li>Train data is a list of words, of size 929589, represented by numbers, e.g. [9971, 9972, 9974, 9975,...]</li>\n",
    "    <li>We read data as mini-batch of size b=30. Assume the size of each sentence is 20 words (num_steps = 20). Then it will take $$floor(\\frac{N}{b \\times h})+1=1548$$ iterations for the learner to go through all sentences once. Where N is the size of the list of words, b is batch size, and h is size of each sentence. So, the number of iterators is 1548\n",
    "    </li>\n",
    "    <li>Each batch data is read from train dataset of size 600, and shape of [30x20]</li>\n",
    "</ul>\n"
   ]
  },
  {
   "cell_type": "code",
   "execution_count": 7,
   "metadata": {
    "tags": []
   },
   "outputs": [],
   "source": [
    "# Reads the data and separates it into training data, validation data and testing data\n",
    "raw_data = ptb_raw_data(data_dir)\n",
    "train_data, valid_data, test_data, vocab, word_to_id = raw_data"
   ]
  },
  {
   "cell_type": "code",
   "execution_count": 8,
   "metadata": {
    "tags": []
   },
   "outputs": [
    {
     "data": {
      "text/plain": [
       "929589"
      ]
     },
     "execution_count": 8,
     "metadata": {},
     "output_type": "execute_result"
    }
   ],
   "source": [
    "len(train_data)"
   ]
  },
  {
   "cell_type": "code",
   "execution_count": 9,
   "metadata": {
    "tags": []
   },
   "outputs": [
    {
     "name": "stdout",
     "output_type": "stream",
     "text": [
      "['aer', 'banknote', 'berlitz', 'calloway', 'centrust', 'cluett', 'fromstein', 'gitano', 'guterman', 'hydro-quebec', 'ipo', 'kia', 'memotec', 'mlx', 'nahb', 'punts', 'rake', 'regatta', 'rubens', 'sim', 'snack-food', 'ssangyong', 'swapo', 'wachter', '<eos>', 'pierre', '<unk>', 'N', 'years', 'old', 'will', 'join', 'the', 'board', 'as', 'a', 'nonexecutive', 'director', 'nov.', 'N', '<eos>', 'mr.', '<unk>', 'is', 'chairman', 'of', '<unk>', 'n.v.', 'the', 'dutch', 'publishing', 'group', '<eos>', 'rudolph', '<unk>', 'N', 'years', 'old', 'and', 'former', 'chairman', 'of', 'consolidated', 'gold', 'fields', 'plc', 'was', 'named', 'a', 'nonexecutive', 'director', 'of', 'this', 'british', 'industrial', 'conglomerate', '<eos>', 'a', 'form', 'of', 'asbestos', 'once', 'used', 'to', 'make', 'kent', 'cigarette', 'filters', 'has', 'caused', 'a', 'high', 'percentage', 'of', 'cancer', 'deaths', 'among', 'a', 'group', 'of']\n"
     ]
    }
   ],
   "source": [
    "def id_to_word(id_list):\n",
    "    line = []\n",
    "    for w in id_list:\n",
    "        for word, wid in word_to_id.items():\n",
    "            if wid == w:\n",
    "                line.append(word)\n",
    "    return line            \n",
    "                \n",
    "\n",
    "print(id_to_word(train_data[0:100]))"
   ]
  },
  {
   "cell_type": "markdown",
   "metadata": {},
   "source": [
    "Lets just read one mini-batch now and feed our network:\n"
   ]
  },
  {
   "cell_type": "code",
   "execution_count": 10,
   "metadata": {
    "tags": []
   },
   "outputs": [],
   "source": [
    "itera = ptb_iterator(train_data, batch_size, num_steps) #method allows words connected with pointers.\n",
    "first_touple = itera.__next__()\n",
    "_input_data = first_touple[0]\n",
    "_targets = first_touple[1]"
   ]
  },
  {
   "cell_type": "code",
   "execution_count": 11,
   "metadata": {
    "tags": []
   },
   "outputs": [
    {
     "data": {
      "text/plain": [
       "(30, 20)"
      ]
     },
     "execution_count": 11,
     "metadata": {},
     "output_type": "execute_result"
    }
   ],
   "source": [
    "_input_data.shape"
   ]
  },
  {
   "cell_type": "code",
   "execution_count": 12,
   "metadata": {
    "tags": []
   },
   "outputs": [
    {
     "data": {
      "text/plain": [
       "(30, 20)"
      ]
     },
     "execution_count": 12,
     "metadata": {},
     "output_type": "execute_result"
    }
   ],
   "source": [
    "_targets.shape"
   ]
  },
  {
   "cell_type": "markdown",
   "metadata": {},
   "source": [
    "Lets look at 3 sentences of our input x:\n"
   ]
  },
  {
   "cell_type": "code",
   "execution_count": 13,
   "metadata": {
    "tags": []
   },
   "outputs": [
    {
     "data": {
      "text/plain": [
       "array([[9970, 9971, 9972, 9974, 9975, 9976, 9980, 9981, 9982, 9983, 9984,\n",
       "        9986, 9987, 9988, 9989, 9991, 9992, 9993, 9994, 9995],\n",
       "       [2654,    6,  334, 2886,    4,    1,  233,  711,  834,   11,  130,\n",
       "         123,    7,  514,    2,   63,   10,  514,    8,  605],\n",
       "       [   0, 1071,    4,    0,  185,   24,  368,   20,   31, 3109,  954,\n",
       "          12,    3,   21,    2, 2915,    2,   12,    3,   21]],\n",
       "      dtype=int32)"
      ]
     },
     "execution_count": 13,
     "metadata": {},
     "output_type": "execute_result"
    }
   ],
   "source": [
    "_input_data[0:3]"
   ]
  },
  {
   "cell_type": "code",
   "execution_count": 14,
   "metadata": {
    "tags": []
   },
   "outputs": [],
   "source": [
    "# _targets[0:3]"
   ]
  },
  {
   "cell_type": "code",
   "execution_count": 15,
   "metadata": {
    "tags": []
   },
   "outputs": [
    {
     "name": "stdout",
     "output_type": "stream",
     "text": [
      "['aer', 'banknote', 'berlitz', 'calloway', 'centrust', 'cluett', 'fromstein', 'gitano', 'guterman', 'hydro-quebec', 'ipo', 'kia', 'memotec', 'mlx', 'nahb', 'punts', 'rake', 'regatta', 'rubens', 'sim']\n"
     ]
    }
   ],
   "source": [
    "print(id_to_word(_input_data[0,:]))"
   ]
  },
  {
   "cell_type": "markdown",
   "metadata": {
    "tags": []
   },
   "source": [
    "<h3>Embeddings</h3>\n",
    "We have to convert the words in our dataset to vectors of numbers. The traditional approach is to use one-hot encoding method that is usually used for converting categorical values to numerical values. However, One-hot encoded vectors are high-dimensional, sparse and in a big dataset, computationally inefficient. So, we use word2vec approach. It is, in fact, a layer in our LSTM network, where the word IDs will be represented as a dense representation before feeding to the LSTM. \n",
    "\n",
    "The embedded vectors also get updated during the training process of the deep neural network.\n",
    "We create the embeddings for our input data. <b>embedding_vocab</b> is matrix of [10000x200] for all 10000 unique words.\n"
   ]
  },
  {
   "cell_type": "markdown",
   "metadata": {},
   "source": [
    "<b>embedding_lookup()</b> finds the embedded values for our batch of 30x20 words. It  goes to each row of <code>input_data</code>, and for each word in the row/sentence, finds the correspond vector in <code>embedding_dic<code>. <br>\n",
    "It creates a [30x20x200] tensor, so, the first element of <b>inputs</b> (the first sentence), is a matrix of 20x200, which each row of it, is vector representing a word in the sentence.\n"
   ]
  },
  {
   "cell_type": "code",
   "execution_count": 16,
   "metadata": {
    "tags": []
   },
   "outputs": [],
   "source": [
    "embedding_layer = tf.keras.layers.Embedding(vocab_size, embeding_vector_size,batch_input_shape=(batch_size, num_steps),trainable=True,name=\"embedding_vocab\")  "
   ]
  },
  {
   "cell_type": "code",
   "execution_count": 17,
   "metadata": {
    "tags": []
   },
   "outputs": [
    {
     "name": "stderr",
     "output_type": "stream",
     "text": [
      "2024-04-04 05:56:08.185803: W tensorflow/stream_executor/platform/default/dso_loader.cc:64] Could not load dynamic library 'libcuda.so.1'; dlerror: libcuda.so.1: cannot open shared object file: No such file or directory\n",
      "2024-04-04 05:56:08.185866: W tensorflow/stream_executor/cuda/cuda_driver.cc:269] failed call to cuInit: UNKNOWN ERROR (303)\n",
      "2024-04-04 05:56:08.185905: I tensorflow/stream_executor/cuda/cuda_diagnostics.cc:156] kernel driver does not appear to be running on this host (jupyterlab-dongping07): /proc/driver/nvidia/version does not exist\n",
      "2024-04-04 05:56:08.186449: I tensorflow/core/platform/cpu_feature_guard.cc:193] This TensorFlow binary is optimized with oneAPI Deep Neural Network Library (oneDNN) to use the following CPU instructions in performance-critical operations:  AVX2 AVX512F AVX512_VNNI FMA\n",
      "To enable them in other operations, rebuild TensorFlow with the appropriate compiler flags.\n"
     ]
    },
    {
     "data": {
      "text/plain": [
       "<tf.Tensor: shape=(30, 20, 200), dtype=float32, numpy=\n",
       "array([[[ 1.56169012e-03, -2.91663650e-02,  2.63406299e-02, ...,\n",
       "          3.00693177e-02,  1.99794210e-02, -7.04665110e-03],\n",
       "        [ 4.39340360e-02,  5.62862307e-03, -2.88506150e-02, ...,\n",
       "         -3.83866914e-02,  2.87782289e-02,  3.54232639e-03],\n",
       "        [-3.93943191e-02,  3.08781974e-02, -5.48060983e-03, ...,\n",
       "          2.45956331e-03,  2.82874145e-02, -3.45823281e-02],\n",
       "        ...,\n",
       "        [ 4.80133034e-02, -2.83801556e-03,  1.23503320e-02, ...,\n",
       "          1.27155669e-02,  4.14736569e-05, -6.05397299e-03],\n",
       "        [ 3.55779566e-02, -1.44594908e-03,  3.27132232e-02, ...,\n",
       "          1.29726790e-02, -2.67068632e-02,  8.13777372e-03],\n",
       "        [-3.27631235e-02, -1.52138621e-03,  2.87636407e-02, ...,\n",
       "         -2.39846706e-02, -1.80179588e-02, -3.63183022e-02]],\n",
       "\n",
       "       [[-3.53571996e-02,  3.30218188e-02,  4.20044735e-03, ...,\n",
       "          4.41523641e-03, -3.19716930e-02, -6.77248091e-03],\n",
       "        [-4.31582592e-02, -2.04513557e-02, -4.80454341e-02, ...,\n",
       "         -3.43870148e-02,  1.80974863e-02,  2.70989649e-02],\n",
       "        [ 3.14711593e-02,  2.15798058e-02, -1.18536875e-03, ...,\n",
       "          3.91900651e-02,  7.14107603e-03, -2.75729541e-02],\n",
       "        ...,\n",
       "        [ 3.54163758e-02, -2.66891364e-02, -1.56834126e-02, ...,\n",
       "          2.05815472e-02,  3.46818231e-02, -6.53336197e-03],\n",
       "        [-1.27081946e-03,  1.66481622e-02, -2.86173951e-02, ...,\n",
       "         -4.67795841e-02, -3.43722478e-02,  1.24852732e-03],\n",
       "        [-3.65205519e-02,  1.17308721e-02,  1.53994001e-02, ...,\n",
       "         -3.46701518e-02,  6.15630299e-03,  7.72147253e-03]],\n",
       "\n",
       "       [[-4.13148180e-02, -2.29412075e-02, -4.65715043e-02, ...,\n",
       "          2.76321173e-03,  2.20396258e-02,  3.35427560e-02],\n",
       "        [ 4.93326038e-03,  2.76574381e-02,  3.79775800e-02, ...,\n",
       "          3.82451676e-02, -4.30678837e-02, -4.17940393e-02],\n",
       "        [ 1.09750740e-02,  4.81931679e-02, -1.92435272e-02, ...,\n",
       "          4.12994958e-02, -6.48008659e-03, -2.89376508e-02],\n",
       "        ...,\n",
       "        [ 2.40051635e-02, -2.65010726e-02, -6.85154274e-03, ...,\n",
       "          3.81232537e-02, -4.80904356e-02,  3.08146738e-02],\n",
       "        [ 3.01337354e-02, -7.34130293e-03, -4.41029668e-02, ...,\n",
       "          1.64695494e-02, -2.47289427e-02,  3.27875502e-02],\n",
       "        [-6.96595758e-03,  4.47529815e-02,  4.46066298e-02, ...,\n",
       "          3.60474735e-03,  3.56287695e-02,  5.76762110e-03]],\n",
       "\n",
       "       ...,\n",
       "\n",
       "       [[-1.88226458e-02,  4.58284281e-02, -2.88870223e-02, ...,\n",
       "          2.92638801e-02,  2.29451098e-02,  2.84792893e-02],\n",
       "        [-3.12089454e-02, -3.10935974e-02, -2.82552969e-02, ...,\n",
       "         -2.22088341e-02, -3.85172740e-02, -1.60728805e-02],\n",
       "        [-3.06528341e-02, -5.56303188e-03,  4.31846119e-02, ...,\n",
       "         -4.17107344e-02, -2.03503016e-02,  2.40229107e-02],\n",
       "        ...,\n",
       "        [ 3.06263827e-02,  2.20694803e-02, -3.97757776e-02, ...,\n",
       "         -4.20048833e-02,  1.86521523e-02, -1.02504119e-02],\n",
       "        [ 1.78391449e-02,  4.40103896e-02, -1.96872838e-02, ...,\n",
       "         -3.87036800e-02, -1.82353742e-02, -3.25351581e-02],\n",
       "        [ 3.10671441e-02, -4.88740318e-02,  3.65673043e-02, ...,\n",
       "         -1.76721588e-02, -8.69971514e-03, -9.45111364e-03]],\n",
       "\n",
       "       [[ 1.28138699e-02, -3.18545103e-02, -1.24817975e-02, ...,\n",
       "         -4.84924093e-02, -1.63713805e-02, -3.82848009e-02],\n",
       "        [-2.66250502e-02,  4.00737040e-02,  3.36958058e-02, ...,\n",
       "          3.68264429e-02,  8.18834454e-03, -1.11147389e-02],\n",
       "        [ 1.09750740e-02,  4.81931679e-02, -1.92435272e-02, ...,\n",
       "          4.12994958e-02, -6.48008659e-03, -2.89376508e-02],\n",
       "        ...,\n",
       "        [-3.56952921e-02, -5.70160151e-03,  6.36795908e-03, ...,\n",
       "         -6.77324831e-04,  4.63409089e-02,  4.13624980e-02],\n",
       "        [-4.31582592e-02, -2.04513557e-02, -4.80454341e-02, ...,\n",
       "         -3.43870148e-02,  1.80974863e-02,  2.70989649e-02],\n",
       "        [ 2.36339308e-02,  5.07597998e-03,  3.56386639e-02, ...,\n",
       "          3.88286263e-03, -4.29621227e-02,  1.85056366e-02]],\n",
       "\n",
       "       [[ 1.96056627e-02,  6.22997433e-03, -4.11562808e-02, ...,\n",
       "          2.63587721e-02, -2.97230966e-02,  6.70097023e-03],\n",
       "        [-1.47934072e-02,  8.59652832e-03,  8.80429894e-03, ...,\n",
       "         -1.04949102e-02, -1.84696913e-02,  2.49924399e-02],\n",
       "        [-3.73818055e-02, -4.80046384e-02, -1.87955052e-03, ...,\n",
       "          1.15658045e-02, -9.51912254e-03,  3.24597023e-02],\n",
       "        ...,\n",
       "        [-3.56763117e-02,  1.59623511e-02,  4.16307487e-02, ...,\n",
       "          1.95655264e-02, -3.98733504e-02, -1.65471211e-02],\n",
       "        [-3.98700237e-02,  1.11030564e-02, -2.64843553e-03, ...,\n",
       "         -2.98396833e-02, -3.01709175e-02,  6.39623404e-03],\n",
       "        [-9.33874398e-04,  4.62571643e-02,  2.60130502e-02, ...,\n",
       "         -1.96937677e-02,  2.54358537e-02,  3.26809324e-02]]],\n",
       "      dtype=float32)>"
      ]
     },
     "execution_count": 17,
     "metadata": {},
     "output_type": "execute_result"
    }
   ],
   "source": [
    "# Define where to get the data for our embeddings from\n",
    "inputs = embedding_layer(_input_data)\n",
    "inputs"
   ]
  },
  {
   "cell_type": "markdown",
   "metadata": {
    "tags": []
   },
   "source": [
    "<h3>Constructing Recurrent Neural Networks</h3>\n"
   ]
  },
  {
   "cell_type": "markdown",
   "metadata": {},
   "source": [
    "In this step, we create the stacked LSTM using <b>tf.keras.layers.StackedRNNCells</b>, which is a 2 layer LSTM network:\n"
   ]
  },
  {
   "cell_type": "code",
   "execution_count": 18,
   "metadata": {
    "tags": []
   },
   "outputs": [],
   "source": [
    "lstm_cell_l1 = tf.keras.layers.LSTMCell(hidden_size_l1)\n",
    "lstm_cell_l2 = tf.keras.layers.LSTMCell(hidden_size_l2)"
   ]
  },
  {
   "cell_type": "code",
   "execution_count": 19,
   "metadata": {
    "tags": []
   },
   "outputs": [],
   "source": [
    "stacked_lstm = tf.keras.layers.StackedRNNCells([lstm_cell_l1, lstm_cell_l2])"
   ]
  },
  {
   "cell_type": "markdown",
   "metadata": {},
   "source": [
    "<b>tf.keras.layers.RNN</b> creates a recurrent neural network using <b>stacked_lstm</b>. \n",
    "\n",
    "The input should be a Tensor of shape: [batch_size, max_time, embedding_vector_size], in our case it would be (30, 20, 200)\n"
   ]
  },
  {
   "cell_type": "code",
   "execution_count": 20,
   "metadata": {
    "tags": []
   },
   "outputs": [],
   "source": [
    "layer  =  tf.keras.layers.RNN(stacked_lstm,[batch_size, num_steps],return_state=False,stateful=True,trainable=True)"
   ]
  },
  {
   "cell_type": "markdown",
   "metadata": {},
   "source": [
    "Also, we initialize the states of the nework:\n",
    "\n",
    "<h4>_initial_state</h4>\n",
    "\n",
    "For each LSTM, there are 2 state matrices, c\\_state and m\\_state.  c_state and m_state represent \"Memory State\" and \"Cell State\". Each hidden layer, has a vector of size 30, which keeps the states. so, for 200 hidden units in each LSTM, we have a matrix of size [30x200]\n"
   ]
  },
  {
   "cell_type": "code",
   "execution_count": 21,
   "metadata": {
    "tags": []
   },
   "outputs": [],
   "source": [
    "init_state = tf.Variable(tf.zeros([batch_size,embeding_vector_size]),trainable=False)"
   ]
  },
  {
   "cell_type": "code",
   "execution_count": 22,
   "metadata": {
    "tags": []
   },
   "outputs": [],
   "source": [
    "layer.inital_state = init_state"
   ]
  },
  {
   "cell_type": "code",
   "execution_count": 23,
   "metadata": {
    "tags": []
   },
   "outputs": [
    {
     "data": {
      "text/plain": [
       "<tf.Variable 'Variable:0' shape=(30, 200) dtype=float32, numpy=\n",
       "array([[0., 0., 0., ..., 0., 0., 0.],\n",
       "       [0., 0., 0., ..., 0., 0., 0.],\n",
       "       [0., 0., 0., ..., 0., 0., 0.],\n",
       "       ...,\n",
       "       [0., 0., 0., ..., 0., 0., 0.],\n",
       "       [0., 0., 0., ..., 0., 0., 0.],\n",
       "       [0., 0., 0., ..., 0., 0., 0.]], dtype=float32)>"
      ]
     },
     "execution_count": 23,
     "metadata": {},
     "output_type": "execute_result"
    }
   ],
   "source": [
    "layer.inital_state"
   ]
  },
  {
   "cell_type": "markdown",
   "metadata": {},
   "source": [
    "so, lets look at the outputs. The output of the stackedLSTM comes from 128 hidden_layer, and in each time step(=20), one of them get activated. we use the linear activation to map the 128 hidden layer to a [30X20 matrix]\n"
   ]
  },
  {
   "cell_type": "code",
   "execution_count": 24,
   "metadata": {
    "tags": []
   },
   "outputs": [],
   "source": [
    "outputs = layer(inputs)"
   ]
  },
  {
   "cell_type": "code",
   "execution_count": 25,
   "metadata": {
    "tags": []
   },
   "outputs": [
    {
     "data": {
      "text/plain": [
       "<tf.Tensor: shape=(30, 20, 128), dtype=float32, numpy=\n",
       "array([[[-6.31023955e-04, -5.50922472e-04,  5.65743714e-04, ...,\n",
       "          1.05130416e-03,  4.10569017e-04,  1.85820530e-03],\n",
       "        [-1.30270817e-03, -1.15059630e-03,  9.50102636e-04, ...,\n",
       "          2.35517300e-03,  8.14016850e-04,  3.72098410e-03],\n",
       "        [-2.44159065e-03, -6.18580205e-04,  1.98672962e-04, ...,\n",
       "          2.79964926e-03,  2.71638244e-04,  4.74564545e-03],\n",
       "        ...,\n",
       "        [ 2.53572222e-03,  5.30256238e-03, -9.50760383e-04, ...,\n",
       "         -2.39662710e-03,  1.54269382e-03,  7.72651343e-04],\n",
       "        [ 1.93115347e-03,  7.17275636e-03, -1.03595108e-03, ...,\n",
       "         -1.44331041e-03,  1.89161208e-03,  2.47017888e-04],\n",
       "        [ 1.36397604e-03,  8.37690756e-03, -1.49313593e-03, ...,\n",
       "         -1.07286603e-03,  2.02635978e-03,  1.37968877e-04]],\n",
       "\n",
       "       [[-9.64276318e-04,  9.54701682e-04,  9.91124427e-04, ...,\n",
       "         -1.98706635e-03,  2.03721487e-04, -1.06857694e-03],\n",
       "        [-8.13083432e-04, -5.10550126e-05,  1.91559596e-03, ...,\n",
       "         -2.47839652e-03, -5.36372303e-04, -2.38136388e-03],\n",
       "        [ 1.66042140e-04,  6.48162313e-06,  1.27725024e-03, ...,\n",
       "         -1.53223495e-03, -1.51887175e-03, -2.25893618e-03],\n",
       "        ...,\n",
       "        [-8.05760268e-03, -1.38454570e-03, -4.81567666e-04, ...,\n",
       "         -5.08249039e-03, -9.74819181e-04, -2.71438458e-03],\n",
       "        [-9.58022755e-03,  8.91139789e-04, -5.58665197e-04, ...,\n",
       "         -4.99479519e-03, -9.70217632e-04,  1.19222175e-04],\n",
       "        [-9.59398691e-03,  3.08536645e-03, -1.64231053e-03, ...,\n",
       "         -3.56980576e-03, -1.86672260e-04,  1.62824639e-03]],\n",
       "\n",
       "       [[-5.50381956e-04,  8.95860314e-04,  1.49259425e-03, ...,\n",
       "         -1.42113119e-03,  5.02585317e-04, -9.40384169e-04],\n",
       "        [-2.50552362e-03,  3.15014069e-04,  1.08995661e-03, ...,\n",
       "         -2.59231729e-03,  1.07502576e-03, -8.88670154e-04],\n",
       "        [-4.48001316e-03, -5.26326941e-04,  1.18775301e-04, ...,\n",
       "         -1.83407415e-03,  1.40820935e-04, -1.36518700e-03],\n",
       "        ...,\n",
       "        [-5.99453412e-03,  1.77904512e-04, -4.16874047e-03, ...,\n",
       "         -1.09542655e-02,  6.44124998e-03,  2.12531793e-03],\n",
       "        [-6.30283356e-03,  5.25381940e-04, -5.37484931e-03, ...,\n",
       "         -1.03112971e-02,  6.63223816e-03,  2.23104935e-03],\n",
       "        [-6.40651910e-03,  5.90416486e-04, -5.65328309e-03, ...,\n",
       "         -9.78029054e-03,  6.91893743e-03,  2.96790106e-03]],\n",
       "\n",
       "       ...,\n",
       "\n",
       "       [[ 1.37609278e-03,  1.60760467e-03, -7.91622675e-04, ...,\n",
       "         -4.56617068e-04,  5.01340546e-04,  1.59393495e-03],\n",
       "        [ 2.25047953e-03,  2.26126797e-03, -3.09163146e-03, ...,\n",
       "         -9.40494996e-04,  8.64546513e-04,  1.70112832e-03],\n",
       "        [ 2.19327351e-03,  3.11905658e-03, -2.97677633e-03, ...,\n",
       "         -2.30105035e-03,  1.71558838e-03,  4.80273593e-04],\n",
       "        ...,\n",
       "        [-5.80266025e-03,  1.59200572e-03, -9.69549059e-04, ...,\n",
       "          3.92600521e-03,  3.37306387e-03,  4.21613641e-03],\n",
       "        [-4.84083546e-03,  1.08323223e-03, -1.83190522e-03, ...,\n",
       "          1.04233343e-03,  3.49986949e-03,  4.07923805e-03],\n",
       "        [-3.44436523e-03, -4.56149981e-04, -1.32991234e-03, ...,\n",
       "         -1.44635292e-03,  2.46720854e-03,  4.98513225e-03]],\n",
       "\n",
       "       [[ 6.80837256e-04,  2.87653995e-04, -8.51336459e-04, ...,\n",
       "         -5.12972358e-04,  2.96276557e-04,  3.90831963e-04],\n",
       "        [ 9.28527501e-04, -3.00936110e-04, -1.11906650e-03, ...,\n",
       "         -2.44239834e-03,  1.54861761e-03,  4.87098441e-04],\n",
       "        [-3.16230376e-04, -6.95676019e-04, -2.04071612e-03, ...,\n",
       "         -2.29991926e-03,  8.56554310e-04,  2.75632367e-04],\n",
       "        ...,\n",
       "        [ 2.65603350e-03,  3.95879615e-03, -9.06887930e-03, ...,\n",
       "         -2.31600623e-03, -2.89203087e-03,  2.51558400e-03],\n",
       "        [ 3.66885355e-03,  3.02119809e-03, -8.75108037e-03, ...,\n",
       "         -1.65575743e-03, -4.09012055e-03,  2.62942328e-03],\n",
       "        [ 5.68417134e-03,  2.85207294e-03, -8.77778139e-03, ...,\n",
       "         -2.04236759e-03, -3.82967666e-03,  8.84771813e-04]],\n",
       "\n",
       "       [[ 9.09122929e-04,  6.76403346e-04,  1.41639961e-04, ...,\n",
       "         -6.09785202e-04,  6.21691695e-04,  3.07467533e-04],\n",
       "        [ 1.02991937e-03,  3.05980677e-03, -5.09927166e-04, ...,\n",
       "         -8.24750983e-04,  1.49857288e-03,  6.78026583e-04],\n",
       "        [ 1.00324280e-03,  4.22071014e-03, -4.50513326e-04, ...,\n",
       "         -2.46027514e-04,  1.87791965e-03,  1.97753240e-03],\n",
       "        ...,\n",
       "        [ 3.85168707e-03,  2.40651355e-03,  6.07142400e-04, ...,\n",
       "         -5.28992387e-03,  1.04006671e-03, -2.33058399e-03],\n",
       "        [ 5.47037693e-03,  3.19013069e-03,  1.15448935e-03, ...,\n",
       "         -5.01434598e-03,  1.98936835e-03, -3.92073905e-03],\n",
       "        [ 6.97444659e-03,  4.35312930e-03,  1.92153500e-03, ...,\n",
       "         -4.31246264e-03,  2.67873774e-03, -4.89798049e-03]]],\n",
       "      dtype=float32)>"
      ]
     },
     "execution_count": 25,
     "metadata": {},
     "output_type": "execute_result"
    }
   ],
   "source": [
    "outputs"
   ]
  },
  {
   "cell_type": "markdown",
   "metadata": {
    "tags": []
   },
   "source": [
    "<h2>Dense layer</h2>\n",
    "We now create densely-connected neural network layer that would reshape the outputs tensor from  [30 x 20 x 128] to [30 x 20 x 10000].\n"
   ]
  },
  {
   "cell_type": "code",
   "execution_count": 26,
   "metadata": {
    "tags": []
   },
   "outputs": [],
   "source": [
    "dense = tf.keras.layers.Dense(vocab_size)"
   ]
  },
  {
   "cell_type": "code",
   "execution_count": 27,
   "metadata": {
    "tags": []
   },
   "outputs": [],
   "source": [
    "logits_outputs  = dense(outputs)"
   ]
  },
  {
   "cell_type": "code",
   "execution_count": 28,
   "metadata": {
    "tags": []
   },
   "outputs": [
    {
     "name": "stdout",
     "output_type": "stream",
     "text": [
      "shape of the output from dense layer:  (30, 20, 10000)\n"
     ]
    }
   ],
   "source": [
    "print(\"shape of the output from dense layer: \", logits_outputs.shape) #(batch_size, sequence_length, vocab_size)"
   ]
  },
  {
   "cell_type": "markdown",
   "metadata": {
    "tags": []
   },
   "source": [
    "<h2>Activation layer</h2>\n",
    "\n",
    "\n",
    "A softmax activation layers is also then applied to derive the probability of the output being in any of the multiclass(10000 in this case) possibilities. \n"
   ]
  },
  {
   "cell_type": "code",
   "execution_count": 29,
   "metadata": {
    "tags": []
   },
   "outputs": [],
   "source": [
    "activation = tf.keras.layers.Activation('softmax')"
   ]
  },
  {
   "cell_type": "code",
   "execution_count": 30,
   "metadata": {
    "tags": []
   },
   "outputs": [],
   "source": [
    "output_words_prob = activation(logits_outputs)"
   ]
  },
  {
   "cell_type": "code",
   "execution_count": 31,
   "metadata": {
    "tags": []
   },
   "outputs": [
    {
     "name": "stdout",
     "output_type": "stream",
     "text": [
      "shape of the output from the activation layer:  (30, 20, 10000)\n"
     ]
    }
   ],
   "source": [
    "print(\"shape of the output from the activation layer: \", output_words_prob.shape) #(batch_size, sequence_length, vocab_size)"
   ]
  },
  {
   "cell_type": "markdown",
   "metadata": {},
   "source": [
    "Lets look at the probability of observing words for t=0 to t=20:\n"
   ]
  },
  {
   "cell_type": "code",
   "execution_count": 32,
   "metadata": {
    "tags": []
   },
   "outputs": [
    {
     "name": "stdout",
     "output_type": "stream",
     "text": [
      "The probability of observing words in t=0 to t=20 tf.Tensor(\n",
      "[[1.00001336e-04 1.00020465e-04 9.99681870e-05 ... 1.00008932e-04\n",
      "  1.00020072e-04 1.00020057e-04]\n",
      " [1.00013436e-04 1.00020610e-04 9.99540280e-05 ... 1.00012374e-04\n",
      "  1.00016667e-04 1.00022102e-04]\n",
      " [1.00013611e-04 1.00006575e-04 9.99532276e-05 ... 1.00013211e-04\n",
      "  1.00015903e-04 1.00025958e-04]\n",
      " ...\n",
      " [9.99778786e-05 9.99697004e-05 9.99266631e-05 ... 1.00079946e-04\n",
      "  1.00114958e-04 1.00010417e-04]\n",
      " [9.99999829e-05 9.99785916e-05 9.99038020e-05 ... 1.00058751e-04\n",
      "  1.00126534e-04 1.00016354e-04]\n",
      " [1.00007695e-04 9.99670228e-05 9.98861651e-05 ... 1.00046760e-04\n",
      "  1.00118421e-04 1.00020086e-04]], shape=(20, 10000), dtype=float32)\n"
     ]
    }
   ],
   "source": [
    "print(\"The probability of observing words in t=0 to t=20\", output_words_prob[0,0:num_steps]) # selects the first num_steps elements from the first row(index 0) of the output_words_prob tensor."
   ]
  },
  {
   "cell_type": "code",
   "execution_count": 33,
   "metadata": {
    "tags": []
   },
   "outputs": [
    {
     "data": {
      "text/plain": [
       "TensorShape([30, 20, 10000])"
      ]
     },
     "execution_count": 33,
     "metadata": {},
     "output_type": "execute_result"
    }
   ],
   "source": [
    "output_words_prob[0,0].shape\n",
    "output_words_prob.shape\n"
   ]
  },
  {
   "cell_type": "markdown",
   "metadata": {},
   "source": [
    "<h3>Prediction</h3>\n",
    "What is the word correspond to the probability output? Lets use the maximum probability:\n"
   ]
  },
  {
   "cell_type": "code",
   "execution_count": 34,
   "metadata": {
    "tags": []
   },
   "outputs": [
    {
     "data": {
      "text/plain": [
       "array([3645, 3357, 1385, 1160, 1160, 4142, 4142, 4142, 6018, 7563, 8417,\n",
       "       5369, 4440, 1203, 1203, 1203,  737, 9705, 4844, 4844])"
      ]
     },
     "execution_count": 34,
     "metadata": {},
     "output_type": "execute_result"
    }
   ],
   "source": [
    "np.argmax(output_words_prob[0,0:num_steps], axis=1) #axis=1 because I'm looking for most likely word with in Each Time Step! "
   ]
  },
  {
   "cell_type": "markdown",
   "metadata": {},
   "source": [
    "So, what is the ground truth for the first word of first sentence? You can get it from target tensor, if you want to find the embedding vector: \n"
   ]
  },
  {
   "cell_type": "code",
   "execution_count": 35,
   "metadata": {
    "tags": []
   },
   "outputs": [
    {
     "data": {
      "text/plain": [
       "array([9971, 9972, 9974, 9975, 9976, 9980, 9981, 9982, 9983, 9984, 9986,\n",
       "       9987, 9988, 9989, 9991, 9992, 9993, 9994, 9995, 9996], dtype=int32)"
      ]
     },
     "execution_count": 35,
     "metadata": {},
     "output_type": "execute_result"
    }
   ],
   "source": [
    "_targets[0]"
   ]
  },
  {
   "cell_type": "markdown",
   "metadata": {},
   "source": [
    "<h4>Objective function</h4>\n",
    "\n",
    "\n",
    "How similar the predicted words are to the target words?\n",
    "\n",
    "\n",
    "Now we have to define our objective function, to calculate the similarity of predicted values to ground truth, and then, penalize the model with the error. Our objective is to minimize loss function, that is, to minimize the average negative log probability of the target words:\n",
    "\n",
    "$$\\text{loss} = -\\frac{1}{N}\\sum_{i=1}^{N} \\ln p_{\\text{target}_i}$$\n",
    "\n",
    "This function is already implemented and available in TensorFlow through *tf.keras.losses.sparse_categorical_crossentropy*. It calculates the categorical cross-entropy loss for <b>logits</b> and the <b>target</b> sequence.  \n",
    "\n",
    "The arguments of this function are:  \n",
    "<ul>\n",
    "    <li>logits: List of 2D Tensors of shape [batch_size x num_decoder_symbols].</li>  \n",
    "    <li>targets: List of 1D batch-sized int32 Tensors of the same length as logits.</li>   \n",
    "</ul>\n"
   ]
  },
  {
   "cell_type": "code",
   "execution_count": 36,
   "metadata": {
    "tags": []
   },
   "outputs": [],
   "source": [
    "def crossentropy(y_true, y_pred):\n",
    "    return tf.keras.losses.sparse_categorical_crossentropy(y_true, y_pred)"
   ]
  },
  {
   "cell_type": "code",
   "execution_count": 37,
   "metadata": {
    "tags": []
   },
   "outputs": [],
   "source": [
    "loss  = crossentropy(_targets, output_words_prob)"
   ]
  },
  {
   "cell_type": "markdown",
   "metadata": {},
   "source": [
    "Lets look at the first 10 values of loss:\n"
   ]
  },
  {
   "cell_type": "code",
   "execution_count": 38,
   "metadata": {
    "tags": []
   },
   "outputs": [
    {
     "data": {
      "text/plain": [
       "<tf.Tensor: shape=(10,), dtype=float32, numpy=\n",
       "array([9.210382, 9.210394, 9.209947, 9.210967, 9.209771, 9.210641,\n",
       "       9.210776, 9.210529, 9.210771, 9.21098 ], dtype=float32)>"
      ]
     },
     "execution_count": 38,
     "metadata": {},
     "output_type": "execute_result"
    }
   ],
   "source": [
    "loss[0,:10]"
   ]
  },
  {
   "cell_type": "markdown",
   "metadata": {},
   "source": [
    "Now, we define cost as average of the losses:\n"
   ]
  },
  {
   "cell_type": "code",
   "execution_count": 39,
   "metadata": {
    "tags": []
   },
   "outputs": [
    {
     "data": {
      "text/plain": [
       "<tf.Tensor: shape=(), dtype=float32, numpy=184.20581>"
      ]
     },
     "execution_count": 39,
     "metadata": {},
     "output_type": "execute_result"
    }
   ],
   "source": [
    "cost = tf.reduce_sum(loss / batch_size)\n",
    "cost"
   ]
  },
  {
   "cell_type": "markdown",
   "metadata": {},
   "source": [
    "<h3>Training</h3>\n",
    "\n",
    "To do training for our network, we have to take the following steps:\n",
    "<ol>\n",
    "    <li>Define the optimizer.</li>\n",
    "    <li>Assemble layers to build model.</li>\n",
    "    <li>Calculate the gradients based on the loss function.</li>\n",
    "    <li>Apply the optimizer to the variables/gradients tuple.</li>\n",
    "</ol>\n"
   ]
  },
  {
   "cell_type": "markdown",
   "metadata": {},
   "source": [
    "<h4>1. Define Optimizer</h4>\n",
    "\n"
   ]
  },
  {
   "cell_type": "code",
   "execution_count": 40,
   "metadata": {
    "tags": []
   },
   "outputs": [
    {
     "name": "stderr",
     "output_type": "stream",
     "text": [
      "/home/jupyterlab/conda/envs/python/lib/python3.7/site-packages/keras/optimizers/optimizer_v2/gradient_descent.py:108: UserWarning: The `lr` argument is deprecated, use `learning_rate` instead.\n",
      "  super(SGD, self).__init__(name, **kwargs)\n"
     ]
    }
   ],
   "source": [
    "# Create a variable for the learning rate\n",
    "lr = tf.Variable(0.0, trainable=False)\n",
    "optimizer = tf.keras.optimizers.SGD(lr=lr, clipnorm=max_grad_norm)"
   ]
  },
  {
   "cell_type": "markdown",
   "metadata": {},
   "source": [
    "<h4>2. Assemble layers to build model.</h4>\n"
   ]
  },
  {
   "cell_type": "code",
   "execution_count": 41,
   "metadata": {
    "tags": []
   },
   "outputs": [
    {
     "name": "stdout",
     "output_type": "stream",
     "text": [
      "Model: \"sequential\"\n",
      "_________________________________________________________________\n",
      " Layer (type)                Output Shape              Param #   \n",
      "=================================================================\n",
      " embedding_vocab (Embedding)  (30, 20, 200)            2000000   \n",
      "                                                                 \n",
      " rnn (RNN)                   (30, 20, 128)             671088    \n",
      "                                                                 \n",
      " dense (Dense)               (30, 20, 10000)           1290000   \n",
      "                                                                 \n",
      " activation (Activation)     (30, 20, 10000)           0         \n",
      "                                                                 \n",
      "=================================================================\n",
      "Total params: 3,961,088\n",
      "Trainable params: 3,955,088\n",
      "Non-trainable params: 6,000\n",
      "_________________________________________________________________\n"
     ]
    }
   ],
   "source": [
    "model = tf.keras.Sequential()\n",
    "model.add(embedding_layer)\n",
    "model.add(layer)\n",
    "model.add(dense)\n",
    "model.add(activation)\n",
    "model.compile(loss=crossentropy, optimizer=optimizer)\n",
    "model.summary()"
   ]
  },
  {
   "cell_type": "markdown",
   "metadata": {},
   "source": [
    "\n",
    "<h4>2. Trainable Variables</h4>\n"
   ]
  },
  {
   "cell_type": "markdown",
   "metadata": {
    "tags": []
   },
   "source": [
    "Defining a variable, if you passed <i>trainable=True</i>, the variable constructor automatically adds new variables to the graph collection <b>GraphKeys.TRAINABLE_VARIABLES</b>. Now, using <i>tf.trainable_variables()</i> you can get all variables created with <b>trainable=True</b>.\n"
   ]
  },
  {
   "cell_type": "code",
   "execution_count": 42,
   "metadata": {},
   "outputs": [],
   "source": [
    "# Get all TensorFlow variables marked as \"trainable\" (i.e. all of them except _lr, which we just created)\n",
    "tvars = model.trainable_variables"
   ]
  },
  {
   "cell_type": "markdown",
   "metadata": {},
   "source": [
    "Note: we can find the name and scope of all variables:\n"
   ]
  },
  {
   "cell_type": "code",
   "execution_count": 43,
   "metadata": {},
   "outputs": [
    {
     "data": {
      "text/plain": [
       "['embedding_vocab/embeddings:0',\n",
       " 'rnn/stacked_rnn_cells/lstm_cell/kernel:0',\n",
       " 'rnn/stacked_rnn_cells/lstm_cell/recurrent_kernel:0',\n",
       " 'rnn/stacked_rnn_cells/lstm_cell/bias:0',\n",
       " 'rnn/stacked_rnn_cells/lstm_cell_1/kernel:0',\n",
       " 'rnn/stacked_rnn_cells/lstm_cell_1/recurrent_kernel:0',\n",
       " 'rnn/stacked_rnn_cells/lstm_cell_1/bias:0',\n",
       " 'dense/kernel:0',\n",
       " 'dense/bias:0']"
      ]
     },
     "execution_count": 43,
     "metadata": {},
     "output_type": "execute_result"
    }
   ],
   "source": [
    "[v.name for v in tvars] "
   ]
  },
  {
   "cell_type": "markdown",
   "metadata": {},
   "source": [
    "<h4>3. Calculate the gradients based on the loss function</h4>\n"
   ]
  },
  {
   "cell_type": "markdown",
   "metadata": {},
   "source": [
    "**Gradient**: The gradient of a function is the slope of its derivative (line), or in other words, the rate of change of a function. It's a vector (a direction to move) that points in the direction of greatest increase of the function, and calculated by the <b>derivative</b> operation.\n"
   ]
  },
  {
   "cell_type": "markdown",
   "metadata": {},
   "source": [
    "First lets recall the gradient function using an toy example:\n",
    "$$ z = \\left(2x^2 + 3xy\\right)$$\n"
   ]
  },
  {
   "cell_type": "code",
   "execution_count": 44,
   "metadata": {},
   "outputs": [],
   "source": [
    "x = tf.constant(1.0)\n",
    "y =  tf.constant(2.0)\n",
    "with tf.GradientTape(persistent=True) as g:\n",
    "    g.watch(x) #used to explicitly tell TensorFlow to watch and compute gradients with respect to a specific tensor x during gradient computation. This is useful when you want to compute gradients of a target with respect to tensors that are not trainable variables by default.\n",
    "    g.watch(y)\n",
    "    func_test = 2 * x * x + 3 * x * y"
   ]
  },
  {
   "cell_type": "markdown",
   "metadata": {},
   "source": [
    "The <b>tf.gradients()</b> function allows you to compute the symbolic gradient of one tensor with respect to one or more other tensors—including variables. <b>tf.gradients(func, xs)</b> constructs symbolic partial derivatives of sum of <b>func</b> w.r.t. <i>x</i> in <b>xs</b>. \n",
    "\n",
    "Now, lets look at the derivitive w.r.t. <b>var_x</b>:\n",
    "$$ \\frac{\\partial \\:}{\\partial \\:x}\\left(2x^2 + 3xy\\right) = 4x + 3y $$\n"
   ]
  },
  {
   "cell_type": "code",
   "execution_count": 45,
   "metadata": {},
   "outputs": [
    {
     "name": "stdout",
     "output_type": "stream",
     "text": [
      "tf.Tensor(10.0, shape=(), dtype=float32)\n"
     ]
    }
   ],
   "source": [
    "# computes the gradient of a function func_test with respect to the tensor x using a gradient tape g.\n",
    "var_grad = g.gradient(func_test, x) # Will compute to 10.0\n",
    "print(var_grad)"
   ]
  },
  {
   "cell_type": "markdown",
   "metadata": {},
   "source": [
    "the derivative w.r.t. <b>var_y</b>:\n",
    "$$ \\frac{\\partial \\:}{\\partial \\:y}\\left(2x^2 + 3xy\\right) = 3x $$\n"
   ]
  },
  {
   "cell_type": "code",
   "execution_count": 46,
   "metadata": {},
   "outputs": [
    {
     "name": "stdout",
     "output_type": "stream",
     "text": [
      "tf.Tensor(3.0, shape=(), dtype=float32)\n"
     ]
    }
   ],
   "source": [
    "var_grad = g.gradient(func_test, y) # Will compute to 3.0\n",
    "print(var_grad)"
   ]
  },
  {
   "cell_type": "markdown",
   "metadata": {},
   "source": [
    "Now, we can look at gradients w.r.t all variables:\n"
   ]
  },
  {
   "cell_type": "code",
   "execution_count": 47,
   "metadata": {},
   "outputs": [],
   "source": [
    "# tape is used to compute gradients of a loss function with respect to the trainable variables of a model\n",
    "\n",
    "# By encapsulating these operations within the with tf.GradientTape() as tape: block, TensorFlow automatically records the computations performed within the block. \n",
    "with tf.GradientTape() as tape:\n",
    "    # Forward pass.\n",
    "    output_words_prob = model(_input_data)\n",
    "    # Loss value for this batch.\n",
    "    loss  = crossentropy(_targets, output_words_prob)\n",
    "    cost = tf.reduce_sum(loss,axis=0) / batch_size"
   ]
  },
  {
   "cell_type": "code",
   "execution_count": 48,
   "metadata": {},
   "outputs": [],
   "source": [
    "# Get gradients of loss wrt the trainable variables.\n",
    "\n",
    "#  Later, you can use tape.gradient() to compute gradients of the cost with respect to the trainable variables of the model.\n",
    "grad_t_list = tape.gradient(cost, tvars)"
   ]
  },
  {
   "cell_type": "code",
   "execution_count": 49,
   "metadata": {},
   "outputs": [
    {
     "name": "stdout",
     "output_type": "stream",
     "text": [
      "[<tensorflow.python.framework.indexed_slices.IndexedSlices object at 0x7fd1cfac9150>, <tf.Tensor: shape=(200, 1024), dtype=float32, numpy=\n",
      "array([[ 2.7802018e-06, -7.5340688e-07, -2.7440569e-07, ...,\n",
      "        -4.9903065e-07,  7.0191618e-08, -1.8339026e-07],\n",
      "       [-5.4911970e-07, -8.3990835e-07,  5.0753351e-07, ...,\n",
      "         3.0311159e-07, -1.5349445e-07,  2.0464302e-07],\n",
      "       [ 4.1009031e-08, -4.3310493e-07, -3.1662410e-08, ...,\n",
      "        -2.4964839e-07, -4.5115195e-07,  8.3500204e-08],\n",
      "       ...,\n",
      "       [ 3.6118982e-07, -4.7276671e-07,  4.2550334e-07, ...,\n",
      "        -7.0857379e-07,  4.4657790e-07, -1.6262025e-07],\n",
      "       [-2.7870024e-07,  5.9266330e-07, -3.8458626e-07, ...,\n",
      "         1.8214493e-07,  6.7583727e-08, -3.9171418e-08],\n",
      "       [-1.3595341e-06,  5.9325862e-07,  6.3000925e-08, ...,\n",
      "        -2.0180616e-07, -2.9488771e-08, -9.8822746e-08]], dtype=float32)>, <tf.Tensor: shape=(256, 1024), dtype=float32, numpy=\n",
      "array([[ 7.68845894e-08,  1.04932077e-07, -2.95861255e-08, ...,\n",
      "         9.43813028e-09, -4.25805950e-08,  1.06061279e-07],\n",
      "       [ 1.02427542e-07, -1.58410103e-07,  2.59716906e-08, ...,\n",
      "         6.24305443e-08,  5.24552561e-08, -4.37000303e-08],\n",
      "       [-5.78084105e-08,  4.30798707e-07,  1.70564505e-08, ...,\n",
      "        -6.41332889e-08,  4.19867590e-08,  5.17545118e-09],\n",
      "       ...,\n",
      "       [ 1.14728884e-07,  1.45113532e-07, -1.71657291e-07, ...,\n",
      "         1.72291443e-08, -7.01245639e-08,  5.74619996e-08],\n",
      "       [ 2.40852017e-07, -7.25474791e-09, -9.47059675e-08, ...,\n",
      "         1.97945425e-07,  3.07222940e-08,  1.89296799e-07],\n",
      "       [ 2.96577241e-07,  4.70823380e-08, -1.57885598e-08, ...,\n",
      "        -3.25805615e-07, -1.38160416e-07, -2.92015496e-08]], dtype=float32)>, <tf.Tensor: shape=(1024,), dtype=float32, numpy=\n",
      "array([-6.2313811e-06,  1.6324782e-05, -1.4430385e-05, ...,\n",
      "        2.3129334e-05, -1.7600614e-05,  1.9813109e-05], dtype=float32)>, <tf.Tensor: shape=(256, 512), dtype=float32, numpy=\n",
      "array([[ 2.1128922e-07, -5.2120445e-08,  1.3378781e-08, ...,\n",
      "         2.4886987e-07, -2.2681124e-07,  2.4232438e-07],\n",
      "       [ 1.1349658e-07,  2.2107076e-07, -1.8041177e-07, ...,\n",
      "         5.9007004e-07,  5.5242257e-08,  2.7773311e-08],\n",
      "       [ 2.1921302e-08,  3.1803577e-08, -5.4303531e-08, ...,\n",
      "         5.8591738e-08, -3.7640380e-08,  3.1107720e-07],\n",
      "       ...,\n",
      "       [-2.0197240e-07, -2.6106295e-07,  1.9720713e-07, ...,\n",
      "        -1.0886332e-06,  2.1669405e-07, -3.0472791e-07],\n",
      "       [ 1.5555338e-07, -2.5330641e-07,  1.1915142e-07, ...,\n",
      "        -3.6780412e-07, -3.3169982e-08, -5.6344413e-07],\n",
      "       [ 1.4477341e-07,  9.5563976e-08,  7.2665848e-08, ...,\n",
      "         5.6324393e-07, -1.9318358e-07,  5.5901677e-07]], dtype=float32)>, <tf.Tensor: shape=(128, 512), dtype=float32, numpy=\n",
      "array([[ 1.01005121e-07, -4.90168546e-08,  1.05385944e-07, ...,\n",
      "        -1.57864577e-07, -1.73028312e-07, -5.03760980e-08],\n",
      "       [-4.02738998e-09,  4.01406233e-08,  1.57022157e-07, ...,\n",
      "        -2.45415549e-07, -9.53570876e-08, -2.22266010e-08],\n",
      "       [ 1.89154974e-07, -9.51485930e-08, -2.18510650e-08, ...,\n",
      "         2.58254374e-07, -4.61428584e-09, -1.26324139e-07],\n",
      "       ...,\n",
      "       [ 1.58804696e-07,  1.47024409e-07, -1.62241392e-07, ...,\n",
      "         1.68231850e-06, -9.70917426e-08, -2.05145554e-08],\n",
      "       [-1.55710893e-07,  2.93805726e-07,  1.07207995e-07, ...,\n",
      "         1.14290435e-08, -2.22446516e-07,  2.85185820e-07],\n",
      "       [-7.47106839e-08, -3.53682701e-08,  5.51355086e-08, ...,\n",
      "        -2.32251296e-07, -1.17371364e-07,  7.46772855e-07]], dtype=float32)>, <tf.Tensor: shape=(512,), dtype=float32, numpy=\n",
      "array([-1.80948064e-05, -3.15149155e-05,  1.18357439e-05,  2.83882173e-06,\n",
      "       -5.75867998e-05, -1.85442241e-06, -6.38918282e-05,  6.27855334e-05,\n",
      "        9.11245079e-05,  2.60869692e-05, -1.84595065e-05,  8.23843293e-05,\n",
      "       -2.60025445e-07,  4.02958613e-05, -4.27229679e-05, -5.58691972e-05,\n",
      "        2.04036514e-05, -2.71335084e-05,  4.41211432e-06, -4.37059061e-05,\n",
      "        1.16510339e-04, -5.11831968e-05, -3.23116401e-05,  3.58461912e-05,\n",
      "       -7.17110879e-06, -1.48334138e-05,  1.88068020e-06, -3.56206619e-05,\n",
      "        2.18587229e-06,  9.41927647e-06, -3.26535519e-05,  4.39014366e-06,\n",
      "       -1.09823177e-05,  2.02937954e-05,  9.22273193e-06,  6.25446501e-06,\n",
      "        8.87870556e-07,  5.48577518e-05,  3.85370004e-05, -3.65381857e-06,\n",
      "       -3.48514986e-05,  4.16139665e-05, -4.48778628e-05, -2.46834970e-05,\n",
      "        8.84919427e-06, -3.77712968e-05, -4.35935799e-05,  3.56326836e-06,\n",
      "       -1.60997042e-05,  1.14752656e-05, -7.83505529e-05, -5.17461740e-06,\n",
      "        2.53729449e-05,  2.84449834e-06,  7.67197162e-06, -3.44722139e-05,\n",
      "        6.83453800e-06,  2.59583576e-05, -3.60974013e-07, -2.69578413e-06,\n",
      "       -1.07297077e-04,  3.30389230e-05,  8.61310855e-06, -1.03278862e-05,\n",
      "        6.15924218e-05,  7.00225610e-06, -8.58968415e-05, -3.00728680e-05,\n",
      "       -6.81155143e-06, -2.61765490e-05, -4.92426534e-06,  1.82558415e-06,\n",
      "        2.90489224e-05, -9.42537554e-07,  4.73776017e-05, -9.28075860e-06,\n",
      "       -2.18734349e-05,  1.47335013e-05,  6.19799466e-05, -2.77371364e-05,\n",
      "       -6.75601041e-06, -4.14335736e-05, -4.99406742e-05, -8.94067853e-06,\n",
      "        2.47310891e-05,  2.95357677e-05, -5.29555473e-05,  5.18259003e-05,\n",
      "       -6.20455758e-05, -1.50526866e-05, -1.04578576e-05, -7.54219400e-06,\n",
      "        2.69307438e-05,  9.53390736e-06, -1.17255368e-05,  8.08590994e-06,\n",
      "       -4.65741032e-05, -1.37891366e-05,  1.64328571e-06,  3.86134707e-05,\n",
      "       -3.59037149e-05, -4.86695608e-05, -2.19262820e-05, -2.40525114e-05,\n",
      "        1.63036002e-05, -6.19524872e-05, -1.20462528e-05, -2.26618577e-05,\n",
      "        3.01914952e-05, -3.26303889e-05,  2.66097186e-06,  5.21717266e-05,\n",
      "       -2.36506967e-05,  2.72736379e-05, -5.27021948e-05,  9.45921965e-06,\n",
      "       -2.00882350e-05,  2.92361365e-05, -1.88479316e-06, -4.62990720e-05,\n",
      "       -4.00853132e-05, -5.03225638e-05, -2.82614656e-05,  1.51946097e-05,\n",
      "        9.88713873e-05, -1.45171754e-04,  6.56563725e-06, -6.62176462e-05,\n",
      "       -3.41204868e-05, -3.49966285e-05,  2.66303723e-05,  3.55717293e-06,\n",
      "       -9.07982030e-05,  1.93723026e-05, -6.03049084e-05,  5.76567181e-05,\n",
      "        1.25253297e-04,  5.14703934e-05, -3.62671526e-05,  1.10775276e-04,\n",
      "        6.11614996e-06,  7.03054830e-05, -4.67796308e-05, -9.46256550e-05,\n",
      "        3.12929551e-05,  4.55605823e-06,  3.62543360e-05, -4.76895548e-05,\n",
      "        1.75807130e-04, -9.38387384e-05, -4.05418796e-05,  3.04791083e-05,\n",
      "       -5.97362305e-06, -3.61916173e-05,  6.10896313e-06, -3.18451202e-05,\n",
      "        3.31654410e-05, -7.17466355e-06, -6.03742847e-05, -1.38274627e-05,\n",
      "       -1.25551633e-05,  1.19967353e-06,  4.63910546e-05,  2.93704688e-05,\n",
      "        1.31920115e-05,  5.33472994e-05,  6.38906204e-05,  1.41687360e-05,\n",
      "       -2.60633133e-05,  2.44654566e-05, -7.48293387e-05, -2.20042984e-05,\n",
      "        1.94873319e-05, -4.35910333e-05, -4.01228062e-05, -5.14277963e-06,\n",
      "       -2.32930124e-05,  4.16961302e-06, -1.06965817e-04,  1.44709929e-05,\n",
      "        5.91531352e-05, -1.70963121e-05,  2.82219989e-05, -4.95659770e-05,\n",
      "       -6.85731857e-06,  6.35560064e-05,  5.40204837e-06,  1.16935462e-06,\n",
      "       -1.35942377e-04,  7.32477201e-05, -2.94599486e-05, -4.77660760e-05,\n",
      "        4.79076116e-05,  1.13181623e-05, -1.41441065e-04, -8.88487193e-06,\n",
      "        1.65680667e-05,  9.36574452e-06, -6.85650866e-06, -2.10929720e-05,\n",
      "        1.15942994e-05,  2.36257074e-06,  3.98636257e-05, -3.44116525e-05,\n",
      "       -5.40696783e-05,  3.93283808e-05,  9.49868627e-05, -2.04692424e-05,\n",
      "       -7.59869499e-06, -3.97554322e-05, -7.38739618e-05, -3.95685784e-05,\n",
      "        2.35844582e-05,  1.11161120e-04, -5.66791423e-05,  8.14714731e-05,\n",
      "       -6.28623529e-05, -1.26346667e-05, -4.24580230e-06, -3.65250071e-06,\n",
      "        3.31570882e-05, -4.32549950e-06,  4.17971933e-06,  2.14948086e-05,\n",
      "       -6.51865339e-05, -3.59469232e-06,  6.72158330e-06,  8.11825521e-05,\n",
      "       -8.48928103e-05, -5.54975268e-05, -4.28423555e-05, -4.65144294e-05,\n",
      "       -1.05906674e-05, -8.74736943e-05,  1.15495368e-05, -1.41431010e-05,\n",
      "        2.06139703e-05, -5.12200677e-05,  2.04221906e-05,  8.67643830e-05,\n",
      "       -2.81125831e-05,  5.90166019e-05, -5.14748572e-05, -8.53501933e-06,\n",
      "       -2.95240025e-05,  3.89457346e-05, -1.97119407e-05, -6.07117072e-05,\n",
      "       -4.16463081e-05, -7.59653558e-05, -4.34980102e-05,  2.25652475e-05,\n",
      "        1.84621560e-04, -2.14270694e-04,  1.16083775e-05, -8.56609404e-05,\n",
      "       -1.18381623e-02,  3.47462408e-02, -1.90719031e-04, -1.49371801e-02,\n",
      "       -1.40130864e-02, -5.83927371e-02, -3.68137285e-02,  4.08748835e-02,\n",
      "        3.82515118e-02, -2.44960026e-03,  2.50622742e-02, -4.92268205e-02,\n",
      "       -5.78303821e-03, -3.15064080e-02, -2.86910962e-02, -4.59957570e-02,\n",
      "        2.61173770e-02,  1.24687590e-02, -9.90873203e-03, -1.28948092e-02,\n",
      "        3.07549872e-02, -8.58838297e-03,  2.55742557e-02, -1.26231052e-02,\n",
      "       -1.47516979e-03, -4.54325676e-02,  3.35635506e-02,  2.11789384e-02,\n",
      "        5.30369356e-02,  1.32056884e-03, -1.00083090e-02,  1.75669193e-02,\n",
      "        1.76644772e-02,  4.72099632e-02,  1.30588626e-02, -1.77749358e-02,\n",
      "       -1.36610190e-03,  1.11198369e-02, -3.95766385e-02,  6.48214966e-02,\n",
      "       -9.12383199e-04,  3.36663462e-02,  5.78626841e-02,  1.89689770e-02,\n",
      "        1.54575147e-03,  3.19178030e-02,  1.32461498e-03,  2.62640473e-02,\n",
      "       -2.01605242e-02, -1.05004627e-02,  1.48840505e-03, -2.46365182e-02,\n",
      "        2.55822204e-02,  1.57710351e-02,  1.25702936e-02, -3.34798917e-02,\n",
      "        2.89627742e-02,  2.39564590e-02, -3.50887477e-02, -9.16918740e-04,\n",
      "        7.04208612e-02,  4.95727919e-02,  3.40482853e-02, -5.34448177e-02,\n",
      "       -6.67205919e-03, -3.31122205e-02,  2.74142530e-02,  1.37498630e-02,\n",
      "        1.21304998e-02,  4.67285141e-03, -1.01697575e-02, -9.97068733e-03,\n",
      "       -7.27123022e-03,  1.92062315e-02, -1.58525426e-02,  1.61635876e-02,\n",
      "        1.48651591e-02,  7.68306479e-03, -4.76780012e-02, -1.01186186e-02,\n",
      "        3.92876491e-02, -8.92817415e-03,  1.42462365e-03, -1.22129936e-02,\n",
      "        2.72776596e-02, -2.90460084e-02,  3.45161930e-02,  4.90427241e-02,\n",
      "       -1.90796182e-02, -5.00776898e-03, -1.71117652e-02, -3.16746607e-02,\n",
      "       -5.84225683e-03,  5.66913672e-02,  1.30763743e-02,  2.35729888e-02,\n",
      "       -2.70142257e-02,  1.76810473e-02,  5.35733066e-03, -3.43694910e-02,\n",
      "       -5.80071099e-03,  1.66672096e-02, -3.99619341e-04, -1.17099229e-02,\n",
      "        4.67707403e-02, -3.32446247e-02, -2.66726054e-02, -2.63773054e-02,\n",
      "       -4.19719182e-02, -2.11165920e-02,  2.28581205e-03, -4.67045866e-02,\n",
      "       -3.14907730e-02, -1.04462458e-02, -2.15625111e-02, -7.74965901e-03,\n",
      "        1.33382808e-02, -8.28414969e-03,  1.65992230e-02,  1.94812194e-02,\n",
      "       -9.85036884e-03,  1.56407133e-02,  1.19810533e-02, -9.49605741e-03,\n",
      "        4.92618345e-02,  8.12472478e-02, -2.23462917e-02,  6.36307895e-02,\n",
      "       -1.31204797e-05, -3.36324265e-05,  2.13687308e-05, -3.89439128e-06,\n",
      "       -6.10976713e-05, -4.24597783e-06, -5.88295152e-05,  7.55223082e-05,\n",
      "        1.09700675e-04,  3.68537731e-05, -2.19032954e-05,  8.55569815e-05,\n",
      "        3.92965285e-06,  4.55827976e-05, -3.78472323e-05, -6.36873228e-05,\n",
      "        1.71537122e-05, -1.54423960e-05,  9.62265585e-06, -3.62702303e-05,\n",
      "        1.49557483e-04, -7.40483665e-05, -3.45792796e-05,  2.70350938e-05,\n",
      "        1.41311557e-06, -2.40261361e-05,  4.14017904e-06, -4.51959640e-05,\n",
      "       -5.82909888e-06,  2.17725028e-06, -4.44428770e-05, -6.10366806e-06,\n",
      "       -9.39487018e-06,  1.70628009e-05,  1.57956456e-05,  5.30108082e-06,\n",
      "        9.28950067e-06,  5.59705513e-05,  4.38513016e-05, -1.11224617e-05,\n",
      "       -3.63753643e-05,  4.82595387e-05, -5.97190010e-05, -2.75716411e-05,\n",
      "        6.35685183e-06, -4.13557536e-05, -4.87849175e-05,  1.22159881e-05,\n",
      "       -8.01369879e-06,  8.35650462e-06, -9.06917121e-05, -3.98501425e-06,\n",
      "        3.40698753e-05,  2.04035041e-06,  7.50104346e-06, -3.94500239e-05,\n",
      "        1.91537947e-06,  3.15355101e-05, -5.42924681e-07, -7.77919558e-06,\n",
      "       -1.13545539e-04,  4.34605718e-05,  1.75910054e-06, -2.43833965e-05,\n",
      "        5.97730468e-05,  9.24334381e-06, -8.99904699e-05, -2.78022890e-05,\n",
      "        8.10903657e-06, -2.00079012e-05, -2.29125408e-06,  4.27314217e-06,\n",
      "        2.98403102e-05, -6.14181772e-08,  3.69966037e-05, -1.22074825e-05,\n",
      "       -2.95508362e-05,  1.92223415e-05,  8.41364163e-05, -2.73064506e-05,\n",
      "       -9.34601121e-06, -4.56345588e-05, -4.94571505e-05, -2.21753835e-05,\n",
      "        3.65824235e-05,  4.68888247e-05, -5.92371216e-05,  6.54392570e-05,\n",
      "       -6.19527855e-05, -2.17967245e-05, -1.25214337e-05, -8.58815474e-06,\n",
      "        2.77506533e-05,  1.21322901e-05, -1.65378733e-05,  1.27854782e-05,\n",
      "       -4.76748100e-05, -2.19743797e-05,  6.70633926e-06,  3.86554311e-05,\n",
      "       -4.98447807e-05, -3.98118536e-05, -2.48317774e-05, -3.29723698e-05,\n",
      "        1.40592256e-05, -7.78560934e-05, -7.42889551e-06, -1.33515059e-05,\n",
      "        4.29232568e-05, -3.15817124e-05,  4.34815229e-06,  6.03985100e-05,\n",
      "       -2.01924777e-05,  1.67862563e-05, -5.08914964e-05,  9.91534944e-06,\n",
      "       -3.24004395e-05,  4.13828311e-05,  4.13119915e-06, -5.06043943e-05,\n",
      "       -4.41663251e-05, -5.46697775e-05, -2.73879014e-05,  1.32232990e-05,\n",
      "        1.18957607e-04, -1.67773775e-04,  1.77828915e-05, -6.34583630e-05],\n",
      "      dtype=float32)>, <tf.Tensor: shape=(128, 10000), dtype=float32, numpy=\n",
      "array([[-6.5835600e-05, -1.3132888e-04,  6.6948228e-04, ...,\n",
      "        -8.8097300e-07, -8.8141064e-07, -8.8043191e-07],\n",
      "       [ 7.2039181e-04, -1.3334149e-03, -1.3231421e-03, ...,\n",
      "         2.5944835e-06,  2.5962406e-06,  2.5936804e-06],\n",
      "       [ 5.5154250e-04,  5.8677967e-04,  8.0000790e-04, ...,\n",
      "        -2.4913786e-06, -2.4932372e-06, -2.4910869e-06],\n",
      "       ...,\n",
      "       [ 3.4140442e-03,  4.8118117e-03,  3.8888827e-03, ...,\n",
      "        -7.6596971e-06, -7.6629967e-06, -7.6598008e-06],\n",
      "       [ 1.5889090e-03,  1.8338801e-03,  7.5569906e-04, ...,\n",
      "        -1.4749622e-06, -1.4736958e-06, -1.4759299e-06],\n",
      "       [ 6.3827558e-04,  1.3150400e-03,  1.4734503e-03, ...,\n",
      "        -6.9768379e-07, -6.9561025e-07, -6.9832470e-07]], dtype=float32)>, <tf.Tensor: shape=(10000,), dtype=float32, numpy=\n",
      "array([-0.79799885, -1.0313324 , -1.0313315 , ...,  0.00199977,\n",
      "        0.0020005 ,  0.0019995 ], dtype=float32)>]\n"
     ]
    }
   ],
   "source": [
    "print(grad_t_list)"
   ]
  },
  {
   "cell_type": "markdown",
   "metadata": {},
   "source": [
    "\n",
    "\n",
    "\n",
    "now, we have a list of tensors, t-list. We can use it to find clipped tensors. <b>clip_by_global_norm</b> clips values of multiple tensors by the ratio of the sum of their norms.\n",
    "\n",
    "<b>clip_by_global_norm</b> get <i>t-list</i> as input and returns 2 things:\n",
    "<ul>\n",
    "    <li>a list of clipped tensors, so called <i>list_clipped</i></li> \n",
    "    <li>the global norm (global_norm) of all tensors in t_list</li> \n",
    "</ul>\n"
   ]
  },
  {
   "cell_type": "code",
   "execution_count": 50,
   "metadata": {},
   "outputs": [
    {
     "data": {
      "text/plain": [
       "[<tensorflow.python.framework.indexed_slices.IndexedSlices at 0x7fd1cfae5990>,\n",
       " <tf.Tensor: shape=(200, 1024), dtype=float32, numpy=\n",
       " array([[ 2.7802018e-06, -7.5340688e-07, -2.7440569e-07, ...,\n",
       "         -4.9903065e-07,  7.0191618e-08, -1.8339026e-07],\n",
       "        [-5.4911970e-07, -8.3990835e-07,  5.0753351e-07, ...,\n",
       "          3.0311159e-07, -1.5349445e-07,  2.0464302e-07],\n",
       "        [ 4.1009031e-08, -4.3310493e-07, -3.1662410e-08, ...,\n",
       "         -2.4964839e-07, -4.5115195e-07,  8.3500204e-08],\n",
       "        ...,\n",
       "        [ 3.6118982e-07, -4.7276671e-07,  4.2550334e-07, ...,\n",
       "         -7.0857379e-07,  4.4657790e-07, -1.6262025e-07],\n",
       "        [-2.7870024e-07,  5.9266330e-07, -3.8458626e-07, ...,\n",
       "          1.8214493e-07,  6.7583727e-08, -3.9171418e-08],\n",
       "        [-1.3595341e-06,  5.9325862e-07,  6.3000925e-08, ...,\n",
       "         -2.0180616e-07, -2.9488771e-08, -9.8822746e-08]], dtype=float32)>,\n",
       " <tf.Tensor: shape=(256, 1024), dtype=float32, numpy=\n",
       " array([[ 7.68845894e-08,  1.04932077e-07, -2.95861255e-08, ...,\n",
       "          9.43813028e-09, -4.25805950e-08,  1.06061279e-07],\n",
       "        [ 1.02427542e-07, -1.58410103e-07,  2.59716906e-08, ...,\n",
       "          6.24305443e-08,  5.24552561e-08, -4.37000303e-08],\n",
       "        [-5.78084105e-08,  4.30798707e-07,  1.70564505e-08, ...,\n",
       "         -6.41332889e-08,  4.19867590e-08,  5.17545118e-09],\n",
       "        ...,\n",
       "        [ 1.14728884e-07,  1.45113532e-07, -1.71657291e-07, ...,\n",
       "          1.72291443e-08, -7.01245639e-08,  5.74619996e-08],\n",
       "        [ 2.40852017e-07, -7.25474791e-09, -9.47059675e-08, ...,\n",
       "          1.97945425e-07,  3.07222940e-08,  1.89296799e-07],\n",
       "        [ 2.96577241e-07,  4.70823380e-08, -1.57885598e-08, ...,\n",
       "         -3.25805615e-07, -1.38160416e-07, -2.92015496e-08]], dtype=float32)>,\n",
       " <tf.Tensor: shape=(1024,), dtype=float32, numpy=\n",
       " array([-6.2313811e-06,  1.6324782e-05, -1.4430385e-05, ...,\n",
       "         2.3129334e-05, -1.7600614e-05,  1.9813109e-05], dtype=float32)>,\n",
       " <tf.Tensor: shape=(256, 512), dtype=float32, numpy=\n",
       " array([[ 2.1128922e-07, -5.2120445e-08,  1.3378781e-08, ...,\n",
       "          2.4886987e-07, -2.2681124e-07,  2.4232438e-07],\n",
       "        [ 1.1349658e-07,  2.2107076e-07, -1.8041177e-07, ...,\n",
       "          5.9007004e-07,  5.5242257e-08,  2.7773311e-08],\n",
       "        [ 2.1921302e-08,  3.1803577e-08, -5.4303531e-08, ...,\n",
       "          5.8591738e-08, -3.7640380e-08,  3.1107720e-07],\n",
       "        ...,\n",
       "        [-2.0197240e-07, -2.6106295e-07,  1.9720713e-07, ...,\n",
       "         -1.0886332e-06,  2.1669405e-07, -3.0472791e-07],\n",
       "        [ 1.5555338e-07, -2.5330641e-07,  1.1915142e-07, ...,\n",
       "         -3.6780412e-07, -3.3169982e-08, -5.6344413e-07],\n",
       "        [ 1.4477341e-07,  9.5563976e-08,  7.2665848e-08, ...,\n",
       "          5.6324393e-07, -1.9318358e-07,  5.5901677e-07]], dtype=float32)>,\n",
       " <tf.Tensor: shape=(128, 512), dtype=float32, numpy=\n",
       " array([[ 1.01005121e-07, -4.90168546e-08,  1.05385944e-07, ...,\n",
       "         -1.57864577e-07, -1.73028312e-07, -5.03760980e-08],\n",
       "        [-4.02738998e-09,  4.01406233e-08,  1.57022157e-07, ...,\n",
       "         -2.45415549e-07, -9.53570876e-08, -2.22266010e-08],\n",
       "        [ 1.89154974e-07, -9.51485930e-08, -2.18510650e-08, ...,\n",
       "          2.58254374e-07, -4.61428584e-09, -1.26324139e-07],\n",
       "        ...,\n",
       "        [ 1.58804696e-07,  1.47024409e-07, -1.62241392e-07, ...,\n",
       "          1.68231850e-06, -9.70917426e-08, -2.05145554e-08],\n",
       "        [-1.55710893e-07,  2.93805726e-07,  1.07207995e-07, ...,\n",
       "          1.14290435e-08, -2.22446516e-07,  2.85185820e-07],\n",
       "        [-7.47106839e-08, -3.53682701e-08,  5.51355086e-08, ...,\n",
       "         -2.32251296e-07, -1.17371364e-07,  7.46772855e-07]], dtype=float32)>,\n",
       " <tf.Tensor: shape=(512,), dtype=float32, numpy=\n",
       " array([-1.80948064e-05, -3.15149155e-05,  1.18357439e-05,  2.83882173e-06,\n",
       "        -5.75867998e-05, -1.85442241e-06, -6.38918282e-05,  6.27855334e-05,\n",
       "         9.11245079e-05,  2.60869692e-05, -1.84595065e-05,  8.23843293e-05,\n",
       "        -2.60025445e-07,  4.02958613e-05, -4.27229679e-05, -5.58691972e-05,\n",
       "         2.04036514e-05, -2.71335084e-05,  4.41211432e-06, -4.37059061e-05,\n",
       "         1.16510339e-04, -5.11831968e-05, -3.23116401e-05,  3.58461912e-05,\n",
       "        -7.17110879e-06, -1.48334138e-05,  1.88068020e-06, -3.56206619e-05,\n",
       "         2.18587229e-06,  9.41927647e-06, -3.26535519e-05,  4.39014366e-06,\n",
       "        -1.09823177e-05,  2.02937954e-05,  9.22273193e-06,  6.25446501e-06,\n",
       "         8.87870556e-07,  5.48577518e-05,  3.85370004e-05, -3.65381857e-06,\n",
       "        -3.48514986e-05,  4.16139665e-05, -4.48778628e-05, -2.46834970e-05,\n",
       "         8.84919427e-06, -3.77712968e-05, -4.35935799e-05,  3.56326836e-06,\n",
       "        -1.60997042e-05,  1.14752656e-05, -7.83505529e-05, -5.17461740e-06,\n",
       "         2.53729449e-05,  2.84449834e-06,  7.67197162e-06, -3.44722139e-05,\n",
       "         6.83453800e-06,  2.59583576e-05, -3.60974013e-07, -2.69578413e-06,\n",
       "        -1.07297077e-04,  3.30389230e-05,  8.61310855e-06, -1.03278862e-05,\n",
       "         6.15924218e-05,  7.00225610e-06, -8.58968415e-05, -3.00728680e-05,\n",
       "        -6.81155143e-06, -2.61765490e-05, -4.92426534e-06,  1.82558415e-06,\n",
       "         2.90489224e-05, -9.42537554e-07,  4.73776017e-05, -9.28075860e-06,\n",
       "        -2.18734349e-05,  1.47335013e-05,  6.19799466e-05, -2.77371364e-05,\n",
       "        -6.75601041e-06, -4.14335736e-05, -4.99406742e-05, -8.94067853e-06,\n",
       "         2.47310891e-05,  2.95357677e-05, -5.29555473e-05,  5.18259003e-05,\n",
       "        -6.20455758e-05, -1.50526866e-05, -1.04578576e-05, -7.54219400e-06,\n",
       "         2.69307438e-05,  9.53390736e-06, -1.17255368e-05,  8.08590994e-06,\n",
       "        -4.65741032e-05, -1.37891366e-05,  1.64328571e-06,  3.86134707e-05,\n",
       "        -3.59037149e-05, -4.86695608e-05, -2.19262820e-05, -2.40525114e-05,\n",
       "         1.63036002e-05, -6.19524872e-05, -1.20462528e-05, -2.26618577e-05,\n",
       "         3.01914952e-05, -3.26303889e-05,  2.66097186e-06,  5.21717266e-05,\n",
       "        -2.36506967e-05,  2.72736379e-05, -5.27021948e-05,  9.45921965e-06,\n",
       "        -2.00882350e-05,  2.92361365e-05, -1.88479316e-06, -4.62990720e-05,\n",
       "        -4.00853132e-05, -5.03225638e-05, -2.82614656e-05,  1.51946097e-05,\n",
       "         9.88713873e-05, -1.45171754e-04,  6.56563725e-06, -6.62176462e-05,\n",
       "        -3.41204868e-05, -3.49966285e-05,  2.66303723e-05,  3.55717293e-06,\n",
       "        -9.07982030e-05,  1.93723026e-05, -6.03049084e-05,  5.76567181e-05,\n",
       "         1.25253297e-04,  5.14703934e-05, -3.62671526e-05,  1.10775276e-04,\n",
       "         6.11614996e-06,  7.03054830e-05, -4.67796308e-05, -9.46256550e-05,\n",
       "         3.12929551e-05,  4.55605823e-06,  3.62543360e-05, -4.76895548e-05,\n",
       "         1.75807130e-04, -9.38387384e-05, -4.05418796e-05,  3.04791083e-05,\n",
       "        -5.97362305e-06, -3.61916173e-05,  6.10896313e-06, -3.18451202e-05,\n",
       "         3.31654410e-05, -7.17466355e-06, -6.03742847e-05, -1.38274627e-05,\n",
       "        -1.25551633e-05,  1.19967353e-06,  4.63910546e-05,  2.93704688e-05,\n",
       "         1.31920115e-05,  5.33472994e-05,  6.38906204e-05,  1.41687360e-05,\n",
       "        -2.60633133e-05,  2.44654566e-05, -7.48293387e-05, -2.20042984e-05,\n",
       "         1.94873319e-05, -4.35910333e-05, -4.01228062e-05, -5.14277963e-06,\n",
       "        -2.32930124e-05,  4.16961302e-06, -1.06965817e-04,  1.44709929e-05,\n",
       "         5.91531352e-05, -1.70963121e-05,  2.82219989e-05, -4.95659770e-05,\n",
       "        -6.85731857e-06,  6.35560064e-05,  5.40204837e-06,  1.16935462e-06,\n",
       "        -1.35942377e-04,  7.32477201e-05, -2.94599486e-05, -4.77660760e-05,\n",
       "         4.79076116e-05,  1.13181623e-05, -1.41441065e-04, -8.88487193e-06,\n",
       "         1.65680667e-05,  9.36574452e-06, -6.85650866e-06, -2.10929720e-05,\n",
       "         1.15942994e-05,  2.36257074e-06,  3.98636257e-05, -3.44116525e-05,\n",
       "        -5.40696783e-05,  3.93283808e-05,  9.49868627e-05, -2.04692424e-05,\n",
       "        -7.59869499e-06, -3.97554322e-05, -7.38739618e-05, -3.95685784e-05,\n",
       "         2.35844582e-05,  1.11161120e-04, -5.66791423e-05,  8.14714731e-05,\n",
       "        -6.28623529e-05, -1.26346667e-05, -4.24580230e-06, -3.65250071e-06,\n",
       "         3.31570882e-05, -4.32549950e-06,  4.17971933e-06,  2.14948086e-05,\n",
       "        -6.51865339e-05, -3.59469232e-06,  6.72158330e-06,  8.11825521e-05,\n",
       "        -8.48928103e-05, -5.54975268e-05, -4.28423555e-05, -4.65144294e-05,\n",
       "        -1.05906674e-05, -8.74736943e-05,  1.15495368e-05, -1.41431010e-05,\n",
       "         2.06139703e-05, -5.12200677e-05,  2.04221906e-05,  8.67643830e-05,\n",
       "        -2.81125831e-05,  5.90166019e-05, -5.14748572e-05, -8.53501933e-06,\n",
       "        -2.95240025e-05,  3.89457346e-05, -1.97119407e-05, -6.07117072e-05,\n",
       "        -4.16463081e-05, -7.59653558e-05, -4.34980102e-05,  2.25652475e-05,\n",
       "         1.84621560e-04, -2.14270694e-04,  1.16083775e-05, -8.56609404e-05,\n",
       "        -1.18381623e-02,  3.47462408e-02, -1.90719031e-04, -1.49371801e-02,\n",
       "        -1.40130864e-02, -5.83927371e-02, -3.68137285e-02,  4.08748835e-02,\n",
       "         3.82515118e-02, -2.44960026e-03,  2.50622742e-02, -4.92268205e-02,\n",
       "        -5.78303821e-03, -3.15064080e-02, -2.86910962e-02, -4.59957570e-02,\n",
       "         2.61173770e-02,  1.24687590e-02, -9.90873203e-03, -1.28948092e-02,\n",
       "         3.07549872e-02, -8.58838297e-03,  2.55742557e-02, -1.26231052e-02,\n",
       "        -1.47516979e-03, -4.54325676e-02,  3.35635506e-02,  2.11789384e-02,\n",
       "         5.30369356e-02,  1.32056884e-03, -1.00083090e-02,  1.75669193e-02,\n",
       "         1.76644772e-02,  4.72099632e-02,  1.30588626e-02, -1.77749358e-02,\n",
       "        -1.36610190e-03,  1.11198369e-02, -3.95766385e-02,  6.48214966e-02,\n",
       "        -9.12383199e-04,  3.36663462e-02,  5.78626841e-02,  1.89689770e-02,\n",
       "         1.54575147e-03,  3.19178030e-02,  1.32461498e-03,  2.62640473e-02,\n",
       "        -2.01605242e-02, -1.05004627e-02,  1.48840505e-03, -2.46365182e-02,\n",
       "         2.55822204e-02,  1.57710351e-02,  1.25702936e-02, -3.34798917e-02,\n",
       "         2.89627742e-02,  2.39564590e-02, -3.50887477e-02, -9.16918740e-04,\n",
       "         7.04208612e-02,  4.95727919e-02,  3.40482853e-02, -5.34448177e-02,\n",
       "        -6.67205919e-03, -3.31122205e-02,  2.74142530e-02,  1.37498630e-02,\n",
       "         1.21304998e-02,  4.67285141e-03, -1.01697575e-02, -9.97068733e-03,\n",
       "        -7.27123022e-03,  1.92062315e-02, -1.58525426e-02,  1.61635876e-02,\n",
       "         1.48651591e-02,  7.68306479e-03, -4.76780012e-02, -1.01186186e-02,\n",
       "         3.92876491e-02, -8.92817415e-03,  1.42462365e-03, -1.22129936e-02,\n",
       "         2.72776596e-02, -2.90460084e-02,  3.45161930e-02,  4.90427241e-02,\n",
       "        -1.90796182e-02, -5.00776898e-03, -1.71117652e-02, -3.16746607e-02,\n",
       "        -5.84225683e-03,  5.66913672e-02,  1.30763743e-02,  2.35729888e-02,\n",
       "        -2.70142257e-02,  1.76810473e-02,  5.35733066e-03, -3.43694910e-02,\n",
       "        -5.80071099e-03,  1.66672096e-02, -3.99619341e-04, -1.17099229e-02,\n",
       "         4.67707403e-02, -3.32446247e-02, -2.66726054e-02, -2.63773054e-02,\n",
       "        -4.19719182e-02, -2.11165920e-02,  2.28581205e-03, -4.67045866e-02,\n",
       "        -3.14907730e-02, -1.04462458e-02, -2.15625111e-02, -7.74965901e-03,\n",
       "         1.33382808e-02, -8.28414969e-03,  1.65992230e-02,  1.94812194e-02,\n",
       "        -9.85036884e-03,  1.56407133e-02,  1.19810533e-02, -9.49605741e-03,\n",
       "         4.92618345e-02,  8.12472478e-02, -2.23462917e-02,  6.36307895e-02,\n",
       "        -1.31204797e-05, -3.36324265e-05,  2.13687308e-05, -3.89439128e-06,\n",
       "        -6.10976713e-05, -4.24597783e-06, -5.88295152e-05,  7.55223082e-05,\n",
       "         1.09700675e-04,  3.68537731e-05, -2.19032954e-05,  8.55569815e-05,\n",
       "         3.92965285e-06,  4.55827976e-05, -3.78472323e-05, -6.36873228e-05,\n",
       "         1.71537122e-05, -1.54423960e-05,  9.62265585e-06, -3.62702303e-05,\n",
       "         1.49557483e-04, -7.40483665e-05, -3.45792796e-05,  2.70350938e-05,\n",
       "         1.41311557e-06, -2.40261361e-05,  4.14017904e-06, -4.51959640e-05,\n",
       "        -5.82909888e-06,  2.17725028e-06, -4.44428770e-05, -6.10366806e-06,\n",
       "        -9.39487018e-06,  1.70628009e-05,  1.57956456e-05,  5.30108082e-06,\n",
       "         9.28950067e-06,  5.59705513e-05,  4.38513016e-05, -1.11224617e-05,\n",
       "        -3.63753643e-05,  4.82595387e-05, -5.97190010e-05, -2.75716411e-05,\n",
       "         6.35685183e-06, -4.13557536e-05, -4.87849175e-05,  1.22159881e-05,\n",
       "        -8.01369879e-06,  8.35650462e-06, -9.06917121e-05, -3.98501425e-06,\n",
       "         3.40698753e-05,  2.04035041e-06,  7.50104346e-06, -3.94500239e-05,\n",
       "         1.91537947e-06,  3.15355101e-05, -5.42924681e-07, -7.77919558e-06,\n",
       "        -1.13545539e-04,  4.34605718e-05,  1.75910054e-06, -2.43833965e-05,\n",
       "         5.97730468e-05,  9.24334381e-06, -8.99904699e-05, -2.78022890e-05,\n",
       "         8.10903657e-06, -2.00079012e-05, -2.29125408e-06,  4.27314217e-06,\n",
       "         2.98403102e-05, -6.14181772e-08,  3.69966037e-05, -1.22074825e-05,\n",
       "        -2.95508362e-05,  1.92223415e-05,  8.41364163e-05, -2.73064506e-05,\n",
       "        -9.34601121e-06, -4.56345588e-05, -4.94571505e-05, -2.21753835e-05,\n",
       "         3.65824235e-05,  4.68888247e-05, -5.92371216e-05,  6.54392570e-05,\n",
       "        -6.19527855e-05, -2.17967245e-05, -1.25214337e-05, -8.58815474e-06,\n",
       "         2.77506533e-05,  1.21322901e-05, -1.65378733e-05,  1.27854782e-05,\n",
       "        -4.76748100e-05, -2.19743797e-05,  6.70633926e-06,  3.86554311e-05,\n",
       "        -4.98447807e-05, -3.98118536e-05, -2.48317774e-05, -3.29723698e-05,\n",
       "         1.40592256e-05, -7.78560934e-05, -7.42889551e-06, -1.33515059e-05,\n",
       "         4.29232568e-05, -3.15817124e-05,  4.34815229e-06,  6.03985100e-05,\n",
       "        -2.01924777e-05,  1.67862563e-05, -5.08914964e-05,  9.91534944e-06,\n",
       "        -3.24004395e-05,  4.13828311e-05,  4.13119915e-06, -5.06043943e-05,\n",
       "        -4.41663251e-05, -5.46697775e-05, -2.73879014e-05,  1.32232990e-05,\n",
       "         1.18957607e-04, -1.67773775e-04,  1.77828915e-05, -6.34583630e-05],\n",
       "       dtype=float32)>,\n",
       " <tf.Tensor: shape=(128, 10000), dtype=float32, numpy=\n",
       " array([[-6.5835600e-05, -1.3132888e-04,  6.6948228e-04, ...,\n",
       "         -8.8097300e-07, -8.8141064e-07, -8.8043191e-07],\n",
       "        [ 7.2039181e-04, -1.3334149e-03, -1.3231421e-03, ...,\n",
       "          2.5944835e-06,  2.5962406e-06,  2.5936804e-06],\n",
       "        [ 5.5154250e-04,  5.8677967e-04,  8.0000790e-04, ...,\n",
       "         -2.4913786e-06, -2.4932372e-06, -2.4910869e-06],\n",
       "        ...,\n",
       "        [ 3.4140442e-03,  4.8118117e-03,  3.8888827e-03, ...,\n",
       "         -7.6596971e-06, -7.6629967e-06, -7.6598008e-06],\n",
       "        [ 1.5889090e-03,  1.8338801e-03,  7.5569906e-04, ...,\n",
       "         -1.4749622e-06, -1.4736958e-06, -1.4759299e-06],\n",
       "        [ 6.3827558e-04,  1.3150400e-03,  1.4734503e-03, ...,\n",
       "         -6.9768379e-07, -6.9561025e-07, -6.9832470e-07]], dtype=float32)>,\n",
       " <tf.Tensor: shape=(10000,), dtype=float32, numpy=\n",
       " array([-0.79799885, -1.0313324 , -1.0313315 , ...,  0.00199977,\n",
       "         0.0020005 ,  0.0019995 ], dtype=float32)>]"
      ]
     },
     "execution_count": 50,
     "metadata": {},
     "output_type": "execute_result"
    }
   ],
   "source": [
    "# Define the gradient clipping threshold\n",
    "\n",
    "# max_grad_norm -> the overall magnitude of the gradients across all tensors\n",
    "\n",
    "# clipped tensors -> 'normalized' tensors :Clipped tensors: These are the tensors returned by tf.clip_by_global_norm. They are the original tensors (gradients or any other tensors) that have been scaled down if their combined global norm exceeds the specified threshold (clip_norm). \n",
    "grads, _ = tf.clip_by_global_norm(grad_t_list, max_grad_norm)\n",
    "grads"
   ]
  },
  {
   "cell_type": "markdown",
   "metadata": {},
   "source": [
    "<h4> 4.Apply the optimizer to the variables/gradients tuple. </h4>\n"
   ]
  },
  {
   "cell_type": "code",
   "execution_count": 51,
   "metadata": {},
   "outputs": [],
   "source": [
    "# Create the training TensorFlow Operation through our optimizer\n",
    "train_op = optimizer.apply_gradients(zip(grads, tvars))"
   ]
  },
  {
   "cell_type": "markdown",
   "metadata": {
    "tags": []
   },
   "source": [
    "<a id=\"ltsm\"></a>\n",
    "<h2>LSTM</h2>\n"
   ]
  },
  {
   "cell_type": "markdown",
   "metadata": {},
   "source": [
    "We learned how the model is build step by step. Now, let's then create a Class that represents our model. This class needs a few things:\n",
    "<ul>\n",
    "    <li>We have to create the model in accordance with our defined hyperparameters</li>\n",
    "    <li>We have to create the LSTM cell structure and connect them with our RNN structure</li>\n",
    "    <li>We have to create the word embeddings and point them to the input data</li>\n",
    "    <li>We have to create the input structure for our RNN</li>\n",
    "    <li>We need to create a logistic structure to return the probability of our words</li>\n",
    "    <li>We need to create the loss and cost functions for our optimizer to work, and then create the optimizer</li>\n",
    "    <li>And finally, we need to create a training operation that can be run to actually train our model</li>\n",
    "</ul>\n"
   ]
  },
  {
   "cell_type": "code",
   "execution_count": 52,
   "metadata": {},
   "outputs": [],
   "source": [
    "class PTBModel(object): # \"Penn Treebank Model.\"  consisting of parsed and annotated English text. It has been extensively used for training and evaluating various NLP models, including language models, part-of-speech taggers, parsers, and more.\n",
    "\n",
    "\n",
    "    def __init__(self):\n",
    "        ######################################\n",
    "        # Setting parameters for ease of use #\n",
    "        ######################################\n",
    "        self.batch_size = batch_size\n",
    "        self.num_steps = num_steps\n",
    "        self.hidden_size_l1 = hidden_size_l1\n",
    "        self.hidden_size_l2 = hidden_size_l2\n",
    "        self.vocab_size = vocab_size\n",
    "        self.embeding_vector_size = embeding_vector_size\n",
    "        # Create a variable for the learning rate\n",
    "        self._lr = 1.0\n",
    "        \n",
    "        ###############################################################################\n",
    "        # Initializing the model using keras Sequential API  #\n",
    "        ###############################################################################\n",
    "        \n",
    "        self._model = tf.keras.models.Sequential()\n",
    "        \n",
    "        ####################################################################\n",
    "        # Creating the word embeddings layer and adding it to the sequence #\n",
    "        ####################################################################\n",
    "        with tf.device(\"/cpu:0\"):\n",
    "            # Create the embeddings for our input data. Size is hidden size.\n",
    "            self._embedding_layer = tf.keras.layers.Embedding(self.vocab_size, self.embeding_vector_size,batch_input_shape=(self.batch_size, self.num_steps),trainable=True,name=\"embedding_vocab\")  #[10000x200]\n",
    "            self._model.add(self._embedding_layer)\n",
    "            \n",
    "\n",
    "        ##########################################################################\n",
    "        # Creating the LSTM cell structure and connect it with the RNN structure #\n",
    "        ##########################################################################\n",
    "        # Create the LSTM Cells. \n",
    "        # This creates only the structure for the LSTM and has to be associated with a RNN unit still.\n",
    "        # The argument  of LSTMCell is size of hidden layer, that is, the number of hidden units of the LSTM (inside A). \n",
    "        # LSTM cell processes one word at a time and computes probabilities of the possible continuations of the sentence.\n",
    "        lstm_cell_l1 = tf.keras.layers.LSTMCell(hidden_size_l1)\n",
    "        lstm_cell_l2 = tf.keras.layers.LSTMCell(hidden_size_l2)\n",
    "        \n",
    "\n",
    "        \n",
    "        # By taking in the LSTM cells as parameters, the StackedRNNCells function junctions the LSTM units to the RNN units.\n",
    "        # RNN cell composed sequentially of stacked simple cells.\n",
    "        stacked_lstm = tf.keras.layers.StackedRNNCells([lstm_cell_l1, lstm_cell_l2])\n",
    "\n",
    "\n",
    "        \n",
    "\n",
    "        ############################################\n",
    "        # Creating the input structure for our RNN #\n",
    "        ############################################\n",
    "        # Input structure is 20x[30x200]\n",
    "        # Considering each word is represended by a 200 dimentional vector, and we have 30 batchs, we create 30 word-vectors of size [30xx2000]\n",
    "        # The input structure is fed from the embeddings, which are filled in by the input data\n",
    "        # Feeding a batch of b sentences to a RNN:\n",
    "        # In step 1,  first word of each of the b sentences (in a batch) is input in parallel.  \n",
    "        # In step 2,  second word of each of the b sentences is input in parallel. \n",
    "        # The parallelism is only for efficiency.  \n",
    "        # Each sentence in a batch is handled in parallel, but the network sees one word of a sentence at a time and does the computations accordingly. \n",
    "        # All the computations involving the words of all sentences in a batch at a given time step are done in parallel. \n",
    "\n",
    "        ########################################################################################################\n",
    "        # Instantiating our RNN model and setting stateful to True to feed forward the state to the next layer #\n",
    "        ########################################################################################################\n",
    "        \n",
    "        self._RNNlayer  =  tf.keras.layers.RNN(stacked_lstm,[batch_size, num_steps],return_state=False,stateful=True,trainable=True)\n",
    "        \n",
    "        # Define the initial state, i.e., the model state for the very first data point\n",
    "        # It initialize the state of the LSTM memory. The memory state of the network is initialized with a vector of zeros and gets updated after reading each word.\n",
    "        self._initial_state = tf.Variable(tf.zeros([batch_size,embeding_vector_size]),trainable=False)\n",
    "        self._RNNlayer.inital_state = self._initial_state\n",
    "    \n",
    "        ############################################\n",
    "        # Adding RNN layer to keras sequential API #\n",
    "        ############################################        \n",
    "        self._model.add(self._RNNlayer)\n",
    "        \n",
    "        #self._model.add(tf.keras.layers.LSTM(hidden_size_l1,return_sequences=True,stateful=True))\n",
    "        #self._model.add(tf.keras.layers.LSTM(hidden_size_l2,return_sequences=True))\n",
    "        \n",
    "        \n",
    "        ####################################################################################################\n",
    "        # Instantiating a Dense layer that connects the output to the vocab_size  and adding layer to model#\n",
    "        ####################################################################################################\n",
    "        self._dense = tf.keras.layers.Dense(self.vocab_size)\n",
    "        self._model.add(self._dense)\n",
    " \n",
    "        \n",
    "        ####################################################################################################\n",
    "        # Adding softmax activation layer and deriving probability to each class and adding layer to model #\n",
    "        ####################################################################################################\n",
    "        self._activation = tf.keras.layers.Activation('softmax')\n",
    "        self._model.add(self._activation)\n",
    "\n",
    "        ##########################################################\n",
    "        # Instantiating the stochastic gradient decent optimizer #\n",
    "        ########################################################## \n",
    "        self._optimizer = tf.keras.optimizers.SGD(lr=self._lr, clipnorm=max_grad_norm)\n",
    "        \n",
    "        \n",
    "        ##############################################################################\n",
    "        # Compiling and summarizing the model stacked using the keras sequential API #\n",
    "        ##############################################################################\n",
    "        self._model.compile(loss=self.crossentropy, optimizer=self._optimizer)\n",
    "        self._model.summary()\n",
    "\n",
    "\n",
    "    def crossentropy(self,y_true, y_pred):\n",
    "        return tf.keras.losses.sparse_categorical_crossentropy(y_true, y_pred)\n",
    "\n",
    "    def train_batch(self,_input_data,_targets):\n",
    "        #################################################\n",
    "        # Creating the Training Operation for our Model #\n",
    "        #################################################\n",
    "        # Create a variable for the learning rate\n",
    "        self._lr = tf.Variable(0.0, trainable=False)\n",
    "        # Get all TensorFlow variables marked as \"trainable\" (i.e. all of them except _lr, which we just created)\n",
    "        tvars = self._model.trainable_variables\n",
    "        # Define the gradient clipping threshold\n",
    "        with tf.GradientTape() as tape:\n",
    "            # Forward pass.\n",
    "            output_words_prob = self._model(_input_data)\n",
    "            # Loss value for this batch.\n",
    "            loss  = self.crossentropy(_targets, output_words_prob)\n",
    "            # average across batch and reduce sum\n",
    "            cost = tf.reduce_sum(loss/ self.batch_size)\n",
    "        # Get gradients of loss wrt the trainable variables.\n",
    "        grad_t_list = tape.gradient(cost, tvars)\n",
    "        # Define the gradient clipping threshold\n",
    "        grads, _ = tf.clip_by_global_norm(grad_t_list, max_grad_norm)\n",
    "        # Create the training TensorFlow Operation through our optimizer\n",
    "        train_op = self._optimizer.apply_gradients(zip(grads, tvars))\n",
    "        return cost\n",
    "        \n",
    "    def test_batch(self,_input_data,_targets):\n",
    "        #################################################\n",
    "        # Creating the Testing Operation for our Model #\n",
    "        #################################################\n",
    "        output_words_prob = self._model(_input_data)\n",
    "        loss  = self.crossentropy(_targets, output_words_prob)\n",
    "        # average across batch and reduce sum\n",
    "        cost = tf.reduce_sum(loss/ self.batch_size)\n",
    "        return cost\n",
    "    \n",
    "    @classmethod #  a decorator used to define a method that belongs to the class rather than the instance of the class.\n",
    "    def instance(cls) : \n",
    "        return PTBModel()"
   ]
  },
  {
   "cell_type": "markdown",
   "metadata": {},
   "source": [
    "With that, the actual structure of our Recurrent Neural Network with Long Short-Term Memory is finished. What remains for us to do is to actually create the methods to run through time -- that is, the <code>run_epoch</code> method to be run at each epoch and a <code>main</code> script which ties all of this together.\n",
    "\n",
    "What our <code>run_epoch</code> method should do is take our input data and feed it to the relevant operations. This will return at the very least the current result for the cost function.\n"
   ]
  },
  {
   "cell_type": "code",
   "execution_count": 53,
   "metadata": {},
   "outputs": [],
   "source": [
    "\n",
    "########################################################################################################################\n",
    "# run_one_epoch takes as parameters  the model instance, the data to be fed, training or testing mode and verbose info #\n",
    "########################################################################################################################\n",
    "def run_one_epoch(m, data,is_training=True,verbose=False): # 'verbose': boolean flag that indicates whether the function should produce verbose output during execution. I\n",
    "\n",
    "    #Define the epoch size based on the length of the data, batch size and the number of steps\n",
    "    epoch_size = ((len(data) // m.batch_size) - 1) // m.num_steps\n",
    "    start_time = time.time()\n",
    "    costs = 0.\n",
    "    iters = 0\n",
    "    \n",
    "    m._model.reset_states()\n",
    "    \n",
    "    #For each step and data point\n",
    "    for step, (x, y) in enumerate(ptb_iterator(data, m.batch_size, m.num_steps)):\n",
    "        \n",
    "        #Evaluate and return cost, state by running cost, final_state and the function passed as parameter\n",
    "        #y = tf.keras.utils.to_categorical(y, num_classes=vocab_size)\n",
    "        if is_training : \n",
    "            loss=  m.train_batch(x, y)\n",
    "        else :\n",
    "            loss = m.test_batch(x, y)\n",
    "                                   \n",
    "\n",
    "        #Add returned cost to costs (which keeps track of the total costs for this epoch)\n",
    "        costs += loss\n",
    "        \n",
    "        #Add number of steps to iteration counter\n",
    "        iters += m.num_steps\n",
    "\n",
    "        if verbose and step % (epoch_size // 10) == 10:\n",
    "            print(\"Itr %d of %d, perplexity: %.3f speed: %.0f wps\" % (step , epoch_size, np.exp(costs / iters), iters * m.batch_size / (time.time() - start_time)))\n",
    "        \n",
    "\n",
    "\n",
    "    # Returns the Perplexity rating for us to keep track of how the model is evolving\n",
    "    return np.exp(costs / iters)\n"
   ]
  },
  {
   "cell_type": "markdown",
   "metadata": {},
   "source": [
    "Now, we create the <code>main</code> method to tie everything together. The code here reads the data from the directory, using the <code>reader</code> helper module, and then trains and evaluates the model on both a testing and a validating subset of data.\n"
   ]
  },
  {
   "cell_type": "code",
   "execution_count": 54,
   "metadata": {},
   "outputs": [],
   "source": [
    "# Reads the data and separates it into training data, validation data and testing data\n",
    "raw_data = ptb_raw_data(data_dir)\n",
    "train_data, valid_data, test_data, _, _ = raw_data"
   ]
  },
  {
   "cell_type": "code",
   "execution_count": null,
   "metadata": {},
   "outputs": [
    {
     "name": "stdout",
     "output_type": "stream",
     "text": [
      "Model: \"sequential_1\"\n",
      "_________________________________________________________________\n",
      " Layer (type)                Output Shape              Param #   \n",
      "=================================================================\n",
      " embedding_vocab (Embedding)  (30, 20, 200)            2000000   \n",
      "                                                                 \n",
      " rnn_1 (RNN)                 (30, 20, 128)             671088    \n",
      "                                                                 \n",
      " dense_1 (Dense)             (30, 20, 10000)           1290000   \n",
      "                                                                 \n",
      " activation_1 (Activation)   (30, 20, 10000)           0         \n",
      "                                                                 \n",
      "=================================================================\n",
      "Total params: 3,961,088\n",
      "Trainable params: 3,955,088\n",
      "Non-trainable params: 6,000\n",
      "_________________________________________________________________\n",
      "Epoch 1 : Learning rate: 1.000\n",
      "Itr 10 of 1549, perplexity: 4864.891 speed: 1090 wps\n",
      "Itr 164 of 1549, perplexity: 1087.635 speed: 1082 wps\n",
      "Itr 318 of 1549, perplexity: 829.003 speed: 1084 wps\n",
      "Itr 472 of 1549, perplexity: 678.798 speed: 1080 wps\n",
      "Itr 626 of 1549, perplexity: 575.903 speed: 1082 wps\n",
      "Itr 780 of 1549, perplexity: 510.956 speed: 1088 wps\n",
      "Itr 934 of 1549, perplexity: 460.420 speed: 1087 wps\n",
      "Itr 1088 of 1549, perplexity: 423.390 speed: 1080 wps\n",
      "Itr 1242 of 1549, perplexity: 394.891 speed: 1085 wps\n",
      "Itr 1396 of 1549, perplexity: 368.163 speed: 1083 wps\n",
      "Epoch 1 : Train Perplexity: 347.232\n",
      "Epoch 1 : Valid Perplexity: 206.773\n",
      "Epoch 2 : Learning rate: 1.000\n",
      "Itr 10 of 1549, perplexity: 232.052 speed: 1041 wps\n",
      "Itr 164 of 1549, perplexity: 205.840 speed: 1042 wps\n",
      "Itr 318 of 1549, perplexity: 197.437 speed: 1060 wps\n",
      "Itr 472 of 1549, perplexity: 189.516 speed: 1060 wps\n",
      "Itr 626 of 1549, perplexity: 180.596 speed: 1064 wps\n",
      "Itr 780 of 1549, perplexity: 177.097 speed: 1065 wps\n",
      "Itr 934 of 1549, perplexity: 173.139 speed: 1072 wps\n"
     ]
    }
   ],
   "source": [
    "# Instantiates the PTBModel class\n",
    "m=PTBModel.instance()   \n",
    "K = tf.keras.backend \n",
    "for i in range(max_epoch):\n",
    "    # Define the decay for this epoch\n",
    "    lr_decay = decay ** max(i - max_epoch_decay_lr, 0.0)\n",
    "    dcr = learning_rate * lr_decay\n",
    "    m._lr = dcr\n",
    "    K.set_value(m._model.optimizer.learning_rate,m._lr)\n",
    "    print(\"Epoch %d : Learning rate: %.3f\" % (i + 1, m._model.optimizer.learning_rate))\n",
    "    # Run the loop for this epoch in the training mode\n",
    "    train_perplexity = run_one_epoch(m, train_data,is_training=True,verbose=True)\n",
    "    print(\"Epoch %d : Train Perplexity: %.3f\" % (i + 1, train_perplexity))\n",
    "        \n",
    "    # Run the loop for this epoch in the validation mode\n",
    "    valid_perplexity = run_one_epoch(m, valid_data,is_training=False,verbose=False)\n",
    "    print(\"Epoch %d : Valid Perplexity: %.3f\" % (i + 1, valid_perplexity))\n",
    "    \n",
    "# Run the loop in the testing mode to see how effective was our training\n",
    "test_perplexity = run_one_epoch(m, test_data,is_training=False,verbose=False)\n",
    "print(\"Test Perplexity: %.3f\" % test_perplexity)\n",
    "\n"
   ]
  },
  {
   "cell_type": "markdown",
   "metadata": {},
   "source": [
    "As you can see, the model's perplexity rating drops very quickly after a few iterations. As was elaborated before, <b>lower Perplexity means that the model is more certain about its prediction</b>. As such, we can be sure that this model is performing well!\n"
   ]
  },
  {
   "cell_type": "markdown",
   "metadata": {},
   "source": [
    "-------\n"
   ]
  },
  {
   "cell_type": "markdown",
   "metadata": {},
   "source": [
    "This is the end of the <b>Applying Recurrent Neural Networks to Text Processing</b> notebook. Hopefully you now have a better understanding of Recurrent Neural Networks and how to implement one utilizing TensorFlow. Thank you for reading this notebook, and good luck on your studies.\n"
   ]
  },
  {
   "cell_type": "markdown",
   "metadata": {
    "tags": []
   },
   "source": [
    "## Want to learn more?\n",
    "\n",
    "Also, you can use __Watson Studio__ to run these notebooks faster with bigger datasets.__Watson Studio__ is IBM’s leading cloud solution for data scientists, built by data scientists. With Jupyter notebooks, RStudio, Apache Spark and popular libraries pre-packaged in the cloud, __Watson Studio__ enables data scientists to collaborate on their projects without having to install anything. Join the fast-growing community of __Watson Studio__ users today with a free account at [Watson Studio](https://cocl.us/ML0120EN_DSX).This is the end of this lesson. Thank you for reading this notebook, and good luck on your studies.\n"
   ]
  },
  {
   "cell_type": "markdown",
   "metadata": {},
   "source": [
    "### Thanks for completing this lesson!\n",
    "\n",
    "Notebook created by <a href=\"https://br.linkedin.com/in/walter-gomes-de-amorim-junior-624726121?utm_medium=Exinfluencer&utm_source=Exinfluencer&utm_content=000026UJ&utm_term=10006555&utm_id=NA-SkillsNetwork-Channel-SkillsNetworkCoursesIBMDeveloperSkillsNetworkDL0120ENSkillsNetwork954-2023-01-01\">Walter Gomes de Amorim Junior</a>, <a href = \"https://linkedin.com/in/saeedaghabozorgi\"> Saeed Aghabozorgi </a></h4>\n",
    "\n",
    "\n",
    "Updated to TF 2.X by  <a href=\"https://www.linkedin.com/in/samaya-madhavan?utm_medium=Exinfluencer&utm_source=Exinfluencer&utm_content=000026UJ&utm_term=10006555&utm_id=NA-SkillsNetwork-Channel-SkillsNetworkCoursesIBMDeveloperSkillsNetworkDL0120ENSkillsNetwork954-2023-01-01\"> Samaya Madhavan </a>\n"
   ]
  },
  {
   "cell_type": "markdown",
   "metadata": {},
   "source": [
    "<hr>\n",
    "\n",
    "Copyright &copy; 2018 [Cognitive Class](https://cocl.us/DX0108EN_CC). This notebook and its source code are released under the terms of the [MIT License](https://bigdatauniversity.com/mit-license/?utm_medium=Exinfluencer&utm_source=Exinfluencer&utm_content=000026UJ&utm_term=10006555&utm_id=NA-SkillsNetwork-Channel-SkillsNetworkCoursesIBMDeveloperSkillsNetworkDL0120ENSkillsNetwork954-2023-01-01).\n"
   ]
  }
 ],
 "metadata": {
  "kernelspec": {
   "display_name": "Python",
   "language": "python",
   "name": "conda-env-python-py"
  },
  "language_info": {
   "codemirror_mode": {
    "name": "ipython",
    "version": 3
   },
   "file_extension": ".py",
   "mimetype": "text/x-python",
   "name": "python",
   "nbconvert_exporter": "python",
   "pygments_lexer": "ipython3",
   "version": "3.7.12"
  }
 },
 "nbformat": 4,
 "nbformat_minor": 4
}
