{
 "cells": [
  {
   "cell_type": "markdown",
   "metadata": {},
   "source": [
    "<img src=\"https://cf-courses-data.s3.us.cloud-object-storage.appdomain.cloud/IBMDeveloperSkillsNetwork-DL0120EN-SkillsNetwork/images/IDSN-logo.png\" width=\"300\" alt=\"cognitiveclass.ai logo\">\n",
    "\n",
    "<h1 align=\"center\"><font size=\"5\">RESTRICTED BOLTZMANN MACHINES</font></h1>\n"
   ]
  },
  {
   "cell_type": "markdown",
   "metadata": {},
   "source": [
    "Estimated time needed: **25** minutes\n"
   ]
  },
  {
   "cell_type": "markdown",
   "metadata": {},
   "source": [
    "<h3>Introduction</h3>\n",
    "<b>Restricted Boltzmann Machine (RBM):</b>  RBMs are shallow neural nets that learn to reconstruct data by themselves in an unsupervised fashion.  \n",
    "\n",
    "\n",
    "<h4>Why are RBMs important?</h4>\n",
    "An RBM are a basic form of autoencoder.  It can automatically extract <b>meaningful</b> features from a given input.\n",
    "\n",
    "\n",
    "<h4>How does it work?</h4>\n",
    "RBM is a 2 layer neural network. Simply, RBM takes the inputs and translates those into a set of binary values that represents them in the hidden layer. Then, these numbers can be translated back to reconstruct the inputs. Through several forward and backward passes, the RBM will be trained, and a trained RBM can reveal which features are the most important ones when detecting patterns.   \n",
    "\n",
    "\n",
    "<h4>What are the applications of an RBM?</h4>\n",
    "RBM is useful for <a href='http://www.cs.utoronto.ca/~hinton/absps/netflixICML.pdf'>  Collaborative Filtering</a>, dimensionality reduction, classification, regression, feature learning, topic modeling and even <b>Deep Belief Networks</b>.\n",
    "\n",
    "<h4>Is RBM a generative or Discriminative model?</h4>\n",
    "RBM is a generative model. Let me explain it by first, see what is different between discriminative and generative models: \n",
    "\n",
    "<b>Discriminative:</b> Consider a classification problem where we want to learn to distinguish between Sedan cars (y = 1) and SUV cars (y = 0), based on some features of cars. Given a training set, an algorithm like logistic regression tries to find a straight line, or <i>decision boundary</i>, that separates the suv and sedan.  \n",
    "\n",
    "<b>Generative:</b> looking at cars, we can build a model of what Sedan cars look like. Then, looking at SUVs, we can build a separate model of what SUV cars look like. Finally, to classify a new car, we can match the new car against the Sedan model, and match it against the SUV model, to see whether the new car looks more like the SUV or Sedan. \n",
    "\n",
    "Generative Models specify a probability distribution over a dataset of input vectors. We can carry out both supervised and unsupervised tasks with generative models:\n",
    "<ul>\n",
    "    <li>In an unsupervised task, we try to form a model for $P(x)$, where $P$ is the probability given $x$ as an input vector.</li>\n",
    "    <li>In the supervised task, we first form a model for $P(x|y)$, where $P$ is the probability of $x$ given $y$(the label for $x$). For example, if $y = 0$ indicates that a car is an SUV, and $y = 1$ indicates that a car is a sedan, then $p(x|y = 0)$ models the distribution of SUV features, and $p(x|y = 1)$ models the distribution of sedan features. If we manage to find $P(x|y)$ and $P(y)$, then we can use <b>Bayes rule</b> to estimate $P(y|x)$, because:   \n",
    "        $$p(y|x) = \\frac{p(x|y)p(y)}{p(x)}$$</li>\n",
    "</ul>\n",
    "Now the question is, can we build a generative model, and then use it to create synthetic data by directly sampling from the modeled probability distributions? Lets see. \n"
   ]
  },
  {
   "cell_type": "markdown",
   "metadata": {},
   "source": [
    "<h2>Table of Contents</h2>\n",
    "<ol>\n",
    "    <li><a href=\"#ref1\">Initialization</a></li>\n",
    "    <li><a href=\"#ref2\">RBM layers</a></li>\n",
    "    <li><a href=\"#ref3\">What RBM can do after training?</a></li>\n",
    "    <li><a href=\"#ref4\">How to train the model?</a></li>\n",
    "    <li><a href=\"#ref5\">Learned features</a></li>\n",
    "</ol>\n",
    "<p></p>\n",
    "</div>\n",
    "<br>\n",
    "\n",
    "<hr>\n"
   ]
  },
  {
   "cell_type": "markdown",
   "metadata": {},
   "source": [
    "<a id=\"ref1\"></a>\n",
    "<h3>Initialization</h3>\n",
    "\n",
    "First, we have to load the utility file which contains different utility functions that are not connected\n",
    "in any way to the networks presented in the tutorials, but rather help in\n",
    "processing the outputs into a more understandable way.\n"
   ]
  },
  {
   "cell_type": "code",
   "execution_count": 1,
   "metadata": {
    "tags": []
   },
   "outputs": [],
   "source": [
    "import urllib.request\n",
    "with urllib.request.urlopen(\"https://cf-courses-data.s3.us.cloud-object-storage.appdomain.cloud/IBMDeveloperSkillsNetwork-DL0120EN-SkillsNetwork/labs/Week4/data/utils.py\") as url:\n",
    "    response = url.read()\n",
    "target = open('utils.py', 'w')\n",
    "target.write(response.decode('utf-8'))\n",
    "target.close()"
   ]
  },
  {
   "cell_type": "markdown",
   "metadata": {},
   "source": [
    "<h2>Installing TensorFlow </h2>\n",
    "\n",
    "We will installing TensorFlow version 2.9.0 and its required prerequistes.  Also installing pillow...\n"
   ]
  },
  {
   "cell_type": "code",
   "execution_count": 2,
   "metadata": {
    "collapsed": true,
    "jupyter": {
     "outputs_hidden": true
    },
    "tags": []
   },
   "outputs": [
    {
     "name": "stdout",
     "output_type": "stream",
     "text": [
      "Requirement already satisfied: grpcio==1.24.3 in /home/jupyterlab/conda/envs/python/lib/python3.7/site-packages (1.24.3)\n",
      "Requirement already satisfied: six>=1.5.2 in /home/jupyterlab/conda/envs/python/lib/python3.7/site-packages (from grpcio==1.24.3) (1.16.0)\n",
      "Requirement already satisfied: tensorflow==2.9.0 in /home/jupyterlab/conda/envs/python/lib/python3.7/site-packages (2.9.0)\n",
      "Requirement already satisfied: absl-py>=1.0.0 in /home/jupyterlab/conda/envs/python/lib/python3.7/site-packages (from tensorflow==2.9.0) (1.4.0)\n",
      "Requirement already satisfied: astunparse>=1.6.0 in /home/jupyterlab/conda/envs/python/lib/python3.7/site-packages (from tensorflow==2.9.0) (1.6.3)\n",
      "Requirement already satisfied: flatbuffers<2,>=1.12 in /home/jupyterlab/conda/envs/python/lib/python3.7/site-packages (from tensorflow==2.9.0) (1.12)\n",
      "Requirement already satisfied: gast<=0.4.0,>=0.2.1 in /home/jupyterlab/conda/envs/python/lib/python3.7/site-packages (from tensorflow==2.9.0) (0.4.0)\n",
      "Requirement already satisfied: google-pasta>=0.1.1 in /home/jupyterlab/conda/envs/python/lib/python3.7/site-packages (from tensorflow==2.9.0) (0.2.0)\n",
      "Requirement already satisfied: grpcio<2.0,>=1.24.3 in /home/jupyterlab/conda/envs/python/lib/python3.7/site-packages (from tensorflow==2.9.0) (1.24.3)\n",
      "Requirement already satisfied: h5py>=2.9.0 in /home/jupyterlab/conda/envs/python/lib/python3.7/site-packages (from tensorflow==2.9.0) (3.8.0)\n",
      "Requirement already satisfied: keras<2.10.0,>=2.9.0rc0 in /home/jupyterlab/conda/envs/python/lib/python3.7/site-packages (from tensorflow==2.9.0) (2.9.0)\n",
      "Requirement already satisfied: keras-preprocessing>=1.1.1 in /home/jupyterlab/conda/envs/python/lib/python3.7/site-packages (from tensorflow==2.9.0) (1.1.2)\n",
      "Requirement already satisfied: libclang>=13.0.0 in /home/jupyterlab/conda/envs/python/lib/python3.7/site-packages (from tensorflow==2.9.0) (18.1.1)\n",
      "Requirement already satisfied: numpy>=1.20 in /home/jupyterlab/conda/envs/python/lib/python3.7/site-packages (from tensorflow==2.9.0) (1.21.4)\n",
      "Requirement already satisfied: opt-einsum>=2.3.2 in /home/jupyterlab/conda/envs/python/lib/python3.7/site-packages (from tensorflow==2.9.0) (3.3.0)\n",
      "Requirement already satisfied: packaging in /home/jupyterlab/conda/envs/python/lib/python3.7/site-packages (from tensorflow==2.9.0) (23.1)\n",
      "Requirement already satisfied: protobuf>=3.9.2 in /home/jupyterlab/conda/envs/python/lib/python3.7/site-packages (from tensorflow==2.9.0) (3.19.6)\n",
      "Requirement already satisfied: setuptools in /home/jupyterlab/conda/envs/python/lib/python3.7/site-packages (from tensorflow==2.9.0) (67.7.2)\n",
      "Requirement already satisfied: six>=1.12.0 in /home/jupyterlab/conda/envs/python/lib/python3.7/site-packages (from tensorflow==2.9.0) (1.16.0)\n",
      "Requirement already satisfied: tensorboard<2.10,>=2.9 in /home/jupyterlab/conda/envs/python/lib/python3.7/site-packages (from tensorflow==2.9.0) (2.9.1)\n",
      "Requirement already satisfied: tensorflow-io-gcs-filesystem>=0.23.1 in /home/jupyterlab/conda/envs/python/lib/python3.7/site-packages (from tensorflow==2.9.0) (0.34.0)\n",
      "Requirement already satisfied: tensorflow-estimator<2.10.0,>=2.9.0rc0 in /home/jupyterlab/conda/envs/python/lib/python3.7/site-packages (from tensorflow==2.9.0) (2.9.0)\n",
      "Requirement already satisfied: termcolor>=1.1.0 in /home/jupyterlab/conda/envs/python/lib/python3.7/site-packages (from tensorflow==2.9.0) (2.3.0)\n",
      "Requirement already satisfied: typing-extensions>=3.6.6 in /home/jupyterlab/conda/envs/python/lib/python3.7/site-packages (from tensorflow==2.9.0) (4.5.0)\n",
      "Requirement already satisfied: wrapt>=1.11.0 in /home/jupyterlab/conda/envs/python/lib/python3.7/site-packages (from tensorflow==2.9.0) (1.14.1)\n",
      "Requirement already satisfied: wheel<1.0,>=0.23.0 in /home/jupyterlab/conda/envs/python/lib/python3.7/site-packages (from astunparse>=1.6.0->tensorflow==2.9.0) (0.40.0)\n",
      "Requirement already satisfied: google-auth<3,>=1.6.3 in /home/jupyterlab/conda/envs/python/lib/python3.7/site-packages (from tensorboard<2.10,>=2.9->tensorflow==2.9.0) (2.29.0)\n",
      "Requirement already satisfied: google-auth-oauthlib<0.5,>=0.4.1 in /home/jupyterlab/conda/envs/python/lib/python3.7/site-packages (from tensorboard<2.10,>=2.9->tensorflow==2.9.0) (0.4.6)\n",
      "Requirement already satisfied: markdown>=2.6.8 in /home/jupyterlab/conda/envs/python/lib/python3.7/site-packages (from tensorboard<2.10,>=2.9->tensorflow==2.9.0) (3.4.3)\n",
      "Requirement already satisfied: requests<3,>=2.21.0 in /home/jupyterlab/conda/envs/python/lib/python3.7/site-packages (from tensorboard<2.10,>=2.9->tensorflow==2.9.0) (2.29.0)\n",
      "Requirement already satisfied: tensorboard-data-server<0.7.0,>=0.6.0 in /home/jupyterlab/conda/envs/python/lib/python3.7/site-packages (from tensorboard<2.10,>=2.9->tensorflow==2.9.0) (0.6.1)\n",
      "Requirement already satisfied: tensorboard-plugin-wit>=1.6.0 in /home/jupyterlab/conda/envs/python/lib/python3.7/site-packages (from tensorboard<2.10,>=2.9->tensorflow==2.9.0) (1.8.1)\n",
      "Requirement already satisfied: werkzeug>=1.0.1 in /home/jupyterlab/conda/envs/python/lib/python3.7/site-packages (from tensorboard<2.10,>=2.9->tensorflow==2.9.0) (2.2.3)\n",
      "Requirement already satisfied: cachetools<6.0,>=2.0.0 in /home/jupyterlab/conda/envs/python/lib/python3.7/site-packages (from google-auth<3,>=1.6.3->tensorboard<2.10,>=2.9->tensorflow==2.9.0) (5.3.3)\n",
      "Requirement already satisfied: pyasn1-modules>=0.2.1 in /home/jupyterlab/conda/envs/python/lib/python3.7/site-packages (from google-auth<3,>=1.6.3->tensorboard<2.10,>=2.9->tensorflow==2.9.0) (0.3.0)\n",
      "Requirement already satisfied: rsa<5,>=3.1.4 in /home/jupyterlab/conda/envs/python/lib/python3.7/site-packages (from google-auth<3,>=1.6.3->tensorboard<2.10,>=2.9->tensorflow==2.9.0) (4.9)\n",
      "Requirement already satisfied: requests-oauthlib>=0.7.0 in /home/jupyterlab/conda/envs/python/lib/python3.7/site-packages (from google-auth-oauthlib<0.5,>=0.4.1->tensorboard<2.10,>=2.9->tensorflow==2.9.0) (2.0.0)\n",
      "Requirement already satisfied: importlib-metadata>=4.4 in /home/jupyterlab/conda/envs/python/lib/python3.7/site-packages (from markdown>=2.6.8->tensorboard<2.10,>=2.9->tensorflow==2.9.0) (4.11.4)\n",
      "Requirement already satisfied: charset-normalizer<4,>=2 in /home/jupyterlab/conda/envs/python/lib/python3.7/site-packages (from requests<3,>=2.21.0->tensorboard<2.10,>=2.9->tensorflow==2.9.0) (3.1.0)\n",
      "Requirement already satisfied: idna<4,>=2.5 in /home/jupyterlab/conda/envs/python/lib/python3.7/site-packages (from requests<3,>=2.21.0->tensorboard<2.10,>=2.9->tensorflow==2.9.0) (3.4)\n",
      "Requirement already satisfied: urllib3<1.27,>=1.21.1 in /home/jupyterlab/conda/envs/python/lib/python3.7/site-packages (from requests<3,>=2.21.0->tensorboard<2.10,>=2.9->tensorflow==2.9.0) (1.26.15)\n",
      "Requirement already satisfied: certifi>=2017.4.17 in /home/jupyterlab/conda/envs/python/lib/python3.7/site-packages (from requests<3,>=2.21.0->tensorboard<2.10,>=2.9->tensorflow==2.9.0) (2023.5.7)\n",
      "Requirement already satisfied: MarkupSafe>=2.1.1 in /home/jupyterlab/conda/envs/python/lib/python3.7/site-packages (from werkzeug>=1.0.1->tensorboard<2.10,>=2.9->tensorflow==2.9.0) (2.1.1)\n",
      "Requirement already satisfied: zipp>=0.5 in /home/jupyterlab/conda/envs/python/lib/python3.7/site-packages (from importlib-metadata>=4.4->markdown>=2.6.8->tensorboard<2.10,>=2.9->tensorflow==2.9.0) (3.15.0)\n",
      "Requirement already satisfied: pyasn1<0.6.0,>=0.4.6 in /home/jupyterlab/conda/envs/python/lib/python3.7/site-packages (from pyasn1-modules>=0.2.1->google-auth<3,>=1.6.3->tensorboard<2.10,>=2.9->tensorflow==2.9.0) (0.5.0)\n",
      "Requirement already satisfied: oauthlib>=3.0.0 in /home/jupyterlab/conda/envs/python/lib/python3.7/site-packages (from requests-oauthlib>=0.7.0->google-auth-oauthlib<0.5,>=0.4.1->tensorboard<2.10,>=2.9->tensorflow==2.9.0) (3.2.2)\n",
      "Requirement already satisfied: pillow==8.1.0 in /home/jupyterlab/conda/envs/python/lib/python3.7/site-packages (8.1.0)\n"
     ]
    }
   ],
   "source": [
    "!pip install grpcio==1.24.3 # grpcio is a Python library for implementing gRPC (Google Remote Procedure Call), which is a high-performance, open-source, universal RPC framework. \n",
    "!pip install tensorflow==2.9.0\n",
    "!pip install pillow==8.1.0 # Pillow is a Python Imaging Library (PIL) fork, which provides extensive capabilities for opening, manipulating, and saving many different image file formats. "
   ]
  },
  {
   "cell_type": "markdown",
   "metadata": {},
   "source": [
    "**Restart kernel for latest version of TensorFlow to be activated, then continue to the next section.**\n"
   ]
  },
  {
   "cell_type": "markdown",
   "metadata": {},
   "source": [
    "<b>Notice:</b> This notebook has been created with TensorFlow version 2.9.0, and might not work with other versions. Therefore we check:\n"
   ]
  },
  {
   "cell_type": "code",
   "execution_count": 3,
   "metadata": {
    "tags": []
   },
   "outputs": [
    {
     "name": "stderr",
     "output_type": "stream",
     "text": [
      "2024-04-04 08:02:09.408399: I tensorflow/core/util/util.cc:169] oneDNN custom operations are on. You may see slightly different numerical results due to floating-point round-off errors from different computation orders. To turn them off, set the environment variable `TF_ENABLE_ONEDNN_OPTS=0`.\n",
      "2024-04-04 08:02:09.421663: W tensorflow/stream_executor/platform/default/dso_loader.cc:64] Could not load dynamic library 'libcudart.so.11.0'; dlerror: libcudart.so.11.0: cannot open shared object file: No such file or directory\n",
      "2024-04-04 08:02:09.421702: I tensorflow/stream_executor/cuda/cudart_stub.cc:29] Ignore above cudart dlerror if you do not have a GPU set up on your machine.\n"
     ]
    }
   ],
   "source": [
    "import tensorflow as tf\n",
    "from IPython.display import Markdown, display\n",
    "\n",
    "def printmd(string):\n",
    "    display(Markdown('# <span style=\"color:red\">'+string+'</span>'))\n",
    "\n",
    "\n",
    "if not tf.__version__ == '2.9.0':\n",
    "    printmd('<<<<<!!!!! ERROR !!!! please upgrade to TensorFlow 2.9.0, or restart your Kernel (Kernel->Restart & Clear Output)>>>>>')"
   ]
  },
  {
   "cell_type": "markdown",
   "metadata": {},
   "source": [
    "Now, we load in all the packages that we use to create the net including the TensorFlow package:\n"
   ]
  },
  {
   "cell_type": "code",
   "execution_count": 4,
   "metadata": {
    "tags": []
   },
   "outputs": [],
   "source": [
    "import tensorflow as tf\n",
    "import numpy as np\n",
    "\n",
    "#PIL: python imaging library\n",
    "from PIL import Image # The Image class from PIL allows you to open, manipulate, and save image files. \n",
    "\n",
    "# 'utilities'\n",
    "from utils import tile_raster_images\n",
    "import matplotlib.pyplot as plt\n",
    "%matplotlib inline"
   ]
  },
  {
   "cell_type": "markdown",
   "metadata": {},
   "source": [
    "<hr>\n"
   ]
  },
  {
   "cell_type": "markdown",
   "metadata": {
    "tags": []
   },
   "source": [
    "<a id=\"ref2\"></a>\n",
    "<h3>RBM layers</h3>\n",
    "\n",
    "An RBM has two layers. The first layer of the RBM is called the <b>visible</b> (or input layer). Imagine that our toy example, has only vectors with 7 values, so the visible layer must have $V=7$ input nodes. \n",
    "The second layer is the <b>hidden</b> layer, which has $H$ neurons in our case. Each hidden node takes on values of either 0 or 1 (i.e., $h_i = 1$ or $h_i$ = 0), with a probability that is a logistic function of the inputs it receives from the other $V$ visible units, called for example, $p(h_i = 1)$. For our toy sample, we'll use 2 nodes in the hidden layer, so $H = 2$.\n",
    "\n",
    "<center><img src=\"https://ibm.box.com/shared/static/eu26opvcefgls6vnwuo29uwp0nudmokh.png\" alt=\"RBM Model\" style=\"width: 400px;\"></center>\n"
   ]
  },
  {
   "cell_type": "markdown",
   "metadata": {},
   "source": [
    "     \n",
    "\n",
    "Each node in the first layer also has a <b>bias</b>. We will denote the bias as $v_{bias}$, and this single value is shared among the $V$ visible units.\n",
    "\n",
    "The <b>bias</b> of the second is defined similarly as $h_{bias}$, and this single value among the $H$ hidden units.\n"
   ]
  },
  {
   "cell_type": "code",
   "execution_count": 5,
   "metadata": {},
   "outputs": [
    {
     "name": "stderr",
     "output_type": "stream",
     "text": [
      "2024-04-04 08:02:17.500764: W tensorflow/stream_executor/platform/default/dso_loader.cc:64] Could not load dynamic library 'libcuda.so.1'; dlerror: libcuda.so.1: cannot open shared object file: No such file or directory\n",
      "2024-04-04 08:02:17.500833: W tensorflow/stream_executor/cuda/cuda_driver.cc:269] failed call to cuInit: UNKNOWN ERROR (303)\n",
      "2024-04-04 08:02:17.500875: I tensorflow/stream_executor/cuda/cuda_diagnostics.cc:156] kernel driver does not appear to be running on this host (jupyterlab-dongping07): /proc/driver/nvidia/version does not exist\n",
      "2024-04-04 08:02:17.501417: I tensorflow/core/platform/cpu_feature_guard.cc:193] This TensorFlow binary is optimized with oneAPI Deep Neural Network Library (oneDNN) to use the following CPU instructions in performance-critical operations:  AVX2 AVX512F AVX512_VNNI FMA\n",
      "To enable them in other operations, rebuild TensorFlow with the appropriate compiler flags.\n"
     ]
    }
   ],
   "source": [
    "v_bias = tf.Variable(tf.zeros([7]), tf.float32)\n",
    "h_bias = tf.Variable(tf.zeros([2]), tf.float32)"
   ]
  },
  {
   "cell_type": "markdown",
   "metadata": {},
   "source": [
    "We have to define weights among the input layer and hidden layer nodes. In the weight matrix, the number of rows are equal to the input nodes, and the number of columns are equal to the output nodes. We define a tensor $\\mathbf{W}$ of shape = (7,2), where the number of visible neurons = 7, and the number of hidden neurons = 2. \n"
   ]
  },
  {
   "cell_type": "code",
   "execution_count": 28,
   "metadata": {},
   "outputs": [],
   "source": [
    "W = tf.constant(np.random.normal(loc=0.0, scale=1.0, size=(7, 2)).astype(np.float32))"
   ]
  },
  {
   "cell_type": "markdown",
   "metadata": {},
   "source": [
    "<hr>\n"
   ]
  },
  {
   "cell_type": "markdown",
   "metadata": {
    "tags": []
   },
   "source": [
    "<a id=\"ref3\"></a>\n",
    "<h3>What RBM can do after training?</h3>\n",
    "Think of RBM as a model that has been trained based on images of a dataset of many SUV and sedan cars. Also, imagine that the RBM network has only two hidden nodes, where one node encodes the weight and, and the other encodes the size.  \n",
    "In a sense, the different configurations represent different cars, where one is an SUV and the other is Sedan.  In a training process, through many forward and backward passes, the RBM adjust its weights to send a stronger signal to either the SUV node (0, 1) or the sedan node (1, 0) in the hidden layer, given the pixels of images. Now, given an SUV in hidden layer, which distribution of pixels should we expect? RBM can give you 2 things. First, it encodes your images in hidden layer. Second, it gives you the probability of observing a case, given some hidden values.\n",
    "\n",
    "\n",
    "<h3>The Inference Process</h3>\n",
    "\n",
    "RBM has two phases:\n",
    "<ul>\n",
    "    <li>Forward Pass</li>  \n",
    "    <li>Backward Pass or Reconstruction</li>\n",
    "</ul>\n",
    "\n",
    "<b>Phase 1) Forward pass:</b>  \n",
    "\n",
    "Input one training sample (one image) $\\mathbf{x}$ through all visible nodes, and pass it to all hidden nodes. Processing happens in each node in the hidden layer. This computation begins by making stochastic decisions about whether to transmit that input or not (i.e. to determine the state of each hidden layer).  First, the probability vector is computed using the input feature vector $\\mathbf{x}$, the weight matrix $\\mathbf{W}$, and the bias term $h_{bias}$, as \n",
    "\n",
    "\n",
    "$$p({h_j}|\\mathbf x)= \\sigma( \\sum_{i=1}^V W_{ij} x_i + h_{bias} )$$, \n",
    "\n",
    "where $\\sigma(z) = (1+e^{-z})^{-1}$ is the logistic function.\n",
    "\n",
    "\n",
    "So, what does $p({h_j})$ represent? It is the <b>probability distribution</b> of the hidden units. That is, RBM uses inputs $x_i$ to make predictions about hidden node activations. For example, imagine that the hidden node activation values are [0.51 0.84] for the first training item. It tells you that the conditional probability for each hidden neuron for Phase 1 is: \n",
    "\n",
    "$$p(h_{1} = 1|\\mathbf{v}) = 0.51$$\n",
    "$$p(h_{2} = 1|\\mathbf{v}) = 0.84$$\n",
    "\n",
    "As a result, for each row in the training set, vector of probabilities is generated.  In TensorFlow, this is referred to as a `tensor` with a shape of (1,2). \n",
    "\n",
    "We then turn unit $j$ with probability $p(h_{j}|\\mathbf{v})$, and turn it off with probability $1 - p(h_{j}|\\mathbf{v})$ by generating a uniform random number vector $\\mathbf{\\xi}$, and comparing it to the activation probability as \n",
    "\n",
    "<center>If $\\xi_j>p(h_{j}|\\mathbf{v})$, then $h_j=1$, else $h_j=0$.</center>\n",
    "\n",
    "\n",
    "Therefore, the conditional probability of a configuration of $\\mathbf{h}$ given $\\mathbf{v}$ (for a training sample) is:\n",
    "\n",
    "$$p(\\mathbf{h} \\mid \\mathbf{v}) = \\prod_{j=1}^H p(h_j \\mid \\mathbf{v})$$\n",
    "\n",
    "\n",
    "where $H$ is the number of hidden units.\n",
    "\n"
   ]
  },
  {
   "cell_type": "markdown",
   "metadata": {},
   "source": [
    "Before we go further, let's look at a toy example for one case out of all input. Assume that we have a trained RBM, and a very simple input vector, such as [1.0, 0.0, 0.0, 1.0, 0.0, 0.0, 0.0].   \n",
    "Let's see what the output of forward pass would look like:\n"
   ]
  },
  {
   "cell_type": "code",
   "execution_count": 7,
   "metadata": {},
   "outputs": [
    {
     "name": "stdout",
     "output_type": "stream",
     "text": [
      "Input:  tf.Tensor([[1. 0. 0. 1. 0. 0. 0.]], shape=(1, 7), dtype=float32)\n",
      "hb:  tf.Tensor([0.1 0.1], shape=(2,), dtype=float32)\n",
      "w:  tf.Tensor(\n",
      "[[ 1.8613667   0.5517338 ]\n",
      " [-0.29196098  0.04003807]\n",
      " [ 0.32507464  1.0750333 ]\n",
      " [ 0.02398591  1.0556666 ]\n",
      " [ 0.20499413  1.8072729 ]\n",
      " [-0.40277416 -0.26231575]\n",
      " [ 0.82223755  0.20888312]], shape=(7, 2), dtype=float32)\n",
      "p(h|v):  tf.Tensor([[0.87925065 0.8464988 ]], shape=(1, 2), dtype=float32)\n",
      "h0 states: tf.Tensor([[1. 1.]], shape=(1, 2), dtype=float32)\n"
     ]
    }
   ],
   "source": [
    "X = tf.constant([[1.0, 0.0, 0.0, 1.0, 0.0, 0.0, 0.0]], tf.float32) #training sample data.\n",
    "\n",
    "v_state = X\n",
    "print (\"Input: \", v_state)\n",
    "\n",
    "h_bias = tf.constant([0.1, 0.1])\n",
    "print (\"hb: \", h_bias)\n",
    "print (\"w: \", W)\n",
    "\n",
    "# Calculate the probabilities of turning the hidden units on:\n",
    "h_prob = tf.nn.sigmoid(tf.matmul(v_state, W) + h_bias)  #probabilities of the hidden units\n",
    "print (\"p(h|v): \", h_prob)\n",
    "\n",
    "# Draw samples from the distribution:\n",
    "\n",
    "# tf.random.uniform(tf.shape(h_prob)): This generates a tensor of the same shape as h_prob filled with random numbers uniformly distributed between 0 and 1.\n",
    "# introduce noise -> h_prob - tf.random.uniform(tf.shape(h_prob)): This calculates the difference between the probabilities h_prob and the random values generated. This essentially introduces noise to the probabilities.\n",
    "# tf.sign(h_prob - tf.random.uniform(tf.shape(h_prob))): This applies the sign function to the differences obtained in the previous step. The sign function returns -1 for negative values, 0 for zero, and 1 for positive values. This effectively converts the differences into binary values (-1, 0, 1).\n",
    "# Relu -> ReLU returns 0 for negative values and the value itself for positive values, effectively turning negative values into zeros.\n",
    "h_state = tf.nn.relu(tf.sign(h_prob - tf.random.uniform(tf.shape(h_prob)))) #states\n",
    "print (\"h0 states:\", h_state)"
   ]
  },
  {
   "cell_type": "code",
   "execution_count": 7,
   "metadata": {},
   "outputs": [
    {
     "name": "stdout",
     "output_type": "stream",
     "text": [
      "Input:  tf.Tensor([[1. 0. 0. 1. 0. 0. 0.]], shape=(1, 7), dtype=float32)\n",
      "hb:  tf.Tensor([0.1 0.1], shape=(2,), dtype=float32)\n",
      "w:  tf.Tensor(\n",
      "[[ 1.8613667   0.5517338 ]\n",
      " [-0.29196098  0.04003807]\n",
      " [ 0.32507464  1.0750333 ]\n",
      " [ 0.02398591  1.0556666 ]\n",
      " [ 0.20499413  1.8072729 ]\n",
      " [-0.40277416 -0.26231575]\n",
      " [ 0.82223755  0.20888312]], shape=(7, 2), dtype=float32)\n",
      "p(h|v):  tf.Tensor([[0.87925065 0.8464988 ]], shape=(1, 2), dtype=float32)\n",
      "h0 states: tf.Tensor([[1. 1.]], shape=(1, 2), dtype=float32)\n"
     ]
    }
   ],
   "source": [
    "X = tf.constant([[1.0, 0.0, 0.0, 1.0, 0.0, 0.0, 0.0]], tf.float32)\n",
    "\n",
    "v_state = X\n",
    "print (\"Input: \", v_state)\n",
    "\n",
    "h_bias = tf.constant([0.1, 0.1])\n",
    "print (\"hb: \", h_bias)\n",
    "print (\"w: \", W)\n",
    "\n",
    "# Calculate the probabilities of turning the hidden units on:\n",
    "h_prob = tf.nn.sigmoid(tf.matmul(v_state, W) + h_bias)  #probabilities of the hidden units\n",
    "print (\"p(h|v): \", h_prob)\n",
    "\n",
    "# Draw samples from the distribution:\n",
    "\n",
    "# tf.random.uniform(tf.shape(h_prob)): This generates a tensor of the same shape as h_prob filled with random numbers uniformly distributed between 0 and 1.\n",
    "# introduce noise -> h_prob - tf.random.uniform(tf.shape(h_prob)): This calculates the difference between the probabilities h_prob and the random values generated. This essentially introduces noise to the probabilities.\n",
    "# tf.sign(h_prob - tf.random.uniform(tf.shape(h_prob))): This applies the sign function to the differences obtained in the previous step. The sign function returns -1 for negative values, 0 for zero, and 1 for positive values. This effectively converts the differences into binary values (-1, 0, 1).\n",
    "# Relu -> ReLU returns 0 for negative values and the value itself for positive values, effectively turning negative values into zeros.\n",
    "h_state = tf.nn.relu(tf.sign(h_prob - tf.random.uniform(tf.shape(h_prob)))) #states\n",
    "print (\"h0 states:\", h_state)"
   ]
  },
  {
   "cell_type": "markdown",
   "metadata": {},
   "source": [
    "<b>Phase 2) Backward Pass (Reconstruction):</b>\n",
    "\n",
    "The RBM reconstructs data by making several forward and backward passes between the visible and hidden layers.\n",
    "\n",
    "So, in the second phase (i.e. reconstruction phase), the samples from the hidden layer (i.e. $\\mathbf h$) becomes the input in the backward pass. The same weight matrix and visible layer biases are used to passed to the sigmoid function. The reproduced output is a reconstruction which is an approximation of the original input.\n"
   ]
  },
  {
   "cell_type": "code",
   "execution_count": 8,
   "metadata": {},
   "outputs": [
    {
     "name": "stdout",
     "output_type": "stream",
     "text": [
      "b:  tf.Tensor([0.1 0.2 0.1 0.1 0.1 0.2 0.1], shape=(7,), dtype=float32)\n",
      "p(vi∣h):  tf.Tensor(\n",
      "[[0.92505515 0.48702216 0.8175906  0.7648853  0.8920898  0.38577905\n",
      "  0.75604564]], shape=(1, 7), dtype=float32)\n",
      "v probability states:  tf.Tensor([[0. 0. 1. 1. 1. 1. 1.]], shape=(1, 7), dtype=float32)\n"
     ]
    }
   ],
   "source": [
    "vb = tf.constant([0.1, 0.2, 0.1, 0.1, 0.1, 0.2, 0.1]) #bias terms.\n",
    "print (\"b: \", vb)\n",
    "v_prob = tf.nn.sigmoid(tf.matmul(h_state, tf.transpose(W)) + vb)\n",
    "print (\"p(vi∣h): \", v_prob)\n",
    "v_state = tf.nn.relu(tf.sign(v_prob - tf.random.uniform(tf.shape(v_prob))))\n",
    "print (\"v probability states: \", v_state)"
   ]
  },
  {
   "cell_type": "markdown",
   "metadata": {},
   "source": [
    "RBM learns a probability distribution over the input, and then, after being trained, the RBM can generate new samples from the learned probability distribution. As you know, <b>probability distribution</b>, is a mathematical function that provides the probabilities of occurrence of different possible outcomes in an experiment.\n",
    "\n",
    "The (conditional) probability distribution over the visible units v is given by\n",
    "\n",
    "$$p(\\mathbf{v} \\mid \\mathbf{h}) = \\prod_{i=1}^V p(v_i \\mid \\mathbf{h}),$$\n",
    "\n",
    "\n",
    "where,\n",
    "\n",
    "$$p(v_i \\mid \\mathbf{h}) = \\sigma\\left(\\sum_{j=1}^H W_{ji} h_j + v_{bias} \\right)$$\n",
    "\n",
    "so, given current state of hidden units and weights, what is the probability of generating [1. 0. 0. 1. 0. 0. 0.] in reconstruction phase, based on the above <b>probability distribution</b> function?\n"
   ]
  },
  {
   "cell_type": "code",
   "execution_count": 9,
   "metadata": {},
   "outputs": [
    {
     "name": "stdout",
     "output_type": "stream",
     "text": [
      "input X: [[1. 0. 0. 1. 0. 0. 0.]]\n",
      "probablity vector: [0.92505515 0.48702216 0.8175906  0.7648853  0.8920898  0.38577905\n",
      " 0.75604564]\n",
      "probability of generating X:  0.0010705466\n"
     ]
    }
   ],
   "source": [
    "inp = X\n",
    "print(\"input X:\" , inp.numpy())\n",
    "\n",
    "print(\"probablity vector:\" , v_prob[0].numpy())\n",
    "v_probability = 1\n",
    "\n",
    "# iterates over pairs of elements from two iterables: inp[0] and v_prob[0]:\n",
    "for elm, p in zip(inp[0],v_prob[0]) :\n",
    "    if elm ==1:\n",
    "        v_probability *= p\n",
    "    else:\n",
    "        v_probability *= (1-p)\n",
    "\n",
    "print(\"probability of generating X: \" , v_probability.numpy())"
   ]
  },
  {
   "cell_type": "markdown",
   "metadata": {},
   "source": [
    "How similar are vectors $\\mathbf{x}$ and $\\mathbf{v}$? Of course, the reconstructed values most likely will not look anything like the input vector, because our network has not been trained yet. Our objective is to train the model in such a way that the input vector and reconstructed vector to be same. Therefore, based on how different the input values look to the ones that we just reconstructed, the weights are adjusted. \n"
   ]
  },
  {
   "cell_type": "markdown",
   "metadata": {},
   "source": [
    "<hr>\n"
   ]
  },
  {
   "cell_type": "markdown",
   "metadata": {},
   "source": [
    "\n",
    "<h2>MNIST</h2>\n"
   ]
  },
  {
   "cell_type": "markdown",
   "metadata": {},
   "source": [
    "We will be using the MNIST dataset to practice the usage of RBMs. The following cell loads the MNIST dataset.\n"
   ]
  },
  {
   "cell_type": "code",
   "execution_count": 10,
   "metadata": {},
   "outputs": [
    {
     "name": "stdout",
     "output_type": "stream",
     "text": [
      "Downloading data from https://storage.googleapis.com/tensorflow/tf-keras-datasets/mnist.npz\n",
      "11490434/11490434 [==============================] - 0s 0us/step\n"
     ]
    }
   ],
   "source": [
    "#loading training and test data\n",
    "mnist = tf.keras.datasets.mnist\n",
    "(trX, trY), (teX, teY) = mnist.load_data()\n",
    "\n",
    "# showing an example of the Flatten class and operation\n",
    "from tensorflow.keras.layers import Flatten\n",
    "flatten = Flatten(dtype='float32')\n",
    "trX = flatten(trX/255.0)\n",
    "trY = flatten(trY/255.0)"
   ]
  },
  {
   "cell_type": "markdown",
   "metadata": {},
   "source": [
    "Lets look at the dimension of the images.\n"
   ]
  },
  {
   "cell_type": "markdown",
   "metadata": {},
   "source": [
    "MNIST images have 784 pixels, so the visible layer must have 784 input nodes.  For our case, we'll use 50 nodes in the hidden layer, so i = 50.\n"
   ]
  },
  {
   "cell_type": "code",
   "execution_count": 29,
   "metadata": {},
   "outputs": [],
   "source": [
    "vb = tf.Variable(tf.zeros([784]), tf.float32)\n",
    "hb = tf.Variable(tf.zeros([50]), tf.float32)"
   ]
  },
  {
   "cell_type": "markdown",
   "metadata": {},
   "source": [
    "Let $\\mathbf W$ be the Tensor of 784x50 (784 - number of visible neurons, 50 - number of hidden neurons) that represents weights between the neurons. \n"
   ]
  },
  {
   "cell_type": "code",
   "execution_count": 12,
   "metadata": {},
   "outputs": [],
   "source": [
    "W = tf.Variable(tf.zeros([784,50]), tf.float32)"
   ]
  },
  {
   "cell_type": "markdown",
   "metadata": {},
   "source": [
    "Lets define the visible layer:\n"
   ]
  },
  {
   "cell_type": "code",
   "execution_count": 13,
   "metadata": {},
   "outputs": [
    {
     "data": {
      "text/plain": [
       "<tf.Tensor: shape=(1, 50), dtype=float32, numpy=\n",
       "array([[0., 0., 0., 0., 0., 0., 0., 0., 0., 0., 0., 0., 0., 0., 0., 0.,\n",
       "        0., 0., 0., 0., 0., 0., 0., 0., 0., 0., 0., 0., 0., 0., 0., 0.,\n",
       "        0., 0., 0., 0., 0., 0., 0., 0., 0., 0., 0., 0., 0., 0., 0., 0.,\n",
       "        0., 0.]], dtype=float32)>"
      ]
     },
     "execution_count": 13,
     "metadata": {},
     "output_type": "execute_result"
    }
   ],
   "source": [
    "v0_state = tf.Variable(tf.zeros([784]), tf.float32)\n",
    "\n",
    "#testing to see if the matrix product works\n",
    "tf.matmul( [v0_state], W)"
   ]
  },
  {
   "cell_type": "markdown",
   "metadata": {},
   "source": [
    "Now, we can define hidden layer:\n"
   ]
  },
  {
   "cell_type": "code",
   "execution_count": 14,
   "metadata": {},
   "outputs": [
    {
     "name": "stdout",
     "output_type": "stream",
     "text": [
      "h0_state shape:  tf.Tensor([ 1 50], shape=(2,), dtype=int32)\n",
      "first 15 hidden states:  tf.Tensor([1. 1. 0. 1. 1. 1. 1. 1. 0. 1. 1. 0. 1. 1. 1.], shape=(15,), dtype=float32)\n"
     ]
    }
   ],
   "source": [
    "#computing the hidden nodes probability vector and checking shape\n",
    "h0_prob = tf.nn.sigmoid(tf.matmul([v0_state], W) + hb)  #probabilities of the hidden units\n",
    "print(\"h0_state shape: \" , tf.shape(h0_prob))\n",
    "\n",
    "#defining a function to return only the generated hidden states \n",
    "def hidden_layer(v0_state, W, hb):\n",
    "    h0_prob = tf.nn.sigmoid(tf.matmul([v0_state], W) + hb)  #probabilities of the hidden units\n",
    "    h0_state = tf.nn.relu(tf.sign(h0_prob - tf.random.uniform(tf.shape(h0_prob)))) #sample_h_given_X\n",
    "    return h0_state\n",
    "\n",
    "\n",
    "h0_state = hidden_layer(v0_state, W, hb)\n",
    "print(\"first 15 hidden states: \", h0_state[0][0:15])"
   ]
  },
  {
   "cell_type": "markdown",
   "metadata": {},
   "source": [
    "Now, we define reconstruction part:\n"
   ]
  },
  {
   "cell_type": "code",
   "execution_count": 15,
   "metadata": {},
   "outputs": [
    {
     "name": "stdout",
     "output_type": "stream",
     "text": [
      "hidden state shape:  (1, 50)\n",
      "v0 state shape:   (784,)\n",
      "v1 state shape:   (784,)\n"
     ]
    }
   ],
   "source": [
    "def reconstructed_output(h0_state, W, vb):\n",
    "    v1_prob = tf.nn.sigmoid(tf.matmul(h0_state, tf.transpose(W)) + vb) \n",
    "    v1_state = tf.nn.relu(tf.sign(v1_prob - tf.random.uniform(tf.shape(v1_prob)))) #sample_v_given_h\n",
    "    return v1_state[0]\n",
    "\n",
    "v1_state = reconstructed_output(h0_state, W, vb)\n",
    "print(\"hidden state shape: \", h0_state.shape)\n",
    "print(\"v0 state shape:  \", v0_state.shape)\n",
    "print(\"v1 state shape:  \", v1_state.shape)"
   ]
  },
  {
   "cell_type": "markdown",
   "metadata": {},
   "source": [
    "<h3>What is the objective function?</h3>\n",
    "\n",
    "<b>Goal</b>: Maximize the likelihood of our data being drawn from that distribution\n",
    "\n",
    "<b>Calculate error:</b>  \n",
    "In each epoch, we compute the \"error\" as a sum of the squared difference between step 1 and step n,\n",
    "e.g the error shows the difference between the data and its reconstruction.\n",
    "\n",
    "<b>Note:</b> tf.reduce_mean computes the mean of elements across dimensions of a tensor.\n"
   ]
  },
  {
   "cell_type": "code",
   "execution_count": 16,
   "metadata": {},
   "outputs": [
    {
     "name": "stdout",
     "output_type": "stream",
     "text": [
      "error 0.5242347\n"
     ]
    }
   ],
   "source": [
    "def error(v0_state, v1_state):\n",
    "    return tf.reduce_mean(tf.square(v0_state - v1_state))\n",
    "\n",
    "err = tf.reduce_mean(tf.square(v0_state - v1_state))\n",
    "print(\"error\" , err.numpy())"
   ]
  },
  {
   "cell_type": "markdown",
   "metadata": {},
   "source": [
    "<a id=\"ref4\"></a>\n",
    "<h3>Training the Model</h3>\n",
    "<b>Warning...</b> The following part is math-heavy, but you can skip it if you just want to run the cells in the next section.\n",
    "\n",
    "As mentioned, we want to give a high probability to the input data we train on. So, in order to train an RBM, we have to maximize the product of probabilities assigned to all rows $\\mathbf{v}$ (images) in the training set $\\mathbf{V}$ (a matrix, where each row of it is treated as a visible vector $\\mathbf{v}$)\n",
    "\n",
    "$$\\arg \\max_W \\prod_{\\mathbf{v}\\in\\mathbf{V}_T} p(\\mathbf{v})$$\n",
    "\n",
    "\n",
    "which is equivalent to maximizing the expectation of the log probability, given as\n",
    "\n",
    "$$\\arg\\max_W\\left[ \\mathbb{E} \\left(\\prod_{\\mathbf v\\in \\mathbf V}\\text{log} \\left(p(\\mathbf v)\\right) \\right) \\right].$$\n",
    "\n",
    "\n",
    "So, we have to update the weights $W_{ij}$  to increase $p(\\mathbf{v})$ for all $\\mathbf{v}$ in our training data during training. So we have to calculate the derivative:\n",
    "\n",
    "\n",
    "$$\\frac{\\partial \\log p(\\mathbf v)}{\\partial W_{ij}}$$\n",
    "\n",
    "This cannot be easily done by typical <b>gradient descent (SGD)</b>, so we can use another approach, which has 2 steps:\n",
    "<ol>\n",
    "    <li>Gibbs Sampling</li>\n",
    "    <li>Contrastive Divergence</li>\n",
    "</ol>    \n",
    "    \n",
    "<h3>Gibbs Sampling</h3>   \n",
    "\n",
    "<h4>Gibbs Sampling Step 1</h4> \n",
    "Given an input vector $\\mathbf{v}$, we are using $p(\\mathbf{h}|\\mathbf{v})$ to predict the hidden values $\\mathbf{h}$. \n",
    "  $$p({h_j}|\\mathbf v)= \\sigma\\left(\\sum_{i=1}^V W_{ij} v_i + h_{bias} \\right)$$\n",
    "The samples are generated from this distribution by generating the uniform random variate vector $\\mathbf{\\xi} \\sim U[0,1]$ of length $H$ and comparing to the computed probabilities as\n",
    "\n",
    "\n",
    "<center>If $\\xi_j>p(h_{j}|\\mathbf{v})$, then $h_j=1$, else $h_j=0$.</center>\n",
    "\n",
    "\n",
    "<h4>Gibbs Sampling Step 2</h4> \n",
    "Then, knowing the hidden values, we use $p(\\mathbf v| \\mathbf h)$ for reconstructing of new input values v. \n",
    "\n",
    "   $$p({v_i}|\\mathbf h)= \\sigma\\left(\\sum_{j=1}^H W^{T}_{ij} h_j + v_{bias} \\right)$$\n",
    "\n",
    "\n",
    "The samples are generated from this distribution by generating a uniform random variate vector $\\mathbf{\\xi} \\sim U[0,1]$ of length $V$ and comparing to the computed probabilities as\n",
    "\n",
    "<center>If $\\xi_i>p(v_{i}|\\mathbf{h})$, then $v_i=1$, else $v_i=0$.</center>\n",
    "\n",
    "Let vectors $\\mathbf v_k$ and $\\mathbf h_k$ be for the $k$th iteration.  In general, the $kth$ state is generrated as: \n",
    "\n",
    "\n",
    "    \n",
    "<b>Iteration</b> $k$: \n",
    "\n",
    "$$\\mathbf v_{k-1} \\Rightarrow p(\\mathbf h_{k-1}|\\mathbf v_{k-1})\\Rightarrow \\mathbf h_{k-1}\\Rightarrow p(\\mathbf v_{k}|\\mathbf h_{k-1})\\Rightarrow \\mathbf v_k$$       \n",
    "    \n",
    "<h3>Contrastive Divergence (CD-k)</h3>\n",
    "The update of the weight matrix is done during the Contrastive Divergence step. \n",
    "\n",
    "Vectors v0 and vk are used to calculate the activation probabilities for hidden values h0 and hk. The difference between the outer products of those probabilities with input vectors v0 and vk results in the update matrix:\n",
    "\n",
    "\n",
    "$$\\Delta \\mathbf W_k =\\mathbf v_k \\otimes \\mathbf h_k - \\mathbf v_{k-1} \\otimes \\mathbf h_{k-1}$$\n",
    "\n",
    "Contrastive Divergence is actually matrix of values that is computed and used to adjust values of the $\\mathbf W$ matrix. Changing $\\mathbf W$ incrementally leads to training of the  $\\mathbf W$ values. Then, on each step (epoch), $\\mathbf W$ is updated using the following:\n",
    "\n",
    "$$\\mathbf W_k = \\mathbf W_{k-1} + \\alpha * \\Delta \\mathbf W_k$$\n",
    "\n",
    "\n",
    "\n",
    "Reconstruction steps:\n",
    "<ul>\n",
    "    <li> Get one data point from data set, like <i>x</i>, and pass it through the following steps:</li>\n",
    "    \n",
    "<b>Iteration</b> $k=1$: \n",
    "    \n",
    "Sampling (starting with input image)\n",
    "    $$\\mathbf x = \\mathbf v_0 \\Rightarrow p(\\mathbf h_0|\\mathbf v_0)\\Rightarrow \\mathbf h_0 \\Rightarrow p(\\mathbf v_1|\\mathbf h_0)\\Rightarrow \\mathbf v_1$$   \n",
    "    followed by the CD-k step\n",
    "$$\\Delta \\mathbf W_1 =\\mathbf v_1 \\otimes \\mathbf h_1 - \\mathbf v_{0} \\otimes \\mathbf h_{0}$$     \n",
    "$$\\mathbf W_1 = \\mathbf W_{0} + \\alpha * \\Delta \\mathbf W_1$$ \n",
    " \n",
    "<li> $\\mathbf v_1$ is the reconstruction of $\\mathbf x$ sent to the next iteration).</li>\n",
    "\n",
    "<b>Iteration</b> $k=2$: \n",
    "\n",
    "Sampling (starting with $\\mathbf v_1$)\n",
    "\n",
    "$$\\mathbf v_1 \\Rightarrow p(\\mathbf h_1|\\mathbf v_1)\\Rightarrow \\mathbf h_1\\Rightarrow p(\\mathbf v_2|\\mathbf h_1)\\Rightarrow \\mathbf v_2$$   \n",
    "\n",
    "followed by the CD-k step\n",
    "$$\\Delta \\mathbf W_2 =\\mathbf v_2 \\otimes \\mathbf h_2 - \\mathbf v_{1} \\otimes \\mathbf h_{1}$$     \n",
    "$$\\mathbf W_2 = \\mathbf W_{1} + \\alpha * \\Delta \\mathbf W_2$$ \n",
    "\n",
    "<li> $\\mathbf v_2$ is the reconstruction of $\\mathbf v_1$ sent to the next iteration).</li>    \n",
    "      \n",
    "<b>Iteration</b> $k=K$:\n",
    "    \n",
    "Sampling (starting with $\\mathbf v_{K-1}$)\n",
    "\n",
    "$$\\mathbf v_{K-1} \\Rightarrow p(\\mathbf h_{K-1}|\\mathbf v_{K-1})\\Rightarrow \\mathbf h_{K-1}\\Rightarrow p(\\mathbf v_K|\\mathbf h_{K-1})\\Rightarrow \\mathbf v_K$$   \n",
    "\n",
    "followed by the CD-k step\n",
    "$$\\Delta \\mathbf W_K =\\mathbf v_K \\otimes \\mathbf h_K - \\mathbf v_{K-1} \\otimes \\mathbf h_{K-1}$$     \n",
    "$$\\mathbf W_K = \\mathbf W_{K-1} + \\alpha * \\Delta \\mathbf W_K$$ \n",
    "    \n",
    "<b>What is $\\alpha$?</b>  \n",
    "Here, alpha is some small step size, and is also known as the \"learning rate\".\n"
   ]
  },
  {
   "cell_type": "markdown",
   "metadata": {},
   "source": [
    "$K$ is adjustable, and good performance can be achieved with $K=1$, so that we just take one set of sampling steps per image.\n"
   ]
  },
  {
   "cell_type": "code",
   "execution_count": 17,
   "metadata": {},
   "outputs": [],
   "source": [
    "h1_prob = tf.nn.sigmoid(tf.matmul([v1_state], W) + hb)\n",
    "h1_state = tf.nn.relu(tf.sign(h1_prob - tf.random.uniform(tf.shape(h1_prob)))) #sample_h_given_X"
   ]
  },
  {
   "cell_type": "markdown",
   "metadata": {},
   "source": [
    "Lets look at the error of the first run:\n"
   ]
  },
  {
   "cell_type": "code",
   "execution_count": 18,
   "metadata": {},
   "outputs": [
    {
     "name": "stdout",
     "output_type": "stream",
     "text": [
      "error:  tf.Tensor(0.5242347, shape=(), dtype=float32)\n"
     ]
    }
   ],
   "source": [
    "print(\"error: \", error(v0_state, v1_state))"
   ]
  },
  {
   "cell_type": "code",
   "execution_count": 19,
   "metadata": {},
   "outputs": [
    {
     "name": "stdout",
     "output_type": "stream",
     "text": [
      "Epoch: 0 batch #: 1  of 300 sample #: 199 reconstruction error: 0.184456\n",
      "Epoch: 0 batch #: 2  of 300 sample #: 199 reconstruction error: 0.201768\n",
      "Epoch: 0 batch #: 3  of 300 sample #: 199 reconstruction error: 0.114942\n",
      "Epoch: 0 batch #: 4  of 300 sample #: 199 reconstruction error: 0.135685\n",
      "Epoch: 0 batch #: 5  of 300 sample #: 199 reconstruction error: 0.110597\n",
      "Epoch: 0 batch #: 6  of 300 sample #: 199 reconstruction error: 0.189825\n",
      "Epoch: 0 batch #: 7  of 300 sample #: 199 reconstruction error: 0.080436\n",
      "Epoch: 0 batch #: 8  of 300 sample #: 199 reconstruction error: 0.140302\n",
      "Epoch: 0 batch #: 9  of 300 sample #: 199 reconstruction error: 0.107205\n",
      "Epoch: 0 batch #: 10  of 300 sample #: 199 reconstruction error: 0.175751\n",
      "Epoch: 0 batch #: 11  of 300 sample #: 199 reconstruction error: 0.096043\n",
      "Epoch: 0 batch #: 12  of 300 sample #: 199 reconstruction error: 0.142963\n",
      "Epoch: 0 batch #: 13  of 300 sample #: 199 reconstruction error: 0.058806\n",
      "Epoch: 0 batch #: 14  of 300 sample #: 199 reconstruction error: 0.104623\n",
      "Epoch: 0 batch #: 15  of 300 sample #: 199 reconstruction error: 0.110905\n",
      "Epoch: 0 batch #: 16  of 300 sample #: 199 reconstruction error: 0.095868\n",
      "Epoch: 0 batch #: 17  of 300 sample #: 199 reconstruction error: 0.069050\n",
      "Epoch: 0 batch #: 18  of 300 sample #: 199 reconstruction error: 0.142929\n",
      "Epoch: 0 batch #: 19  of 300 sample #: 199 reconstruction error: 0.152881\n",
      "Epoch: 0 batch #: 20  of 300 sample #: 199 reconstruction error: 0.104387\n",
      "Epoch: 0 batch #: 21  of 300 sample #: 199 reconstruction error: 0.093470\n",
      "Epoch: 0 batch #: 22  of 300 sample #: 199 reconstruction error: 0.077074\n",
      "Epoch: 0 batch #: 23  of 300 sample #: 199 reconstruction error: 0.112310\n",
      "Epoch: 0 batch #: 24  of 300 sample #: 199 reconstruction error: 0.132892\n",
      "Epoch: 0 batch #: 25  of 300 sample #: 199 reconstruction error: 0.091306\n",
      "Epoch: 0 batch #: 26  of 300 sample #: 199 reconstruction error: 0.095075\n",
      "Epoch: 0 batch #: 27  of 300 sample #: 199 reconstruction error: 0.112094\n",
      "Epoch: 0 batch #: 28  of 300 sample #: 199 reconstruction error: 0.106509\n",
      "Epoch: 0 batch #: 29  of 300 sample #: 199 reconstruction error: 0.112210\n",
      "Epoch: 0 batch #: 30  of 300 sample #: 199 reconstruction error: 0.075893\n",
      "Epoch: 0 batch #: 31  of 300 sample #: 199 reconstruction error: 0.095265\n",
      "Epoch: 0 batch #: 32  of 300 sample #: 199 reconstruction error: 0.130213\n",
      "Epoch: 0 batch #: 33  of 300 sample #: 199 reconstruction error: 0.058957\n",
      "Epoch: 0 batch #: 34  of 300 sample #: 199 reconstruction error: 0.083413\n",
      "Epoch: 0 batch #: 35  of 300 sample #: 199 reconstruction error: 0.070438\n",
      "Epoch: 0 batch #: 36  of 300 sample #: 199 reconstruction error: 0.097239\n",
      "Epoch: 0 batch #: 37  of 300 sample #: 199 reconstruction error: 0.057191\n",
      "Epoch: 0 batch #: 38  of 300 sample #: 199 reconstruction error: 0.060294\n",
      "Epoch: 0 batch #: 39  of 300 sample #: 199 reconstruction error: 0.076206\n",
      "Epoch: 0 batch #: 40  of 300 sample #: 199 reconstruction error: 0.115080\n",
      "Epoch: 0 batch #: 41  of 300 sample #: 199 reconstruction error: 0.087062\n",
      "Epoch: 0 batch #: 42  of 300 sample #: 199 reconstruction error: 0.063994\n",
      "Epoch: 0 batch #: 43  of 300 sample #: 199 reconstruction error: 0.129855\n",
      "Epoch: 0 batch #: 44  of 300 sample #: 199 reconstruction error: 0.063887\n",
      "Epoch: 0 batch #: 45  of 300 sample #: 199 reconstruction error: 0.056800\n",
      "Epoch: 0 batch #: 46  of 300 sample #: 199 reconstruction error: 0.032026\n",
      "Epoch: 0 batch #: 47  of 300 sample #: 199 reconstruction error: 0.031867\n",
      "Epoch: 0 batch #: 48  of 300 sample #: 199 reconstruction error: 0.042707\n",
      "Epoch: 0 batch #: 49  of 300 sample #: 199 reconstruction error: 0.127399\n",
      "Epoch: 0 batch #: 50  of 300 sample #: 199 reconstruction error: 0.051533\n",
      "Epoch: 0 batch #: 51  of 300 sample #: 199 reconstruction error: 0.063566\n",
      "Epoch: 0 batch #: 52  of 300 sample #: 199 reconstruction error: 0.034265\n",
      "Epoch: 0 batch #: 53  of 300 sample #: 199 reconstruction error: 0.106947\n",
      "Epoch: 0 batch #: 54  of 300 sample #: 199 reconstruction error: 0.048613\n",
      "Epoch: 0 batch #: 55  of 300 sample #: 199 reconstruction error: 0.090082\n",
      "Epoch: 0 batch #: 56  of 300 sample #: 199 reconstruction error: 0.057381\n",
      "Epoch: 0 batch #: 57  of 300 sample #: 199 reconstruction error: 0.052176\n",
      "Epoch: 0 batch #: 58  of 300 sample #: 199 reconstruction error: 0.077603\n",
      "Epoch: 0 batch #: 59  of 300 sample #: 199 reconstruction error: 0.070081\n",
      "Epoch: 0 batch #: 60  of 300 sample #: 199 reconstruction error: 0.082475\n",
      "Epoch: 0 batch #: 61  of 300 sample #: 199 reconstruction error: 0.072739\n",
      "Epoch: 0 batch #: 62  of 300 sample #: 199 reconstruction error: 0.079403\n",
      "Epoch: 0 batch #: 63  of 300 sample #: 199 reconstruction error: 0.062839\n",
      "Epoch: 0 batch #: 64  of 300 sample #: 199 reconstruction error: 0.089899\n",
      "Epoch: 0 batch #: 65  of 300 sample #: 199 reconstruction error: 0.086245\n",
      "Epoch: 0 batch #: 66  of 300 sample #: 199 reconstruction error: 0.061251\n",
      "Epoch: 0 batch #: 67  of 300 sample #: 199 reconstruction error: 0.050935\n",
      "Epoch: 0 batch #: 68  of 300 sample #: 199 reconstruction error: 0.067355\n",
      "Epoch: 0 batch #: 69  of 300 sample #: 199 reconstruction error: 0.081757\n",
      "Epoch: 0 batch #: 70  of 300 sample #: 199 reconstruction error: 0.086659\n",
      "Epoch: 0 batch #: 71  of 300 sample #: 199 reconstruction error: 0.073379\n",
      "Epoch: 0 batch #: 72  of 300 sample #: 199 reconstruction error: 0.059960\n",
      "Epoch: 0 batch #: 73  of 300 sample #: 199 reconstruction error: 0.087754\n",
      "Epoch: 0 batch #: 74  of 300 sample #: 199 reconstruction error: 0.099481\n",
      "Epoch: 0 batch #: 75  of 300 sample #: 199 reconstruction error: 0.061388\n",
      "Epoch: 0 batch #: 76  of 300 sample #: 199 reconstruction error: 0.071884\n",
      "Epoch: 0 batch #: 77  of 300 sample #: 199 reconstruction error: 0.113559\n",
      "Epoch: 0 batch #: 78  of 300 sample #: 199 reconstruction error: 0.107271\n",
      "Epoch: 0 batch #: 79  of 300 sample #: 199 reconstruction error: 0.095011\n",
      "Epoch: 0 batch #: 80  of 300 sample #: 199 reconstruction error: 0.031561\n",
      "Epoch: 0 batch #: 81  of 300 sample #: 199 reconstruction error: 0.048773\n",
      "Epoch: 0 batch #: 82  of 300 sample #: 199 reconstruction error: 0.053230\n",
      "Epoch: 0 batch #: 83  of 300 sample #: 199 reconstruction error: 0.078051\n",
      "Epoch: 0 batch #: 84  of 300 sample #: 199 reconstruction error: 0.081274\n",
      "Epoch: 0 batch #: 85  of 300 sample #: 199 reconstruction error: 0.051810\n",
      "Epoch: 0 batch #: 86  of 300 sample #: 199 reconstruction error: 0.088175\n",
      "Epoch: 0 batch #: 87  of 300 sample #: 199 reconstruction error: 0.078421\n",
      "Epoch: 0 batch #: 88  of 300 sample #: 199 reconstruction error: 0.027737\n",
      "Epoch: 0 batch #: 89  of 300 sample #: 199 reconstruction error: 0.065226\n",
      "Epoch: 0 batch #: 90  of 300 sample #: 199 reconstruction error: 0.066721\n",
      "Epoch: 0 batch #: 91  of 300 sample #: 199 reconstruction error: 0.054694\n",
      "Epoch: 0 batch #: 92  of 300 sample #: 199 reconstruction error: 0.065723\n",
      "Epoch: 0 batch #: 93  of 300 sample #: 199 reconstruction error: 0.101492\n",
      "Epoch: 0 batch #: 94  of 300 sample #: 199 reconstruction error: 0.106142\n",
      "Epoch: 0 batch #: 95  of 300 sample #: 199 reconstruction error: 0.062119\n",
      "Epoch: 0 batch #: 96  of 300 sample #: 199 reconstruction error: 0.051024\n",
      "Epoch: 0 batch #: 97  of 300 sample #: 199 reconstruction error: 0.100398\n",
      "Epoch: 0 batch #: 98  of 300 sample #: 199 reconstruction error: 0.074608\n",
      "Epoch: 0 batch #: 99  of 300 sample #: 199 reconstruction error: 0.052504\n",
      "Epoch: 0 batch #: 100  of 300 sample #: 199 reconstruction error: 0.096698\n",
      "Epoch: 0 batch #: 101  of 300 sample #: 199 reconstruction error: 0.072677\n",
      "Epoch: 0 batch #: 102  of 300 sample #: 199 reconstruction error: 0.081542\n",
      "Epoch: 0 batch #: 103  of 300 sample #: 199 reconstruction error: 0.073858\n",
      "Epoch: 0 batch #: 104  of 300 sample #: 199 reconstruction error: 0.062009\n",
      "Epoch: 0 batch #: 105  of 300 sample #: 199 reconstruction error: 0.051447\n",
      "Epoch: 0 batch #: 106  of 300 sample #: 199 reconstruction error: 0.114745\n",
      "Epoch: 0 batch #: 107  of 300 sample #: 199 reconstruction error: 0.123627\n",
      "Epoch: 0 batch #: 108  of 300 sample #: 199 reconstruction error: 0.070207\n",
      "Epoch: 0 batch #: 109  of 300 sample #: 199 reconstruction error: 0.105633\n",
      "Epoch: 0 batch #: 110  of 300 sample #: 199 reconstruction error: 0.058196\n",
      "Epoch: 0 batch #: 111  of 300 sample #: 199 reconstruction error: 0.112977\n",
      "Epoch: 0 batch #: 112  of 300 sample #: 199 reconstruction error: 0.045678\n",
      "Epoch: 0 batch #: 113  of 300 sample #: 199 reconstruction error: 0.064765\n",
      "Epoch: 0 batch #: 114  of 300 sample #: 199 reconstruction error: 0.072583\n",
      "Epoch: 0 batch #: 115  of 300 sample #: 199 reconstruction error: 0.064357\n",
      "Epoch: 0 batch #: 116  of 300 sample #: 199 reconstruction error: 0.050375\n",
      "Epoch: 0 batch #: 117  of 300 sample #: 199 reconstruction error: 0.044413\n",
      "Epoch: 0 batch #: 118  of 300 sample #: 199 reconstruction error: 0.065462\n",
      "Epoch: 0 batch #: 119  of 300 sample #: 199 reconstruction error: 0.129830\n",
      "Epoch: 0 batch #: 120  of 300 sample #: 199 reconstruction error: 0.068973\n",
      "Epoch: 0 batch #: 121  of 300 sample #: 199 reconstruction error: 0.057288\n",
      "Epoch: 0 batch #: 122  of 300 sample #: 199 reconstruction error: 0.099347\n",
      "Epoch: 0 batch #: 123  of 300 sample #: 199 reconstruction error: 0.057495\n",
      "Epoch: 0 batch #: 124  of 300 sample #: 199 reconstruction error: 0.078396\n",
      "Epoch: 0 batch #: 125  of 300 sample #: 199 reconstruction error: 0.038569\n",
      "Epoch: 0 batch #: 126  of 300 sample #: 199 reconstruction error: 0.101719\n",
      "Epoch: 0 batch #: 127  of 300 sample #: 199 reconstruction error: 0.069787\n",
      "Epoch: 0 batch #: 128  of 300 sample #: 199 reconstruction error: 0.062609\n",
      "Epoch: 0 batch #: 129  of 300 sample #: 199 reconstruction error: 0.061869\n",
      "Epoch: 0 batch #: 130  of 300 sample #: 199 reconstruction error: 0.076444\n",
      "Epoch: 0 batch #: 131  of 300 sample #: 199 reconstruction error: 0.064873\n",
      "Epoch: 0 batch #: 132  of 300 sample #: 199 reconstruction error: 0.042024\n",
      "Epoch: 0 batch #: 133  of 300 sample #: 199 reconstruction error: 0.048262\n",
      "Epoch: 0 batch #: 134  of 300 sample #: 199 reconstruction error: 0.116620\n",
      "Epoch: 0 batch #: 135  of 300 sample #: 199 reconstruction error: 0.103597\n",
      "Epoch: 0 batch #: 136  of 300 sample #: 199 reconstruction error: 0.111193\n",
      "Epoch: 0 batch #: 137  of 300 sample #: 199 reconstruction error: 0.072997\n",
      "Epoch: 0 batch #: 138  of 300 sample #: 199 reconstruction error: 0.072962\n",
      "Epoch: 0 batch #: 139  of 300 sample #: 199 reconstruction error: 0.097680\n",
      "Epoch: 0 batch #: 140  of 300 sample #: 199 reconstruction error: 0.081593\n",
      "Epoch: 0 batch #: 141  of 300 sample #: 199 reconstruction error: 0.072146\n",
      "Epoch: 0 batch #: 142  of 300 sample #: 199 reconstruction error: 0.071735\n",
      "Epoch: 0 batch #: 143  of 300 sample #: 199 reconstruction error: 0.045297\n",
      "Epoch: 0 batch #: 144  of 300 sample #: 199 reconstruction error: 0.077312\n",
      "Epoch: 0 batch #: 145  of 300 sample #: 199 reconstruction error: 0.090736\n",
      "Epoch: 0 batch #: 146  of 300 sample #: 199 reconstruction error: 0.090479\n",
      "Epoch: 0 batch #: 147  of 300 sample #: 199 reconstruction error: 0.080699\n",
      "Epoch: 0 batch #: 148  of 300 sample #: 199 reconstruction error: 0.083238\n",
      "Epoch: 0 batch #: 149  of 300 sample #: 199 reconstruction error: 0.046418\n",
      "Epoch: 0 batch #: 150  of 300 sample #: 199 reconstruction error: 0.044035\n",
      "Epoch: 0 batch #: 151  of 300 sample #: 199 reconstruction error: 0.111108\n",
      "Epoch: 0 batch #: 152  of 300 sample #: 199 reconstruction error: 0.089917\n",
      "Epoch: 0 batch #: 153  of 300 sample #: 199 reconstruction error: 0.056546\n",
      "Epoch: 0 batch #: 154  of 300 sample #: 199 reconstruction error: 0.092720\n",
      "Epoch: 0 batch #: 155  of 300 sample #: 199 reconstruction error: 0.070916\n",
      "Epoch: 0 batch #: 156  of 300 sample #: 199 reconstruction error: 0.078653\n",
      "Epoch: 0 batch #: 157  of 300 sample #: 199 reconstruction error: 0.088137\n",
      "Epoch: 0 batch #: 158  of 300 sample #: 199 reconstruction error: 0.063972\n",
      "Epoch: 0 batch #: 159  of 300 sample #: 199 reconstruction error: 0.064248\n",
      "Epoch: 0 batch #: 160  of 300 sample #: 199 reconstruction error: 0.070573\n",
      "Epoch: 0 batch #: 161  of 300 sample #: 199 reconstruction error: 0.069365\n",
      "Epoch: 0 batch #: 162  of 300 sample #: 199 reconstruction error: 0.103885\n",
      "Epoch: 0 batch #: 163  of 300 sample #: 199 reconstruction error: 0.031434\n",
      "Epoch: 0 batch #: 164  of 300 sample #: 199 reconstruction error: 0.073033\n",
      "Epoch: 0 batch #: 165  of 300 sample #: 199 reconstruction error: 0.102744\n",
      "Epoch: 0 batch #: 166  of 300 sample #: 199 reconstruction error: 0.049746\n",
      "Epoch: 0 batch #: 167  of 300 sample #: 199 reconstruction error: 0.065246\n",
      "Epoch: 0 batch #: 168  of 300 sample #: 199 reconstruction error: 0.055144\n",
      "Epoch: 0 batch #: 169  of 300 sample #: 199 reconstruction error: 0.049811\n",
      "Epoch: 0 batch #: 170  of 300 sample #: 199 reconstruction error: 0.062920\n",
      "Epoch: 0 batch #: 171  of 300 sample #: 199 reconstruction error: 0.037573\n",
      "Epoch: 0 batch #: 172  of 300 sample #: 199 reconstruction error: 0.057274\n",
      "Epoch: 0 batch #: 173  of 300 sample #: 199 reconstruction error: 0.080322\n",
      "Epoch: 0 batch #: 174  of 300 sample #: 199 reconstruction error: 0.114111\n",
      "Epoch: 0 batch #: 175  of 300 sample #: 199 reconstruction error: 0.069747\n",
      "Epoch: 0 batch #: 176  of 300 sample #: 199 reconstruction error: 0.039529\n",
      "Epoch: 0 batch #: 177  of 300 sample #: 199 reconstruction error: 0.035017\n",
      "Epoch: 0 batch #: 178  of 300 sample #: 199 reconstruction error: 0.109562\n",
      "Epoch: 0 batch #: 179  of 300 sample #: 199 reconstruction error: 0.072483\n",
      "Epoch: 0 batch #: 180  of 300 sample #: 199 reconstruction error: 0.092350\n",
      "Epoch: 0 batch #: 181  of 300 sample #: 199 reconstruction error: 0.085714\n",
      "Epoch: 0 batch #: 182  of 300 sample #: 199 reconstruction error: 0.085900\n",
      "Epoch: 0 batch #: 183  of 300 sample #: 199 reconstruction error: 0.086970\n",
      "Epoch: 0 batch #: 184  of 300 sample #: 199 reconstruction error: 0.068550\n",
      "Epoch: 0 batch #: 185  of 300 sample #: 199 reconstruction error: 0.071233\n",
      "Epoch: 0 batch #: 186  of 300 sample #: 199 reconstruction error: 0.093705\n",
      "Epoch: 0 batch #: 187  of 300 sample #: 199 reconstruction error: 0.051676\n",
      "Epoch: 0 batch #: 188  of 300 sample #: 199 reconstruction error: 0.105843\n",
      "Epoch: 0 batch #: 189  of 300 sample #: 199 reconstruction error: 0.070574\n",
      "Epoch: 0 batch #: 190  of 300 sample #: 199 reconstruction error: 0.054975\n",
      "Epoch: 0 batch #: 191  of 300 sample #: 199 reconstruction error: 0.097845\n",
      "Epoch: 0 batch #: 192  of 300 sample #: 199 reconstruction error: 0.126377\n",
      "Epoch: 0 batch #: 193  of 300 sample #: 199 reconstruction error: 0.086927\n",
      "Epoch: 0 batch #: 194  of 300 sample #: 199 reconstruction error: 0.079589\n",
      "Epoch: 0 batch #: 195  of 300 sample #: 199 reconstruction error: 0.044888\n",
      "Epoch: 0 batch #: 196  of 300 sample #: 199 reconstruction error: 0.043927\n",
      "Epoch: 0 batch #: 197  of 300 sample #: 199 reconstruction error: 0.053494\n",
      "Epoch: 0 batch #: 198  of 300 sample #: 199 reconstruction error: 0.091905\n",
      "Epoch: 0 batch #: 199  of 300 sample #: 199 reconstruction error: 0.086506\n",
      "Epoch: 0 batch #: 200  of 300 sample #: 199 reconstruction error: 0.106498\n",
      "Epoch: 0 batch #: 201  of 300 sample #: 199 reconstruction error: 0.084465\n",
      "Epoch: 0 batch #: 202  of 300 sample #: 199 reconstruction error: 0.025327\n",
      "Epoch: 0 batch #: 203  of 300 sample #: 199 reconstruction error: 0.075736\n",
      "Epoch: 0 batch #: 204  of 300 sample #: 199 reconstruction error: 0.050059\n",
      "Epoch: 0 batch #: 205  of 300 sample #: 199 reconstruction error: 0.025042\n",
      "Epoch: 0 batch #: 206  of 300 sample #: 199 reconstruction error: 0.081735\n",
      "Epoch: 0 batch #: 207  of 300 sample #: 199 reconstruction error: 0.118218\n",
      "Epoch: 0 batch #: 208  of 300 sample #: 199 reconstruction error: 0.056096\n",
      "Epoch: 0 batch #: 209  of 300 sample #: 199 reconstruction error: 0.027910\n",
      "Epoch: 0 batch #: 210  of 300 sample #: 199 reconstruction error: 0.112682\n",
      "Epoch: 0 batch #: 211  of 300 sample #: 199 reconstruction error: 0.094920\n",
      "Epoch: 0 batch #: 212  of 300 sample #: 199 reconstruction error: 0.104095\n",
      "Epoch: 0 batch #: 213  of 300 sample #: 199 reconstruction error: 0.087402\n",
      "Epoch: 0 batch #: 214  of 300 sample #: 199 reconstruction error: 0.109082\n",
      "Epoch: 0 batch #: 215  of 300 sample #: 199 reconstruction error: 0.033984\n",
      "Epoch: 0 batch #: 216  of 300 sample #: 199 reconstruction error: 0.094125\n",
      "Epoch: 0 batch #: 217  of 300 sample #: 199 reconstruction error: 0.068301\n",
      "Epoch: 0 batch #: 218  of 300 sample #: 199 reconstruction error: 0.068101\n",
      "Epoch: 0 batch #: 219  of 300 sample #: 199 reconstruction error: 0.082245\n",
      "Epoch: 0 batch #: 220  of 300 sample #: 199 reconstruction error: 0.068254\n",
      "Epoch: 0 batch #: 221  of 300 sample #: 199 reconstruction error: 0.091284\n",
      "Epoch: 0 batch #: 222  of 300 sample #: 199 reconstruction error: 0.096445\n",
      "Epoch: 0 batch #: 223  of 300 sample #: 199 reconstruction error: 0.069842\n",
      "Epoch: 0 batch #: 224  of 300 sample #: 199 reconstruction error: 0.061945\n",
      "Epoch: 0 batch #: 225  of 300 sample #: 199 reconstruction error: 0.071764\n",
      "Epoch: 0 batch #: 226  of 300 sample #: 199 reconstruction error: 0.144784\n",
      "Epoch: 0 batch #: 227  of 300 sample #: 199 reconstruction error: 0.070378\n",
      "Epoch: 0 batch #: 228  of 300 sample #: 199 reconstruction error: 0.077280\n",
      "Epoch: 0 batch #: 229  of 300 sample #: 199 reconstruction error: 0.086079\n",
      "Epoch: 0 batch #: 230  of 300 sample #: 199 reconstruction error: 0.039380\n",
      "Epoch: 0 batch #: 231  of 300 sample #: 199 reconstruction error: 0.029876\n",
      "Epoch: 0 batch #: 232  of 300 sample #: 199 reconstruction error: 0.081518\n",
      "Epoch: 0 batch #: 233  of 300 sample #: 199 reconstruction error: 0.084151\n",
      "Epoch: 0 batch #: 234  of 300 sample #: 199 reconstruction error: 0.071194\n",
      "Epoch: 0 batch #: 235  of 300 sample #: 199 reconstruction error: 0.067339\n",
      "Epoch: 0 batch #: 236  of 300 sample #: 199 reconstruction error: 0.087786\n",
      "Epoch: 0 batch #: 237  of 300 sample #: 199 reconstruction error: 0.080510\n",
      "Epoch: 0 batch #: 238  of 300 sample #: 199 reconstruction error: 0.110849\n",
      "Epoch: 0 batch #: 239  of 300 sample #: 199 reconstruction error: 0.029806\n",
      "Epoch: 0 batch #: 240  of 300 sample #: 199 reconstruction error: 0.111647\n",
      "Epoch: 0 batch #: 241  of 300 sample #: 199 reconstruction error: 0.102453\n",
      "Epoch: 0 batch #: 242  of 300 sample #: 199 reconstruction error: 0.056504\n",
      "Epoch: 0 batch #: 243  of 300 sample #: 199 reconstruction error: 0.078798\n",
      "Epoch: 0 batch #: 244  of 300 sample #: 199 reconstruction error: 0.096184\n",
      "Epoch: 0 batch #: 245  of 300 sample #: 199 reconstruction error: 0.048032\n",
      "Epoch: 0 batch #: 246  of 300 sample #: 199 reconstruction error: 0.090916\n",
      "Epoch: 0 batch #: 247  of 300 sample #: 199 reconstruction error: 0.039047\n",
      "Epoch: 0 batch #: 248  of 300 sample #: 199 reconstruction error: 0.072554\n",
      "Epoch: 0 batch #: 249  of 300 sample #: 199 reconstruction error: 0.046716\n",
      "Epoch: 0 batch #: 250  of 300 sample #: 199 reconstruction error: 0.085751\n",
      "Epoch: 0 batch #: 251  of 300 sample #: 199 reconstruction error: 0.049872\n",
      "Epoch: 0 batch #: 252  of 300 sample #: 199 reconstruction error: 0.074028\n",
      "Epoch: 0 batch #: 253  of 300 sample #: 199 reconstruction error: 0.047007\n",
      "Epoch: 0 batch #: 254  of 300 sample #: 199 reconstruction error: 0.033599\n",
      "Epoch: 0 batch #: 255  of 300 sample #: 199 reconstruction error: 0.062300\n",
      "Epoch: 0 batch #: 256  of 300 sample #: 199 reconstruction error: 0.074294\n",
      "Epoch: 0 batch #: 257  of 300 sample #: 199 reconstruction error: 0.099877\n",
      "Epoch: 0 batch #: 258  of 300 sample #: 199 reconstruction error: 0.084707\n",
      "Epoch: 0 batch #: 259  of 300 sample #: 199 reconstruction error: 0.065059\n",
      "Epoch: 0 batch #: 260  of 300 sample #: 199 reconstruction error: 0.103640\n",
      "Epoch: 0 batch #: 261  of 300 sample #: 199 reconstruction error: 0.032111\n",
      "Epoch: 0 batch #: 262  of 300 sample #: 199 reconstruction error: 0.062327\n",
      "Epoch: 0 batch #: 263  of 300 sample #: 199 reconstruction error: 0.083844\n",
      "Epoch: 0 batch #: 264  of 300 sample #: 199 reconstruction error: 0.072484\n",
      "Epoch: 0 batch #: 265  of 300 sample #: 199 reconstruction error: 0.054257\n",
      "Epoch: 0 batch #: 266  of 300 sample #: 199 reconstruction error: 0.049084\n",
      "Epoch: 0 batch #: 267  of 300 sample #: 199 reconstruction error: 0.063479\n",
      "Epoch: 0 batch #: 268  of 300 sample #: 199 reconstruction error: 0.019108\n",
      "Epoch: 0 batch #: 269  of 300 sample #: 199 reconstruction error: 0.085882\n",
      "Epoch: 0 batch #: 270  of 300 sample #: 199 reconstruction error: 0.080696\n",
      "Epoch: 0 batch #: 271  of 300 sample #: 199 reconstruction error: 0.060614\n",
      "Epoch: 0 batch #: 272  of 300 sample #: 199 reconstruction error: 0.052227\n",
      "Epoch: 0 batch #: 273  of 300 sample #: 199 reconstruction error: 0.046884\n",
      "Epoch: 0 batch #: 274  of 300 sample #: 199 reconstruction error: 0.057062\n",
      "Epoch: 0 batch #: 275  of 300 sample #: 199 reconstruction error: 0.084825\n",
      "Epoch: 0 batch #: 276  of 300 sample #: 199 reconstruction error: 0.075122\n",
      "Epoch: 0 batch #: 277  of 300 sample #: 199 reconstruction error: 0.071593\n",
      "Epoch: 0 batch #: 278  of 300 sample #: 199 reconstruction error: 0.044874\n",
      "Epoch: 0 batch #: 279  of 300 sample #: 199 reconstruction error: 0.045454\n",
      "Epoch: 0 batch #: 280  of 300 sample #: 199 reconstruction error: 0.079000\n",
      "Epoch: 0 batch #: 281  of 300 sample #: 199 reconstruction error: 0.060854\n",
      "Epoch: 0 batch #: 282  of 300 sample #: 199 reconstruction error: 0.101699\n",
      "Epoch: 0 batch #: 283  of 300 sample #: 199 reconstruction error: 0.060582\n",
      "Epoch: 0 batch #: 284  of 300 sample #: 199 reconstruction error: 0.054079\n",
      "Epoch: 0 batch #: 285  of 300 sample #: 199 reconstruction error: 0.066856\n",
      "Epoch: 0 batch #: 286  of 300 sample #: 199 reconstruction error: 0.073235\n",
      "Epoch: 0 batch #: 287  of 300 sample #: 199 reconstruction error: 0.081684\n",
      "Epoch: 0 batch #: 288  of 300 sample #: 199 reconstruction error: 0.022970\n",
      "Epoch: 0 batch #: 289  of 300 sample #: 199 reconstruction error: 0.090344\n",
      "Epoch: 0 batch #: 290  of 300 sample #: 199 reconstruction error: 0.109698\n",
      "Epoch: 0 batch #: 291  of 300 sample #: 199 reconstruction error: 0.099640\n",
      "Epoch: 0 batch #: 292  of 300 sample #: 199 reconstruction error: 0.062064\n",
      "Epoch: 0 batch #: 293  of 300 sample #: 199 reconstruction error: 0.056880\n",
      "Epoch: 0 batch #: 294  of 300 sample #: 199 reconstruction error: 0.098287\n",
      "Epoch: 0 batch #: 295  of 300 sample #: 199 reconstruction error: 0.072446\n",
      "Epoch: 0 batch #: 296  of 300 sample #: 199 reconstruction error: 0.036862\n",
      "Epoch: 0 batch #: 297  of 300 sample #: 199 reconstruction error: 0.106993\n",
      "Epoch: 0 batch #: 298  of 300 sample #: 199 reconstruction error: 0.051062\n",
      "Epoch: 0 batch #: 299  of 300 sample #: 199 reconstruction error: 0.052486\n",
      "Epoch: 0 batch #: 300  of 300 sample #: 199 reconstruction error: 0.072325\n"
     ]
    }
   ],
   "source": [
    "#Parameters\n",
    "alpha = 0.01\n",
    "epochs = 1\n",
    "batchsize = 200\n",
    "weights = []\n",
    "errors = []\n",
    "batch_number = 0\n",
    "K = 1\n",
    "\n",
    "#creating datasets\n",
    "train_ds = \\\n",
    "    tf.data.Dataset.from_tensor_slices((trX, trY)).batch(batchsize)\n",
    "\n",
    "for epoch in range(epochs):\n",
    "    for batch_x, batch_y in train_ds:\n",
    "        batch_number += 1\n",
    "        for i_sample in range(batchsize):           \n",
    "            for k in range(K):\n",
    "                v0_state = batch_x[i_sample]\n",
    "                h0_state = hidden_layer(v0_state, W, hb)\n",
    "                v1_state = reconstructed_output(h0_state, W, vb)\n",
    "                h1_state = hidden_layer(v1_state, W, hb)\n",
    "                \n",
    "                #gibbs sampling\n",
    "                delta_W = tf.matmul(tf.transpose([v0_state]), h0_state) - tf.matmul(tf.transpose([v1_state]), h1_state)\n",
    "                W = W + alpha * delta_W\n",
    "\n",
    "                # constrastive divergence\n",
    "                vb = vb + alpha * tf.reduce_mean(v0_state - v1_state, 0)\n",
    "                hb = hb + alpha * tf.reduce_mean(h0_state - h1_state, 0) \n",
    "\n",
    "                v0_state = v1_state\n",
    "\n",
    "            if i_sample == batchsize-1:\n",
    "                err = error(batch_x[i_sample], v1_state)\n",
    "                errors.append(err)\n",
    "                weights.append(W)\n",
    "                print ( 'Epoch: %d' % epoch, \n",
    "                       \"batch #: %i \" % batch_number, \"of %i\" % int(60e3/batchsize), \n",
    "                       \"sample #: %i\" % i_sample,\n",
    "                       'reconstruction error: %f' % err)\n",
    "\n"
   ]
  },
  {
   "cell_type": "markdown",
   "metadata": {},
   "source": [
    "Let's take a look at the errors at the end of each batch:\n"
   ]
  },
  {
   "cell_type": "code",
   "execution_count": 20,
   "metadata": {},
   "outputs": [
    {
     "data": {
      "image/png": "[encoded data removed]",
      "text/plain": [
       "<Figure size 640x480 with 1 Axes>"
      ]
     },
     "metadata": {},
     "output_type": "display_data"
    }
   ],
   "source": [
    "plt.plot(errors)\n",
    "plt.xlabel(\"Batch Number\")\n",
    "plt.ylabel(\"Error\")\n",
    "plt.show()"
   ]
  },
  {
   "cell_type": "markdown",
   "metadata": {},
   "source": [
    "What is the final weight matrix $W$ after training?\n"
   ]
  },
  {
   "cell_type": "code",
   "execution_count": 21,
   "metadata": {},
   "outputs": [
    {
     "name": "stdout",
     "output_type": "stream",
     "text": [
      "[[-0.4899998  -0.40999988 -0.29999998 ... -0.24000004 -0.25000003\n",
      "  -0.32999995]\n",
      " [-0.5399998  -0.41999987 -0.28       ... -0.20000002 -0.27\n",
      "  -0.31999996]\n",
      " [-0.5099998  -0.36999992 -0.23000003 ... -0.12999998 -0.24000004\n",
      "  -0.29999998]\n",
      " ...\n",
      " [-0.45999983 -0.33999994 -0.24000004 ... -0.16       -0.25000003\n",
      "  -0.28      ]\n",
      " [-0.5299998  -0.31999996 -0.26000002 ... -0.14999999 -0.19000001\n",
      "  -0.26000002]\n",
      " [-0.40999988 -0.40999988 -0.25000003 ... -0.21000002 -0.29\n",
      "  -0.25000003]]\n"
     ]
    }
   ],
   "source": [
    "print(W.numpy()) # a weight matrix of shape (50,784)"
   ]
  },
  {
   "cell_type": "markdown",
   "metadata": {},
   "source": [
    "<a id=\"ref5\"></a>\n",
    "<h3>Learned features</h3> \n"
   ]
  },
  {
   "cell_type": "markdown",
   "metadata": {},
   "source": [
    "We can take each hidden unit and visualize the connections between that hidden unit and each element in the input vector. In our case, we have 50 hidden units. Lets visualize those.\n"
   ]
  },
  {
   "cell_type": "markdown",
   "metadata": {},
   "source": [
    "Let's plot the current weights:\n",
    "<b>tile_raster_images</b> helps in generating an easy to grasp image from a set of samples or weights. It transforms the <b>uw</b> (with one flattened image per row of size 784), into an array (of size $28\\times28$) in which images are reshaped and laid out like tiles on a floor.\n"
   ]
  },
  {
   "cell_type": "code",
   "execution_count": 22,
   "metadata": {},
   "outputs": [
    {
     "data": {
      "image/png": "[encoded data removed]",
      "text/plain": [
       "<Figure size 1800x1800 with 1 Axes>"
      ]
     },
     "metadata": {},
     "output_type": "display_data"
    }
   ],
   "source": [
    "tile_raster_images(X=W.numpy().T, img_shape=(28, 28), tile_shape=(5, 10), tile_spacing=(1, 1))\n",
    "import matplotlib.pyplot as plt\n",
    "from PIL import Image\n",
    "%matplotlib inline\n",
    "image = Image.fromarray(tile_raster_images(X=W.numpy().T, img_shape=(28, 28) ,tile_shape=(5, 10), tile_spacing=(1, 1)))\n",
    "### Plot image\n",
    "plt.rcParams['figure.figsize'] = (18.0, 18.0)\n",
    "imgplot = plt.imshow(image)\n",
    "imgplot.set_cmap('gray')  "
   ]
  },
  {
   "cell_type": "markdown",
   "metadata": {},
   "source": [
    "Each tile in the above visualization corresponds to a vector of connections between a hidden unit and visible layer's units. \n"
   ]
  },
  {
   "cell_type": "markdown",
   "metadata": {},
   "source": [
    "Let's look at one of the learned weights corresponding to one of hidden units for example. In this particular square, the gray color represents weight = 0, and the whiter it is, the more positive the weights are (closer to 1). Conversely, the darker pixels are, the more negative the weights. The positive pixels will increase the probability of activation in hidden units (after multiplying by input/visible pixels), and negative pixels will decrease the probability of a unit hidden to be 1 (activated). So, why is this important?  So we can see that this specific square (hidden unit) can detect a feature (e.g. a \"/\" shape) and if it exists in the input.\n"
   ]
  },
  {
   "cell_type": "code",
   "execution_count": 23,
   "metadata": {},
   "outputs": [
    {
     "data": {
      "image/png": "[encoded data removed]",
      "text/plain": [
       "<Figure size 400x400 with 1 Axes>"
      ]
     },
     "metadata": {},
     "output_type": "display_data"
    }
   ],
   "source": [
    "from PIL import Image\n",
    "image = Image.fromarray(tile_raster_images(X =W.numpy().T[10:11], img_shape=(28, 28),tile_shape=(1, 1), tile_spacing=(1, 1)))\n",
    "### Plot image\n",
    "plt.rcParams['figure.figsize'] = (4.0, 4.0)\n",
    "imgplot = plt.imshow(image)\n",
    "imgplot.set_cmap('gray')  "
   ]
  },
  {
   "cell_type": "markdown",
   "metadata": {},
   "source": [
    "Let's look at the reconstruction of an image now. Imagine that we have a destructed image of figure 3. Lets see if our trained network can fix it:\n",
    "\n",
    "First we plot the image:\n"
   ]
  },
  {
   "cell_type": "code",
   "execution_count": 24,
   "metadata": {},
   "outputs": [
    {
     "name": "stdout",
     "output_type": "stream",
     "text": [
      "--2024-04-04 08:12:25--  https://ibm.box.com/shared/static/vvm1b63uvuxq88vbw9znpwu5ol380mco.jpg\n",
      "Resolving ibm.box.com (ibm.box.com)... 74.112.186.144, 74.112.186.144\n",
      "Connecting to ibm.box.com (ibm.box.com)|74.112.186.144|:443... connected.\n",
      "HTTP request sent, awaiting response... 301 Moved Permanently\n",
      "Location: /public/static/vvm1b63uvuxq88vbw9znpwu5ol380mco.jpg [following]\n",
      "--2024-04-04 08:12:25--  https://ibm.box.com/public/static/vvm1b63uvuxq88vbw9znpwu5ol380mco.jpg\n",
      "Reusing existing connection to ibm.box.com:443.\n",
      "HTTP request sent, awaiting response... 301 Moved Permanently\n",
      "Location: https://ibm.ent.box.com/public/static/vvm1b63uvuxq88vbw9znpwu5ol380mco.jpg [following]\n",
      "--2024-04-04 08:12:26--  https://ibm.ent.box.com/public/static/vvm1b63uvuxq88vbw9znpwu5ol380mco.jpg\n",
      "Resolving ibm.ent.box.com (ibm.ent.box.com)... 74.112.186.144, 74.112.186.144\n",
      "Connecting to ibm.ent.box.com (ibm.ent.box.com)|74.112.186.144|:443... connected.\n",
      "HTTP request sent, awaiting response... 302 Found\n",
      "Location: https://public.boxcloud.com/d/1/b1!UXqcElPgliHVb05O2Z-UQiaF56QaSj3ysEAIlvaSrALyJa9skLrjvuQ4TrBkGqfcqClsSzuhjZ4duMtm6_cyd9E3g3cJAoeAS9jH8Ag0RRvKjTo0Q8MOGSkCoWgH2_J2ay7o7jy26ffc1PXzyD6WoVQpRo0Pe9Qlbzc9HQSx7XW9FtwtgGPU-iWrVDvje2k5Wkedd20Nww3NuduZC_ZrGgy0XZIvYmRh-w1dwV8HZeeA3W0SQghLKiRxygh1Ocx50e08e_0NFH_qxIQqWmoQrAaGLVHyNATdwGDugAdLJZWjyBIo953LevEAdbfzhO25N14Xmla81sQ7lM5q22vQ8eIQ9Bsmj3gof1xshj3tu2Go2TGO93dGZe_idi4L2Fj2y3PaWVTQFQRDqmwkxWoK3CEgY9kL2LFBtTVh4MGNfmlHCt_LbNZteVwlBFwyve3IjNQlnBjCaPtEmtITxDFWDk6YGDBeQp0OmjfeZpe3Q0_wJ1XYx7lSibve71reoKckgiV0Z_QNelmCk5_wisWiRhqnwLtct5lNDzyjKxY4eGfHuIv9dUwRJ4zkrOrZ9sKCNoPKL_hr1e5V7UN_LBmfBuwEsNo-ZQPBmO2mXoJ0kN8iNEvF7u1thL0Kya57_Kkff90mU5vLimZQnz8W8xnse3y6AIEwbxxwrKu0a2r6FJTiGQeddg75A6-9JUQntJhBmAhyIAVL0GZshVZnHk6NkeZuR296XGk6i7bdhL5VHMl2qFnw5GRdX4b58MXsdidrVENIs-B3-gY6cID9a_aBEZ04ukKkuNi8_1fknx2JTLJAAEMdJDlvDFCT6vfKHE8MBfuZstjeKRJSswhp0cCDIBgM2K2vu3EW83xWRPaOM5DpWMPS2Ih5Le5h-6pniebK-ZLWrE__xsM-T5rZsg0tejEnXzozyVr4MS0WI3jzTlcygygasYJf88lAKuLu62bU9jhh1iJmq6bfAJClyPKqj5Evb_86Bav1b6uyzLD51GA1wHotTvaDnnWolzkCcF7tMjZLze7yHNSIzw3EuSS-3um6f8RTUbDsHN9mj72JTRtlavBEUEiVu3Gh7E1NGuYITf14gS5wxrxdfU2if-pSgjxdP3THpcl9yfQw4d5wEC8XOfYKBmxOyaUAQRwfXCXFT4Umir9r9olZ-NBkML8NsAaio6nYeFDp8JLVcsWpb46-AQIA6tcGW8uRt_2OWSkR9-sFd8t1UK_-efw9i9SOZG62rdqrxD9DtWsziMuPkwXHC1QzLIfgd-8hGmCttG0d9SeVn3OzRJVmYW7iw6RowHscgCMy6zsvAr-zYZJdSSy8GXPtjZO47LeDRKFpG063q3_senPU5TW4Vj6JoeMxVnCyWDX5u4eoLfEmJw2iyw9hhLp4TvLx-k6yg6fEoM6FQcpjWlGrCJD4bTLX/download [following]\n",
      "--2024-04-04 08:12:27--  https://public.boxcloud.com/d/1/b1!UXqcElPgliHVb05O2Z-UQiaF56QaSj3ysEAIlvaSrALyJa9skLrjvuQ4TrBkGqfcqClsSzuhjZ4duMtm6_cyd9E3g3cJAoeAS9jH8Ag0RRvKjTo0Q8MOGSkCoWgH2_J2ay7o7jy26ffc1PXzyD6WoVQpRo0Pe9Qlbzc9HQSx7XW9FtwtgGPU-iWrVDvje2k5Wkedd20Nww3NuduZC_ZrGgy0XZIvYmRh-w1dwV8HZeeA3W0SQghLKiRxygh1Ocx50e08e_0NFH_qxIQqWmoQrAaGLVHyNATdwGDugAdLJZWjyBIo953LevEAdbfzhO25N14Xmla81sQ7lM5q22vQ8eIQ9Bsmj3gof1xshj3tu2Go2TGO93dGZe_idi4L2Fj2y3PaWVTQFQRDqmwkxWoK3CEgY9kL2LFBtTVh4MGNfmlHCt_LbNZteVwlBFwyve3IjNQlnBjCaPtEmtITxDFWDk6YGDBeQp0OmjfeZpe3Q0_wJ1XYx7lSibve71reoKckgiV0Z_QNelmCk5_wisWiRhqnwLtct5lNDzyjKxY4eGfHuIv9dUwRJ4zkrOrZ9sKCNoPKL_hr1e5V7UN_LBmfBuwEsNo-ZQPBmO2mXoJ0kN8iNEvF7u1thL0Kya57_Kkff90mU5vLimZQnz8W8xnse3y6AIEwbxxwrKu0a2r6FJTiGQeddg75A6-9JUQntJhBmAhyIAVL0GZshVZnHk6NkeZuR296XGk6i7bdhL5VHMl2qFnw5GRdX4b58MXsdidrVENIs-B3-gY6cID9a_aBEZ04ukKkuNi8_1fknx2JTLJAAEMdJDlvDFCT6vfKHE8MBfuZstjeKRJSswhp0cCDIBgM2K2vu3EW83xWRPaOM5DpWMPS2Ih5Le5h-6pniebK-ZLWrE__xsM-T5rZsg0tejEnXzozyVr4MS0WI3jzTlcygygasYJf88lAKuLu62bU9jhh1iJmq6bfAJClyPKqj5Evb_86Bav1b6uyzLD51GA1wHotTvaDnnWolzkCcF7tMjZLze7yHNSIzw3EuSS-3um6f8RTUbDsHN9mj72JTRtlavBEUEiVu3Gh7E1NGuYITf14gS5wxrxdfU2if-pSgjxdP3THpcl9yfQw4d5wEC8XOfYKBmxOyaUAQRwfXCXFT4Umir9r9olZ-NBkML8NsAaio6nYeFDp8JLVcsWpb46-AQIA6tcGW8uRt_2OWSkR9-sFd8t1UK_-efw9i9SOZG62rdqrxD9DtWsziMuPkwXHC1QzLIfgd-8hGmCttG0d9SeVn3OzRJVmYW7iw6RowHscgCMy6zsvAr-zYZJdSSy8GXPtjZO47LeDRKFpG063q3_senPU5TW4Vj6JoeMxVnCyWDX5u4eoLfEmJw2iyw9hhLp4TvLx-k6yg6fEoM6FQcpjWlGrCJD4bTLX/download\n",
      "Resolving public.boxcloud.com (public.boxcloud.com)... 74.112.186.128, 74.112.186.128\n",
      "Connecting to public.boxcloud.com (public.boxcloud.com)|74.112.186.128|:443... connected.\n",
      "HTTP request sent, awaiting response... 200 OK\n",
      "Length: 24383 (24K) [image/jpeg]\n",
      "Saving to: ‘destructed3.jpg’\n",
      "\n",
      "destructed3.jpg     100%[===================>]  23.81K  --.-KB/s    in 0.003s  \n",
      "\n",
      "2024-04-04 08:12:27 (6.76 MB/s) - ‘destructed3.jpg’ saved [24383/24383]\n",
      "\n"
     ]
    },
    {
     "data": {
      "image/png": "[encoded data removed]",
      "text/plain": [
       "<PIL.JpegImagePlugin.JpegImageFile image mode=RGB size=181x181 at 0x7F1E8D73B410>"
      ]
     },
     "execution_count": 24,
     "metadata": {},
     "output_type": "execute_result"
    }
   ],
   "source": [
    "!wget -O destructed3.jpg  https://ibm.box.com/shared/static/vvm1b63uvuxq88vbw9znpwu5ol380mco.jpg\n",
    "img = Image.open('destructed3.jpg')\n",
    "img"
   ]
  },
  {
   "cell_type": "markdown",
   "metadata": {},
   "source": [
    "Now let's pass this image through the neural net:\n"
   ]
  },
  {
   "cell_type": "code",
   "execution_count": 25,
   "metadata": {},
   "outputs": [],
   "source": [
    "# convert the image to a 1d numpy array\n",
    "\n",
    "# img.convert('I'): This converts the image (img) to grayscale using the 'I' mode. Grayscale images have only one channel, representing the intensity or brightness of each pixel.\n",
    "# .ravel(): This flattens the 28×28 pixel grid into a 1-dimensional array. This operation converts the 2-dimensional image into a single vector, which is often required for feeding images into machine learning models.\n",
    "sample_case = np.array(img.convert('I').resize((28,28))).ravel().reshape((1, -1))/255.0\n",
    "\n",
    "sample_case = tf.cast(sample_case, dtype=tf.float32) #cast from numPy to tensorFlow."
   ]
  },
  {
   "cell_type": "markdown",
   "metadata": {},
   "source": [
    "Feed the sample case into the network and reconstruct the output:\n"
   ]
  },
  {
   "cell_type": "code",
   "execution_count": 26,
   "metadata": {
    "collapsed": true,
    "jupyter": {
     "outputs_hidden": true
    },
    "tags": []
   },
   "outputs": [
    {
     "name": "stdout",
     "output_type": "stream",
     "text": [
      "Probability nodes in hidden layer: tf.Tensor(\n",
      "[[3.82706616e-03 9.99636829e-01 2.39282791e-02 9.99770343e-01\n",
      "  3.75104299e-13 2.57134509e-08 7.22819513e-11 9.83878076e-01\n",
      "  1.46126904e-18 4.70409767e-10 8.80514672e-12 9.99087036e-01\n",
      "  4.73018875e-14 2.42570394e-07 9.99633729e-01 1.26321495e-01\n",
      "  5.34765843e-11 1.63277739e-03 2.08333264e-11 9.99529660e-01\n",
      "  6.59858188e-07 9.99938428e-01 1.84171268e-13 9.95681703e-01\n",
      "  1.99664805e-06 9.99999762e-01 2.49857995e-10 9.99763668e-01\n",
      "  1.04012450e-16 1.00000000e+00 1.00000000e+00 4.97175415e-06\n",
      "  3.80512665e-06 5.09376930e-10 9.99767363e-01 1.94857108e-09\n",
      "  9.99997199e-01 9.99855697e-01 1.85694168e-11 7.67160714e-01\n",
      "  3.09442217e-03 1.19694926e-01 9.19427991e-01 9.99923050e-01\n",
      "  9.98058856e-01 5.20360708e-01 7.51090586e-01 2.91878699e-09\n",
      "  9.99957204e-01 8.76606748e-07]], shape=(1, 50), dtype=float32)\n",
      "activated nodes in hidden layer: tf.Tensor(\n",
      "[[0. 1. 0. 1. 0. 0. 0. 1. 0. 0. 0. 1. 0. 0. 1. 0. 0. 0. 0. 1. 0. 1. 0. 1.\n",
      "  0. 1. 0. 1. 0. 1. 1. 0. 0. 0. 1. 0. 1. 1. 0. 1. 0. 0. 1. 1. 1. 1. 1. 0.\n",
      "  1. 0.]], shape=(1, 50), dtype=float32)\n",
      "tf.Tensor(\n",
      "[[1.93373344e-05 2.50789853e-05 7.99959598e-05 4.01256329e-05\n",
      "  6.54960531e-05 5.80901687e-05 5.20395333e-05 3.00248830e-05\n",
      "  4.99991438e-05 3.00248539e-05 9.38747980e-05 2.94303554e-05\n",
      "  4.94783380e-05 3.47950117e-05 5.51339472e-05 4.06435029e-05\n",
      "  6.29280767e-05 4.34674294e-05 4.13476191e-05 2.66297538e-05\n",
      "  2.94303845e-05 1.97279587e-05 3.25254514e-05 3.41930499e-05\n",
      "  7.91999555e-05 4.99990965e-05 4.26067818e-05 3.89397974e-05\n",
      "  5.80902233e-05 6.54960531e-05 5.30907237e-05 5.69400472e-05\n",
      "  6.32447554e-05 4.68996295e-05 3.88574481e-05 3.50510854e-05\n",
      "  4.74193257e-05 4.46929662e-05 6.82117970e-05 8.87663336e-05\n",
      "  9.36360957e-05 5.46539741e-05 6.46187618e-05 7.28451705e-05\n",
      "  8.82907916e-05 8.82078239e-05 9.19225131e-05 4.34692156e-05\n",
      "  1.04912688e-04 5.71794699e-05 3.84211053e-05 3.25893197e-05\n",
      "  7.68594400e-05 4.99991438e-05 5.36242223e-05 3.15641882e-05\n",
      "  6.35604301e-05 4.80387425e-05 8.02033319e-05 7.19735617e-05\n",
      "  5.90363597e-05 3.19415449e-05 5.05532335e-05 5.10792524e-05\n",
      "  5.35068903e-05 5.97070502e-05 1.86397792e-05 2.58702694e-05\n",
      "  2.45007050e-05 9.50576577e-06 3.03424586e-05 2.31067515e-05\n",
      "  2.24310752e-05 1.78971204e-05 1.17851723e-05 1.56710521e-05\n",
      "  2.46713971e-05 7.80836999e-05 1.71246124e-04 6.77292992e-05\n",
      "  6.55448457e-05 6.72344322e-05 2.55856103e-05 5.41631925e-05\n",
      "  3.22018241e-05 3.93311457e-05 7.45706566e-05 4.35937545e-05\n",
      "  5.38202839e-05 7.16665309e-05 5.73772049e-05 4.98682894e-05\n",
      "  4.45304031e-05 3.91223002e-05 2.15471191e-05 2.54409424e-05\n",
      "  2.13061285e-05 4.74280969e-05 4.97965266e-05 1.75431152e-04\n",
      "  2.38561493e-04 2.90678901e-04 3.51026567e-04 2.26404358e-04\n",
      "  9.26767098e-05 1.33555965e-04 7.04024787e-05 1.05763676e-04\n",
      "  7.71616324e-05 4.11842302e-05 5.26925105e-05 4.39042815e-05\n",
      "  4.13476191e-05 3.71280294e-05 4.79973896e-05 8.97357095e-05\n",
      "  5.78310501e-05 1.53705958e-04 2.22344883e-04 3.95604031e-04\n",
      "  2.74225284e-04 3.39389633e-04 6.61764585e-04 1.47273229e-03\n",
      "  4.39015171e-03 2.74419282e-02 6.31949604e-02 2.17536747e-01\n",
      "  3.98994535e-01 4.57285881e-01 4.28447962e-01 4.69655693e-02\n",
      "  1.45917702e-02 3.03237117e-03 2.50255596e-03 7.21963414e-04\n",
      "  3.46007408e-04 1.99955495e-04 5.94475787e-05 3.57857643e-05\n",
      "  4.80387425e-05 5.92636243e-05 3.94083727e-05 7.41507320e-05\n",
      "  1.55518399e-04 2.02615891e-04 5.27760014e-04 8.47359828e-04\n",
      "  1.16454950e-03 2.32998165e-03 1.88754983e-02 3.40958238e-02\n",
      "  2.65817910e-01 4.26180273e-01 7.40310133e-01 9.35312748e-01\n",
      "  9.75272000e-01 9.77236509e-01 9.48920727e-01 6.08594298e-01\n",
      "  1.08136997e-01 2.18639039e-02 5.56769362e-03 1.24074996e-03\n",
      "  7.40007963e-04 2.28718767e-04 2.86498223e-04 6.14095043e-05\n",
      "  4.26067818e-05 4.98386653e-05 5.26429358e-05 1.65541933e-04\n",
      "  4.34967485e-04 7.47618964e-04 1.05401047e-03 2.94605200e-03\n",
      "  3.74843436e-03 1.67719349e-02 5.57438731e-02 4.03874725e-01\n",
      "  6.63322210e-01 8.47832799e-01 9.05795336e-01 9.40440297e-01\n",
      "  9.63282228e-01 9.36521828e-01 9.57508802e-01 8.30879509e-01\n",
      "  5.52886367e-01 1.32967532e-01 1.31228212e-02 6.61793980e-04\n",
      "  4.14383452e-04 1.47171362e-04 1.78107861e-04 5.26264776e-05\n",
      "  6.79366785e-05 8.46927942e-05 1.04731866e-04 5.24947711e-04\n",
      "  1.04860310e-03 1.17098342e-03 2.28521321e-03 3.46993376e-03\n",
      "  8.47408641e-03 5.59314899e-02 2.34428421e-01 8.33321929e-01\n",
      "  9.40798521e-01 9.04708147e-01 8.21007967e-01 7.25563467e-01\n",
      "  7.21918464e-01 5.01430631e-01 7.33073473e-01 8.32210064e-01\n",
      "  9.00008917e-01 2.57439435e-01 1.16938306e-02 8.25965661e-04\n",
      "  1.87721336e-04 7.43760102e-05 9.95504524e-05 4.73226974e-05\n",
      "  5.74086662e-05 4.94473970e-05 2.35406362e-04 4.03069629e-04\n",
      "  1.26431545e-03 2.41584866e-03 1.03956107e-02 1.77424736e-02\n",
      "  4.16589528e-02 1.61287025e-01 6.78601086e-01 8.71187270e-01\n",
      "  9.05308783e-01 6.97716951e-01 4.79048222e-01 2.07295328e-01\n",
      "  5.25770895e-02 9.46401060e-02 3.07713956e-01 7.86926866e-01\n",
      "  8.42403710e-01 4.22234654e-01 3.19931768e-02 1.03216432e-03\n",
      "  7.55554502e-05 5.30914840e-05 8.91610689e-05 4.49531108e-05\n",
      "  6.73055692e-05 5.65484988e-05 2.34696607e-04 4.48929670e-04\n",
      "  2.61568371e-03 5.08768717e-03 1.20535241e-02 1.40415020e-02\n",
      "  4.03558500e-02 1.48619652e-01 5.25291026e-01 6.78666711e-01\n",
      "  4.26877022e-01 1.95334345e-01 1.10502973e-01 3.65574323e-02\n",
      "  2.58755479e-02 2.46975310e-02 5.52989364e-01 8.30142438e-01\n",
      "  9.22853231e-01 5.90097249e-01 3.07941176e-02 9.82561964e-04\n",
      "  1.26533312e-04 7.30517713e-05 1.26242885e-04 5.73748512e-05\n",
      "  6.49920912e-05 4.62966673e-05 1.98611553e-04 3.31156742e-04\n",
      "  1.16147788e-03 3.04290256e-03 3.61032621e-03 8.92254990e-03\n",
      "  2.18841061e-02 7.98202530e-02 1.60112634e-01 1.34968057e-01\n",
      "  1.10710077e-01 5.57962544e-02 4.76031750e-02 3.35145742e-02\n",
      "  4.29028682e-02 1.73978820e-01 7.21676528e-01 8.87035728e-01\n",
      "  8.60797644e-01 6.06414258e-01 1.75585728e-02 5.14442218e-04\n",
      "  1.45367987e-04 7.89244659e-05 1.59445553e-04 5.15319734e-05\n",
      "  4.64803816e-05 6.27064946e-05 2.00316150e-04 6.39366568e-04\n",
      "  1.02580793e-03 2.25418201e-03 1.60765799e-03 3.67954024e-03\n",
      "  5.45527134e-03 1.23271747e-02 1.96552891e-02 2.42341496e-02\n",
      "  3.09492480e-02 1.74123317e-01 1.14787646e-01 9.87819284e-02\n",
      "  4.78378624e-01 6.21109843e-01 8.27102125e-01 9.03733730e-01\n",
      "  7.54533708e-01 1.06401153e-01 4.81522223e-03 9.95927141e-04\n",
      "  7.98028850e-05 1.38764954e-04 1.07849242e-04 3.85871790e-05\n",
      "  4.01114812e-05 6.78569049e-05 1.32776797e-04 2.10163867e-04\n",
      "  2.88971263e-04 7.82277668e-04 1.12538389e-03 1.42390188e-03\n",
      "  2.70995474e-03 4.28838376e-03 9.71579552e-03 1.18216965e-02\n",
      "  2.11255640e-01 5.01933992e-01 8.02713752e-01 8.58707666e-01\n",
      "  7.69405067e-01 7.21614063e-01 8.63845706e-01 6.51439190e-01\n",
      "  3.02410513e-01 4.94663790e-02 3.34105501e-03 2.08945828e-04\n",
      "  6.87794673e-05 8.54235259e-05 1.34074260e-04 5.77926803e-05\n",
      "  5.19783316e-05 3.85992862e-05 1.20444813e-04 1.51813278e-04\n",
      "  2.60843633e-04 1.17545866e-03 1.33020349e-03 2.57136929e-03\n",
      "  2.52360431e-03 6.49806717e-03 3.45098251e-03 4.78818752e-02\n",
      "  3.89220208e-01 8.61268342e-01 9.17538941e-01 8.55916679e-01\n",
      "  8.77219558e-01 8.40389013e-01 7.24741518e-01 6.65092111e-01\n",
      "  1.28409833e-01 1.22026773e-02 2.03055120e-03 1.62495766e-04\n",
      "  6.26756446e-05 4.09172062e-05 7.96986133e-05 4.31684784e-05\n",
      "  7.21289107e-05 4.45808873e-05 7.16188442e-05 1.87025100e-04\n",
      "  3.10027681e-04 6.16393518e-04 4.91727726e-04 1.03974435e-03\n",
      "  1.33655930e-03 4.25411575e-03 7.63717480e-03 1.49909720e-01\n",
      "  8.00630867e-01 8.97873282e-01 8.32011938e-01 8.17045510e-01\n",
      "  8.64722908e-01 8.39108229e-01 7.70926714e-01 2.91356534e-01\n",
      "  5.20474426e-02 7.98803195e-03 6.77917094e-04 1.93647880e-04\n",
      "  4.53576686e-05 7.89276237e-05 5.40635956e-05 4.65879930e-05\n",
      "  4.87810139e-05 5.59288019e-05 9.58086966e-05 2.20512156e-04\n",
      "  3.95420648e-04 9.48801171e-04 1.79076265e-03 9.94711882e-04\n",
      "  1.62637723e-03 3.13127041e-03 1.38246790e-02 6.20799623e-02\n",
      "  3.07072550e-01 5.01582682e-01 6.28579378e-01 5.79689860e-01\n",
      "  6.57676339e-01 8.67351592e-01 7.64244556e-01 2.89806843e-01\n",
      "  3.09096891e-02 3.60530871e-03 6.20882260e-04 1.48315012e-04\n",
      "  3.35481309e-05 4.60380106e-05 8.06418466e-05 4.34470458e-05\n",
      "  3.74277079e-05 4.96085995e-05 1.68885454e-04 8.19815323e-04\n",
      "  3.68958083e-03 2.92765745e-03 2.40704720e-03 4.59069433e-03\n",
      "  2.65400833e-03 2.65325513e-03 3.84983863e-03 4.24810164e-02\n",
      "  2.48176232e-01 1.67228848e-01 1.16708010e-01 1.43490389e-01\n",
      "  4.99728709e-01 7.67435014e-01 4.93902326e-01 1.17704339e-01\n",
      "  1.16644232e-02 4.56543593e-03 7.78039335e-04 1.93877713e-04\n",
      "  5.78215077e-05 2.69800294e-05 7.56576119e-05 5.22809787e-05\n",
      "  6.16821271e-05 4.70599261e-05 1.84013756e-04 2.04227096e-03\n",
      "  1.03868730e-02 3.25789116e-03 3.20749683e-03 6.25841226e-03\n",
      "  1.53356092e-03 1.12865935e-03 1.18426536e-03 5.76876197e-03\n",
      "  1.92648657e-02 3.47445533e-02 5.94155081e-02 3.80364545e-02\n",
      "  1.75024033e-01 5.24854541e-01 4.65249330e-01 1.58294395e-01\n",
      "  7.91818742e-03 7.11893430e-03 9.62089747e-04 4.76128364e-04\n",
      "  1.98071430e-04 5.15889551e-05 9.97537136e-05 5.73321850e-05\n",
      "  4.28632338e-05 6.60687147e-05 3.31247342e-04 5.21137984e-03\n",
      "  2.95736603e-02 2.10194234e-02 2.22047381e-02 1.01226103e-02\n",
      "  1.16445171e-03 4.31823282e-04 5.39455970e-04 1.82691496e-03\n",
      "  3.21688969e-03 8.81791674e-03 2.50575617e-02 3.45623121e-02\n",
      "  2.74535149e-01 6.23667717e-01 4.77738082e-01 1.39418900e-01\n",
      "  1.24623291e-02 1.09676020e-02 2.06141290e-03 1.62455183e-03\n",
      "  2.76561303e-04 5.38310633e-05 7.39910247e-05 4.65296107e-05\n",
      "  4.99404305e-05 4.81802781e-05 7.82956660e-04 2.58647464e-02\n",
      "  8.00785422e-02 7.86943287e-02 5.29989079e-02 5.25457375e-02\n",
      "  7.75683252e-03 4.21127677e-03 1.99436536e-03 1.94118940e-03\n",
      "  5.80370100e-03 9.94768273e-03 2.17242688e-02 9.40822735e-02\n",
      "  2.83895344e-01 6.12401426e-01 4.47567880e-01 8.62812847e-02\n",
      "  1.98047273e-02 1.25292893e-02 4.97942930e-03 9.73479822e-04\n",
      "  5.64916176e-04 1.12682785e-04 9.82434867e-05 5.95221791e-05\n",
      "  2.50790090e-05 4.82597861e-05 1.59916899e-03 1.09800451e-01\n",
      "  3.13560635e-01 2.85287023e-01 2.81890839e-01 4.37832743e-01\n",
      "  1.33917093e-01 2.23573968e-02 9.29317530e-03 1.37181710e-02\n",
      "  3.16225067e-02 2.59538125e-02 2.26327553e-01 5.77103734e-01\n",
      "  5.82450807e-01 5.51060081e-01 3.06154549e-01 4.66730148e-02\n",
      "  1.79711245e-02 9.25868377e-03 3.17112682e-03 1.66469195e-03\n",
      "  5.84991649e-04 1.62067736e-04 9.10293675e-05 7.10565946e-05\n",
      "  6.95513590e-05 5.75123486e-05 1.19844230e-03 1.05539426e-01\n",
      "  4.41941410e-01 6.78833663e-01 7.54532039e-01 7.17569292e-01\n",
      "  6.37392521e-01 2.23739102e-01 7.20646828e-02 1.22256987e-01\n",
      "  1.04741737e-01 2.86980003e-01 7.34493673e-01 8.21606219e-01\n",
      "  5.56841731e-01 4.50690806e-01 7.59889483e-02 3.02081611e-02\n",
      "  6.99966121e-03 2.79234955e-03 1.29161251e-03 9.44796426e-04\n",
      "  3.58997495e-04 1.66884623e-04 8.77866623e-05 4.94202395e-05\n",
      "  2.55716095e-05 6.18565973e-05 8.60327447e-04 5.04191183e-02\n",
      "  3.83735359e-01 6.96208477e-01 8.34216952e-01 9.57056522e-01\n",
      "  8.99692893e-01 7.59154737e-01 6.17455125e-01 7.43169904e-01\n",
      "  8.02089930e-01 8.67379487e-01 8.01416099e-01 6.93403184e-01\n",
      "  3.46534491e-01 6.27105236e-02 2.10734271e-02 1.58934854e-02\n",
      "  2.78959214e-03 1.53112120e-03 2.76037870e-04 2.86860100e-04\n",
      "  4.32690053e-04 1.66838799e-04 5.58148895e-05 2.83864538e-05\n",
      "  6.23019514e-05 4.80387898e-05 2.19193840e-04 6.74492260e-03\n",
      "  7.60617405e-02 4.70867962e-01 6.72241390e-01 9.04405713e-01\n",
      "  8.79716933e-01 9.54274356e-01 9.49839354e-01 9.34122443e-01\n",
      "  7.13200569e-01 6.75637543e-01 4.73785698e-01 1.21031940e-01\n",
      "  2.55880915e-02 8.90203100e-03 3.22050299e-03 9.88554442e-04\n",
      "  1.18072797e-03 5.00676280e-04 2.13160922e-04 3.09138675e-04\n",
      "  2.30845879e-04 9.66956068e-05 3.37336205e-05 4.90091661e-05\n",
      "  4.39042815e-05 9.01941676e-05 7.32319313e-05 2.72603880e-04\n",
      "  3.74796079e-03 4.59455736e-02 2.16904715e-01 3.87322277e-01\n",
      "  5.37680268e-01 5.39995909e-01 7.09479868e-01 3.40210170e-01\n",
      "  1.09980665e-01 4.46398146e-02 3.06541733e-02 2.84161512e-03\n",
      "  6.03377179e-04 2.08040918e-04 4.70580329e-04 2.02873576e-04\n",
      "  1.86434700e-04 7.80015398e-05 9.77132586e-05 8.05407108e-05\n",
      "  1.08251697e-04 6.66777923e-05 3.64186126e-05 4.52412896e-05\n",
      "  8.07997203e-05 3.22018241e-05 3.07445625e-05 4.70100968e-05\n",
      "  1.03616811e-04 5.10461745e-04 1.70049490e-03 1.93247246e-03\n",
      "  9.43627208e-03 5.69093693e-03 3.66397831e-03 1.69633527e-03\n",
      "  5.15720982e-04 8.00262904e-04 2.30172038e-04 5.57349413e-05\n",
      "  4.30679465e-05 1.01014673e-04 6.53943207e-05 1.32746674e-04\n",
      "  5.86122187e-05 5.29307254e-05 6.93008988e-05 8.95004487e-05\n",
      "  4.72337451e-05 5.95899874e-05 3.65516280e-05 4.09361746e-05\n",
      "  2.63647817e-05 7.84120930e-05 3.18814127e-05 4.06849940e-05\n",
      "  8.25678362e-05 2.53482198e-04 5.08402649e-04 4.55254922e-04\n",
      "  2.80079839e-04 3.70729278e-04 3.60592647e-04 2.42549475e-04\n",
      "  9.95578011e-04 3.10737290e-04 1.13140697e-04 4.88583464e-05\n",
      "  5.03873744e-05 3.91607427e-05 5.97659564e-05 6.81850579e-05\n",
      "  3.79509838e-05 5.12979968e-05 5.15804422e-05 7.42438424e-05\n",
      "  6.21556173e-05 2.70444034e-05 3.81687896e-05 3.97263866e-05\n",
      "  5.92636788e-05 6.54960531e-05 5.92636788e-05 8.16118045e-05\n",
      "  5.33014500e-05 5.56837367e-05 4.48333667e-05 1.07448199e-04\n",
      "  1.93067521e-04 2.83626083e-04 8.17347376e-04 6.18031772e-04\n",
      "  3.43184016e-04 3.41826322e-04 1.68224913e-04 7.09678206e-05\n",
      "  1.21493460e-04 2.88402633e-04 1.43052122e-04 4.81311399e-05\n",
      "  5.82567591e-05 4.82067080e-05 7.23669436e-05 3.46588058e-05\n",
      "  4.52412896e-05 3.38527971e-05 5.80902779e-05 4.13476591e-05]], shape=(1, 784), dtype=float32)\n"
     ]
    }
   ],
   "source": [
    "hh0_p = tf.nn.sigmoid(tf.matmul(sample_case, W) + hb)\n",
    "hh0_s = tf.round(hh0_p) #  rounds the elements of the tensor hh0_p to the nearest integer value.\n",
    "\n",
    "print(\"Probability nodes in hidden layer:\" ,hh0_p)\n",
    "print(\"activated nodes in hidden layer:\" ,hh0_s)\n",
    "\n",
    "# reconstruct\n",
    "vv1_p = tf.nn.sigmoid(tf.matmul(hh0_s, tf.transpose(W)) + vb)\n",
    "\n",
    "print(vv1_p)\n",
    "#rec_prob = sess.run(vv1_p, feed_dict={ hh0_s: hh0_s_val, W: prv_w, vb: prv_vb})"
   ]
  },
  {
   "cell_type": "markdown",
   "metadata": {},
   "source": [
    "Here we plot the reconstructed image:\n"
   ]
  },
  {
   "cell_type": "code",
   "execution_count": 27,
   "metadata": {},
   "outputs": [
    {
     "data": {
      "image/png": "[encoded data removed]",
      "text/plain": [
       "<Figure size 400x400 with 1 Axes>"
      ]
     },
     "metadata": {},
     "output_type": "display_data"
    }
   ],
   "source": [
    "img = Image.fromarray(tile_raster_images(X=vv1_p.numpy(), img_shape=(28, 28),tile_shape=(1, 1), tile_spacing=(1, 1)))\n",
    "plt.rcParams['figure.figsize'] = (4.0, 4.0)\n",
    "imgplot = plt.imshow(img)\n",
    "imgplot.set_cmap('gray') "
   ]
  },
  {
   "cell_type": "markdown",
   "metadata": {},
   "source": [
    "<hr>\n",
    "\n",
    "## Want to learn more?\n",
    "\n",
    "Also, you can use __Watson Studio__ to run these notebooks faster with bigger datasets.__Watson Studio__ is IBM’s leading cloud solution for data scientists, built by data scientists. With Jupyter notebooks, RStudio, Apache Spark and popular libraries pre-packaged in the cloud, __Watson Studio__ enables data scientists to collaborate on their projects without having to install anything. Join the fast-growing community of __Watson Studio__ users today with a free account at [Watson Studio](https://cocl.us/ML0120EN_DSX).This is the end of this lesson. Thank you for reading this notebook, and good luck on your studies.\n"
   ]
  },
  {
   "cell_type": "markdown",
   "metadata": {},
   "source": [
    "### Thanks for completing this lesson!\n",
    "\n",
    "Notebook created by: <a href = \"https://ca.linkedin.com/in/saeedaghabozorgi\">Saeed Aghabozorgi</a>\n",
    "\n",
    "Updated to TF 2.X by  <a href=\"https://ca.linkedin.com/in/nilmeier\"> Jerome Nilmeier</a><br />\n"
   ]
  },
  {
   "cell_type": "markdown",
   "metadata": {},
   "source": [
    "### References:\n",
    "https://en.wikipedia.org/wiki/Restricted_Boltzmann_machine  \n",
    "http://deeplearning.net/tutorial/rbm.html  \n",
    "http://www.cs.utoronto.ca/~hinton/absps/netflixICML.pdf<br>\n",
    "http://imonad.com/rbm/restricted-boltzmann-machine/  \n"
   ]
  },
  {
   "cell_type": "markdown",
   "metadata": {},
   "source": [
    "<hr>\n",
    "\n",
    "Copyright &copy; 2018 [Cognitive Class](https://cocl.us/DX0108EN_CC). This notebook and its source code are released under the terms of the [MIT License](https://bigdatauniversity.com/mit-license/).\n"
   ]
  }
 ],
 "metadata": {
  "kernelspec": {
   "display_name": "Python",
   "language": "python",
   "name": "conda-env-python-py"
  },
  "language_info": {
   "codemirror_mode": {
    "name": "ipython",
    "version": 3
   },
   "file_extension": ".py",
   "mimetype": "text/x-python",
   "name": "python",
   "nbconvert_exporter": "python",
   "pygments_lexer": "ipython3",
   "version": "3.7.12"
  }
 },
 "nbformat": 4,
 "nbformat_minor": 4
}
